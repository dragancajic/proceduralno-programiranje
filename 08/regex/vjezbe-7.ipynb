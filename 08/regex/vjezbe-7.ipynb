{
 "cells": [
  {
   "cell_type": "code",
   "execution_count": null,
   "id": "48b18892",
   "metadata": {},
   "outputs": [],
   "source": [
    "# << Р Е Г У Л А Р Н И  И З Р А З И >>\n",
    "\n",
    "# ~ Sadržaj ~\n",
    "\n",
    "# - Raw stringovi\n",
    "# - Funkcije, metode i Match objekti\n",
    "# - Specijalni karakteri i sekvence\n",
    "# - Predstavljanje skupova\n",
    "# - Predstavljanje ponavljanja\n",
    "# - Grupisanje i grupe\n",
    "# - Pozicija unutar stringa\n",
    "# - Izbor\n",
    "# - moduli `re`, `os` i `getopt`"
   ]
  },
  {
   "cell_type": "code",
   "execution_count": 1,
   "id": "04c09f23",
   "metadata": {},
   "outputs": [
    {
     "name": "stdout",
     "output_type": "stream",
     "text": [
      "Fića\tTea\n",
      "Jela\n",
      "Fića\\tTea\\nSaša\n"
     ]
    }
   ],
   "source": [
    "# Raw stringovi\n",
    "\n",
    "# Stringovi mogu sadržavati specijalne karaktere kao što su \\n, \\t, \\\\, \\\", ...\n",
    "\n",
    "# Raw stringovi tretiraju ovakve karaktere kao bilo koji drugi karakter (nemaju specijalno značenje)!\n",
    "\n",
    "# Npr.\n",
    "string = \"Fića\\tTea\\nJela\"\n",
    "print(string)\n",
    "# Fića    Tea\n",
    "# Jela\n",
    "\n",
    "raw_string = r\"Fića\\tTea\\nSaša\"\n",
    "print(raw_string)\n",
    "# Fića\\tTea\\nSaša"
   ]
  },
  {
   "cell_type": "code",
   "execution_count": 2,
   "id": "e3445520",
   "metadata": {},
   "outputs": [],
   "source": [
    "# ~ Funkcije i metode ~\n",
    "\n",
    "# Za kreiranje izraza koristi se funkcija `compile()`.\n",
    "\n",
    "import re\n",
    "\n",
    "sablon_rijec = re.compile(r\"rijec\")\n",
    "sablon_od = re.compile(r\"od\")\n",
    "tekst = \"rijeci od cetiri slova\""
   ]
  },
  {
   "cell_type": "code",
   "execution_count": 2,
   "id": "2249ea84",
   "metadata": {},
   "outputs": [
    {
     "name": "stdout",
     "output_type": "stream",
     "text": [
      "<re.Match object; span=(0, 5), match='rijec'>\n",
      "None\n"
     ]
    }
   ],
   "source": [
    "# Za pretragu stringa koriste se metode `match()`, `search()`, `finditer()`.\n",
    "\n",
    "# Match objekti | metoda `match()`\n",
    "\n",
    "# Match objekti sadrže informacije o rezultatima pretrage.\n",
    "# Ukoliko nema pogotka, umesto Match objekta povratna vrijednost je `None`.\n",
    "\n",
    "import re\n",
    "\n",
    "sablon_rijec = re.compile(r\"rijec\")\n",
    "sablon_od = re.compile(r\"od\")\n",
    "tekst = \"rijeci sa cetiri slova\"\n",
    "\n",
    "print(sablon_rijec.match(tekst))  # <re.Match object; span=(0, 5), match='rijec'>\n",
    "print(sablon_od.match(tekst))     # None"
   ]
  },
  {
   "cell_type": "code",
   "execution_count": 3,
   "id": "156e8089",
   "metadata": {},
   "outputs": [
    {
     "name": "stdout",
     "output_type": "stream",
     "text": [
      "<re.Match object; span=(0, 5), match='rijec'>\n",
      "<re.Match object; span=(7, 9), match='od'>\n"
     ]
    }
   ],
   "source": [
    "# Metoda `search()`\n",
    "\n",
    "# Pretražuje string da bi ispitala da li sadrži patern/шаблон\n",
    "# (traži PRVO POJAVLJIVANJE paterna/шаблона u stringu)!\n",
    "\n",
    "sablon_rijec = re.compile(r\"rijec\")\n",
    "sablon_od = re.compile(r\"od\")\n",
    "tekst = \"rijeci od cetiri slova\"\n",
    "\n",
    "print(sablon_rijec.search(tekst))  # <re.Match object; span=(0, 5), match='rijec'>\n",
    "print(sablon_od.search(tekst))     # <re.Match object; span=(7, 9), match='od'>"
   ]
  },
  {
   "cell_type": "code",
   "execution_count": 10,
   "id": "c34f3723",
   "metadata": {},
   "outputs": [
    {
     "name": "stdout",
     "output_type": "stream",
     "text": [
      "<re.Match object; span=(0, 5), match='rijec'>\n",
      "<re.Match object; span=(25, 30), match='rijec'>\n"
     ]
    }
   ],
   "source": [
    "# Metoda `finditer()`\n",
    "\n",
    "# Proširen je `tekst` za pretragu, radi lakšeg razumijevanja metoda\n",
    "# `finditer()`, koji vraća SVA POJAVLJIVANJA određene riječi u stringu.\n",
    "\n",
    "sablon_rijec = re.compile(r\"rijec\")\n",
    "sablon_od = re.compile(r\"od\")\n",
    "tekst = \"rijeci od cetiri slova i rijeci od tri slova\"\n",
    "\n",
    "for pogodak in sablon_rijec.finditer(tekst):\n",
    "    print(pogodak)\n"
   ]
  },
  {
   "cell_type": "code",
   "execution_count": 11,
   "id": "4fbfb473",
   "metadata": {},
   "outputs": [
    {
     "name": "stdout",
     "output_type": "stream",
     "text": [
      "ovu\n",
      "(9, 12)\n"
     ]
    }
   ],
   "source": [
    "# ~ Metode `start()`, `end()` i `span()` ~\n",
    "\n",
    "# Metode `start()`, `end()` i `span()` vraćaju\n",
    "# informacije o poziciji pogotka unutar stringa.\n",
    "\n",
    "import re\n",
    "\n",
    "sablon = re.compile(r\"ovu\")\n",
    "tekst = \"pronadji ovu rijec\"\n",
    "pogodak = sablon.search(tekst)  # <re.Match object; span=(9, 12), match='ovu'>\n",
    "\n",
    "if pogodak:\n",
    "    pocetak = pogodak.start()   # 9\n",
    "    kraj = pogodak.end()        # 12\n",
    "    print(tekst[pocetak:kraj])  # ovu\n",
    "    print(pogodak.span())       # (9, 12) √\n"
   ]
  },
  {
   "cell_type": "code",
   "execution_count": 13,
   "id": "1f894c41",
   "metadata": {},
   "outputs": [
    {
     "name": "stdout",
     "output_type": "stream",
     "text": [
      "Riječ se javlja na poziciji: 5\n",
      "Riječ se javlja na poziciji: 21\n"
     ]
    }
   ],
   "source": [
    "# Zadatak 1\n",
    "\n",
    "# Na programskom jeziku Python sastaviti program koji ispisuje pozicije pojavljivanja riječi u tekstu.\n",
    "\"\"\"\n",
    "Unesite tekst: nebo je plavo, trava je zelena\n",
    "Unesite reč za pretragu: je\n",
    "Riječ se javlja na poziciji 5\n",
    "Riječ se javlja na poziciji 21\n",
    "\"\"\"\n",
    "\n",
    "import re\n",
    "\n",
    "text = input(\"Unesite tekst: \")\n",
    "pattern = re.compile(input(\"Unesite riječ za pretragu: \"))\n",
    "\n",
    "for match in pattern.finditer(text):\n",
    "    print(\"Riječ se javlja na poziciji: {}\".format(match.start()))\n"
   ]
  },
  {
   "cell_type": "code",
   "execution_count": null,
   "id": "c2b955ef",
   "metadata": {},
   "outputs": [],
   "source": [
    "# ~ Specijalni karakteri i sekvence ~\n",
    "\n",
    "# Specijalni karakteri su:  \\ . ? * + ^ $ | ( ) [ ] { }\n",
    "# Specijalne sekvence su: \\d \\D \\w \\W \\s \\S \\A \\Z \\B \\b"
   ]
  },
  {
   "cell_type": "code",
   "execution_count": null,
   "id": "40bf0dc1",
   "metadata": {},
   "outputs": [],
   "source": [
    "# ■ Predstavljanje skupova ■\n",
    "\n",
    "# » KREIRANJE SKUPA karaktera:\n",
    "# Za kreiranje se koriste specijalni karakteri `[ ]` unutar kojih se navode elementi skupa.\n",
    "\n",
    "# Primjeri - Opis\n",
    "# ~-~-~-~-~-~-~-~\n",
    "# [abc]    - Karakteri se mogu NABRAJATI POJEDINAČNO, a navode se jedan za drugim bez razmaka.\n",
    "# [a-c]    - Može se ZADATI OPSEG karaktera korišćenjem znaka `–`.\n",
    "# [^abc]   - Mogu se izabrati samo KARAKTERI koji se nalaze VAN SKUPA korišćenjem znaka ^ na početku skupa\n",
    "# [.?*+(}] - Specijalni karakteri NEMAJU specijalno ZNAČENJE UNUTAR skupa!"
   ]
  },
  {
   "cell_type": "code",
   "execution_count": null,
   "id": "27ee08c3",
   "metadata": {},
   "outputs": [],
   "source": [
    "# » Korišćenje postojećih skupova √\n",
    "\n",
    "# .  - Bilo koji karakter sem novog reda\n",
    "# \\d - Bilo koja decimalna cifra [0-9]\n",
    "# \\D - Sve što nije decimalna cifra [^0-9]\n",
    "# \\w - Bilo koji word karakter [a-zA-Z0-9_]\n",
    "# \\W - Sve što nije word karakter [^a-zA-Z0-9_]\n",
    "# \\s - Bilo koji whitespace karakter [ \\t\\n\\r\\f\\v]\n",
    "# \\S - Sve što nije whitespace karakter [^ \\t\\n\\r\\f\\v]\n",
    "\n",
    "# Napomena:\n",
    "# \\. - Sama tačka, ne znači bilo koji karakter (analogno za ostale specijalne karaktere)"
   ]
  },
  {
   "cell_type": "code",
   "execution_count": 18,
   "id": "f998a756",
   "metadata": {},
   "outputs": [
    {
     "name": "stdout",
     "output_type": "stream",
     "text": [
      "Godine izbora u zvanje: 2019, 2017, 2016, 2015\n"
     ]
    }
   ],
   "source": [
    "# Zadatak 2\n",
    "\n",
    "\"\"\"Na programskom jeziku Python sastaviti funkciju koja pronalazi godine izbora u zvanje\n",
    "saradnika u nastavi i ispisuje ih na standardnom izlazu sortirane u opadajućem poretku.\n",
    "Npr.\n",
    "\n",
    "Milica, 2015\n",
    "Aleksa, 2019\n",
    "Jovan, 2017\n",
    "Vladimir, 2016\n",
    "\"\"\"\n",
    "\n",
    "import re\n",
    "\n",
    "def find_and_sort(filename):\n",
    "    with open(filename) as file:\n",
    "        text = file.read()\n",
    "    pattern = re.compile(r\"\\d\\d\\d\\d\")\n",
    "    #pattern = re.compile(r\"[\\d]{4}\")\n",
    "    years = pattern.findall(text)\n",
    "    years.sort(reverse=True)\n",
    "    return years\n",
    "\n",
    "filename = input(\"Unesite naziv datoteke: \")  # izbor.txt\n",
    "years = find_and_sort(filename)\n",
    "print(\"Godine izbora u zvanje:\", \", \".join(years))\n",
    "\n",
    "# Da li se mogao napraviti kompaktniji regularni izraz? √"
   ]
  },
  {
   "cell_type": "code",
   "execution_count": null,
   "id": "71a82ed8",
   "metadata": {},
   "outputs": [],
   "source": [
    "# ■ Predstavljanje ponavljanja ■\n",
    "\n",
    "# » Kreiranje ponavljanja karaktera:\n",
    "# Za kreiranje se koriste specijalni karakteri `{ }` unutar kojih se navodi BROJ PONAVLJANJA.\n",
    "\n",
    "# Primjer - Opis\n",
    "# ~-~-~-~-~-~-~-\n",
    "# {m}     - Prethodno navedeni karakter se ponavlja tačno m puta.\n",
    "# {m,n}   - Prethodno navedeni karakter se ponavlja najmanje m, a najviše n puta.\n",
    "# {m,}    - Prethodno navedeni karakter se ponavlja najmanje m puta, ne postoji gornja granica.\n",
    "# {,n}    - Prethodno navedeni karakter se ponavlja najviše n puta, a ne postoji donja granica."
   ]
  },
  {
   "cell_type": "code",
   "execution_count": null,
   "id": "4a8eefcd",
   "metadata": {},
   "outputs": [],
   "source": [
    "# » Korišćenje postojećih ponavljanja:\n",
    "# Koriste se specijalni karakteri `?`,`*` i `+`.\n",
    "\n",
    "# Specijalni karakter - Ekvivalentno sa - Opis\n",
    "# ~-~-~-~-~-~-~-~-~-~-~-~-~-~-~-~-~-~-~-~-~-~-\n",
    "#           ?         -      {0,1}      - Prethodno navedeni karakter se pojavljuje jednom ili nijednom.\n",
    "#           *         -      {0,}       - Prethodno navedeni karakter se ponavlja proizvoljan broj puta;\n",
    "#                                         ne postoje ni gornja ni donja granica.\n",
    "#           +         -      {1,}       - Prethodno navedeni karakter se ponavlja najmanje jedanput, a\n",
    "#                                         ne postoji gornja granica."
   ]
  },
  {
   "cell_type": "code",
   "execution_count": 21,
   "id": "0bb16fbc",
   "metadata": {},
   "outputs": [
    {
     "name": "stdout",
     "output_type": "stream",
     "text": [
      "<re.Match object; span=(0, 8), match='abababab'>\n"
     ]
    }
   ],
   "source": [
    "# ■ Grupisanje i grupe ■\n",
    "\n",
    "# Za grupisanje se koriste specijalni karakteri `( )`.\n",
    "\n",
    "import re\n",
    "\n",
    "tekst = \"abababab\"\n",
    "sablon = re.compile(r\"(ab)*\")\n",
    "\n",
    "print(sablon.match(tekst))"
   ]
  },
  {
   "cell_type": "code",
   "execution_count": 22,
   "id": "ac7342ff",
   "metadata": {},
   "outputs": [
    {
     "name": "stdout",
     "output_type": "stream",
     "text": [
      "ab\n",
      "ab\n",
      "a\n",
      "b\n",
      "('a', 'b')\n",
      "('a', 'b')\n"
     ]
    }
   ],
   "source": [
    "# Primjer 1\n",
    "\n",
    "tekst = \"abababab\"\n",
    "sablon = re.compile(r\"(a)(b)\")\n",
    "\n",
    "pogodak = sablon.match(tekst)\n",
    "\n",
    "print(pogodak.group())      # ab\n",
    "print(pogodak.group(0))     # ab\n",
    "print(pogodak.group(1))     # a\n",
    "print(pogodak.group(2))     # b\n",
    "print(pogodak.group(1, 2))  # ('a', 'b')\n",
    "print(pogodak.groups())     # ('a', 'b')"
   ]
  },
  {
   "cell_type": "code",
   "execution_count": 23,
   "id": "f241b6e6",
   "metadata": {},
   "outputs": [
    {
     "name": "stdout",
     "output_type": "stream",
     "text": [
      "ab\n",
      "ab\n",
      "b\n"
     ]
    }
   ],
   "source": [
    "# Primjer 2\n",
    "\n",
    "tekst = \"abababab\"\n",
    "sablon = re.compile(r\"(a(b))\")\n",
    "\n",
    "pogodak = sablon.match(tekst)\n",
    "\n",
    "print(pogodak.group(0))  # ab\n",
    "print(pogodak.group(1))  # ab\n",
    "print(pogodak.group(2))  # b"
   ]
  },
  {
   "cell_type": "code",
   "execution_count": 3,
   "id": "e2d61f69",
   "metadata": {},
   "outputs": [],
   "source": [
    "# Zadatak 3\n",
    "\n",
    "# Na programskom jeziku Python sastaviti funkciju koja učitanoj datoteci mijenja format\n",
    "# u kom su zapisani podaci o studentu.\n",
    "\"\"\"\n",
    "Npr.\n",
    "\n",
    "162/2018, Dorotea Pavlović\n",
    "28/2019, Filip Ristić\n",
    "413/2019, Jelena Petrović\n",
    "\n",
    "Mijenja se u:\n",
    "\n",
    "18/162, Pavlović Dorotea\n",
    "19/28, Ristić Filip\n",
    "19/413, Petrović Jelena\n",
    "\"\"\"\n",
    "\n",
    "import re\n",
    "\n",
    "def rewrite(filename):\n",
    "    with open(filename, \"r+\", encoding=\"UTF-8\") as file:\n",
    "        text = file.read()\n",
    "        pattern = re.compile(r\"(\\d{1,4})/\\d{2}(\\d{2}),\\s+(\\w+)\\s+(\\w+)\")  # групиши посљедње цифре године!\n",
    "        new_text = pattern.sub(r\"\\2/\\1, \\4 \\3\", text)  # промијени позицију група: 1, 2, 3, 4 <--- A-HA! √\n",
    "        file.seek(0)\n",
    "        #file.truncate()\n",
    "        file.write(new_text)\n",
    "filename = input(\"Unesite naziv datoteke: \")  # studenti.txt\n",
    "rewrite(filename)  # TODO: пронађи грешку у коду! :wink:\n",
    "\n",
    "# Na linku ispod možete pročitati više o `r+`, `w+` i `a+`.\n",
    "# link: https://mkyong.com/python/python-difference-between-r-w-and-a-in-open/#what-is-means-in-open"
   ]
  },
  {
   "cell_type": "code",
   "execution_count": null,
   "id": "1a08cfa5",
   "metadata": {},
   "outputs": [],
   "source": [
    "# ■ Pozicija unutar stringa ■\n",
    "\n",
    "# Može se eksplicitno tražiti određena pozicija unutar stringa:\n",
    "\n",
    "# Specijalni karakter ili sekvenca - Opis\n",
    "# ---------------------------------|-----\n",
    "#           ^                      - POČETAK stringa\n",
    "#           $                      - KRAJ stringa\n",
    "#           \\A                     - POČETAK stringa\n",
    "#           \\Z                     - KRAJ stringa\n",
    "#           \\b                     - PRAZAN string na početku ILI na kraju riječi\n",
    "#           \\B                     - PRAZAN string svuda osim na početku i na kraju riječi"
   ]
  },
  {
   "cell_type": "code",
   "execution_count": 5,
   "id": "a6ed63b5",
   "metadata": {},
   "outputs": [
    {
     "name": "stdout",
     "output_type": "stream",
     "text": [
      "<re.Match object; span=(0, 1), match='a'>\n",
      "<re.Match object; span=(0, 1), match='b'>\n",
      "None\n"
     ]
    }
   ],
   "source": [
    "# ■ Izbor ■ `ILI` опција \"pipe character\" `|`\n",
    "\n",
    "# Za izbor se koristi specijalni karakter `|`.\n",
    "\n",
    "# Primjer 1\n",
    "\n",
    "import re\n",
    "\n",
    "sablon = re.compile(r\"a|b\")\n",
    "\n",
    "print(sablon.match(\"a\"))  # <re.Match object; span=(0, 1), match='a'>\n",
    "print(sablon.match(\"b\"))  # <re.Match object; span=(0, 1), match='b'>\n",
    "print(sablon.match(\"c\"))  # None"
   ]
  },
  {
   "cell_type": "code",
   "execution_count": 6,
   "id": "57180b9a",
   "metadata": {},
   "outputs": [
    {
     "name": "stdout",
     "output_type": "stream",
     "text": [
      "<re.Match object; span=(0, 1), match='a'>\n",
      "<re.Match object; span=(0, 1), match='b'>\n",
      "<re.Match object; span=(0, 1), match='c'>\n"
     ]
    }
   ],
   "source": [
    "# Primjer 2\n",
    "\n",
    "sablon = re.compile(r\"a|b|c\")\n",
    "\n",
    "print(sablon.match(\"a\"))  # <re.Match object; span=(0, 1), match='a'>\n",
    "print(sablon.match(\"b\"))  # <re.Match object; span=(0, 1), match='b'>\n",
    "print(sablon.match(\"c\"))  # <re.Match object; span=(0, 1), match='c'>"
   ]
  },
  {
   "cell_type": "code",
   "execution_count": 7,
   "id": "88dfb573",
   "metadata": {},
   "outputs": [
    {
     "name": "stdout",
     "output_type": "stream",
     "text": [
      "<re.Match object; span=(0, 2), match='ac'>\n",
      "<re.Match object; span=(0, 2), match='bc'>\n",
      "None\n",
      "None\n",
      "None\n"
     ]
    }
   ],
   "source": [
    "# Primjer 3\n",
    "\n",
    "sablon = re.compile(r\"(a|b)c\")\n",
    "\n",
    "print(sablon.match(\"ac\"))   # <re.Match object; span=(0, 2), match='ac'>\n",
    "print(sablon.match(\"bc\"))   # <re.Match object; span=(0, 2), match='bc'>\n",
    "print(sablon.match(\"abc\"))  # None\n",
    "print(sablon.match(\"ab\"))   # None\n",
    "print(sablon.match(\"c\"))    # None"
   ]
  },
  {
   "cell_type": "code",
   "execution_count": 8,
   "id": "03b3cfbf",
   "metadata": {},
   "outputs": [
    {
     "name": "stdout",
     "output_type": "stream",
     "text": [
      "dora.gmail.com\n",
      "5a5a@yahoo.com\n",
      "a\"b(c)d,e:f;g<h>i[j\\k]l@etf.rs\n",
      "aleksandar@mail.mp3\n"
     ]
    }
   ],
   "source": [
    "# Zadatak 4\n",
    "\n",
    "\"\"\"\n",
    "Na programskom jeziku Python napisati program koji pronalazi i ispisuje sve nekorektne e-mail adrese\n",
    "iz zadatate datoteke. Smatrati da korektna adresa ima oblik local@domain pri čemu važi sljedeće:\n",
    " - Oba dijela adrese (local i domain) smiju da sadrže slova, brojeve, tačke, crtice i pluseve;\n",
    " - Oba dijela adrese moraju da počinju slovom;\n",
    " - Prvi dio (local) ne smije da ima više od 64 karaktera;\n",
    " - Drugi dio (domain) mora da se završi tačkom praćenom sa dva ili tri slova.\n",
    "\"\"\"\n",
    "'''\n",
    "Primjer datoteke:\n",
    "\n",
    "fica@student.etf.rs\n",
    "dora.gmail.com\n",
    "5a5a@yahoo.com\n",
    "pavlovic.tea@student.etf.bg.ac.rs\n",
    "i++@yahoo.com\n",
    "jela_petrovic@gmail.com\n",
    "a\"b(c)d,e:f;g<h>i[j\\k]l@etf.rs\n",
    "d@j.edu\n",
    "f121p-h0m3@dva+2.mkv\n",
    "aleksandar@mail.mp3\n",
    "a123456785678901234567890123436++@etf.bg.ac.rs\n",
    "'''\n",
    "\n",
    "import re\n",
    "\n",
    "pattern = re.compile(r\"^[a-zA-Z][\\w.+-]{0,63}@[a-zA-Z][\\w.+-]*.[a-zA-Z]{2,3}$\")\n",
    "\n",
    "with open(\"mejlovi.txt\") as mails:\n",
    "    for mail in mails:\n",
    "        if not pattern.match(mail):\n",
    "            print(mail.strip())\n"
   ]
  },
  {
   "cell_type": "code",
   "execution_count": 9,
   "id": "61f9fc85",
   "metadata": {},
   "outputs": [
    {
     "name": "stdout",
     "output_type": "stream",
     "text": [
      "HTML dokument paragraf Jednostavan Drugi Prvi\n"
     ]
    }
   ],
   "source": [
    "# Zadatak 5 - Domaći\n",
    "\n",
    "# Na programskom jeziku Python sastaviti program koji izdvaja različite riječi iz HTML datoteke.\n",
    "# Ignorisati sadržaj zadat između oznaka `<>`.\n",
    "\"\"\"\n",
    "Primjer HTML datoteke:\n",
    "\n",
    "<html>\n",
    "    <head>\n",
    "        <title>Jednostavan HTML dokument</title>\n",
    "    </head>\n",
    "    <body>\n",
    "        <p> Prvi paragraf.</p>\n",
    "        <p>Drugi paragraf!</p>\n",
    "    </body>\n",
    "</html>\n",
    "\"\"\"\n",
    "\n",
    "import re\n",
    "\n",
    "with open(\"html.txt\") as html:\n",
    "    content = html.read()\n",
    "\n",
    "pattern = re.compile(r\"<[^<>]+>|[\\s,.!?]+\")\n",
    "words = pattern.split(content)\n",
    "words = set(words)\n",
    "words.remove(\"\")\n",
    "\n",
    "print(*words, sep=\" \")"
   ]
  }
 ],
 "metadata": {
  "kernelspec": {
   "display_name": "Python 3 (ipykernel)",
   "language": "python",
   "name": "python3"
  },
  "language_info": {
   "codemirror_mode": {
    "name": "ipython",
    "version": 3
   },
   "file_extension": ".py",
   "mimetype": "text/x-python",
   "name": "python",
   "nbconvert_exporter": "python",
   "pygments_lexer": "ipython3",
   "version": "3.10.13"
  }
 },
 "nbformat": 4,
 "nbformat_minor": 5
}
