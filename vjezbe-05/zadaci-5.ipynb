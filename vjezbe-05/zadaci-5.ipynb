{
 "cells": [
  {
   "cell_type": "code",
   "execution_count": 24,
   "id": "36bf1c30",
   "metadata": {},
   "outputs": [
    {
     "name": "stdout",
     "output_type": "stream",
     "text": [
      "Originalna lista: [2, 4, -6, -9, 11, -12, 14, -5, 17]\n",
      "Suma negativnih brojeva je:  -32\n",
      "Suma pozitivnih brojeva je:  48\n"
     ]
    }
   ],
   "source": [
    "#Zadatak 1\n",
    "\n",
    "#Napisati program koji racuna sumu pozitivnih i sumu\n",
    "#negativnih brojeva u datoj listi.\n",
    "\n",
    "brojevi = [2, 4, -6, -9, 11, -12, 14, -5, 17]\n",
    "print(\"Originalna lista:\",brojevi)\n",
    "\n",
    "suma_negativnih = list(filter(lambda br: br<0, brojevi))\n",
    "suma_pozitivnih = list(filter(lambda br: br>0, brojevi))\n",
    "\n",
    "print(\"Suma negativnih brojeva je: \", sum(suma_negativnih))\n",
    "print(\"Suma pozitivnih brojeva je: \", sum(suma_pozitivnih))"
   ]
  },
  {
   "cell_type": "code",
   "execution_count": 14,
   "id": "6146cd73",
   "metadata": {},
   "outputs": [
    {
     "name": "stdout",
     "output_type": "stream",
     "text": [
      "Originalna lista:\n",
      "[12, 0, None, 23, None, -55, 234, 89, None, 0, 6, -12]\n",
      "\n",
      "Lista nakon što se uklone vrijednosti None:\n",
      "[12, 0, 23, -55, 234, 89, 0, 6, -12]\n"
     ]
    }
   ],
   "source": [
    "#Zadatak 2\n",
    "\n",
    "# Koristeci funkciju filter izbaciti vrijednosti\n",
    "#None iz date liste.\n",
    "\n",
    "\n",
    "def bez_none(lista):\n",
    "    rezultat = filter(lambda v: v is not None, lista)\n",
    "    return list(rezultat)\n",
    "\n",
    "lista = [12, 0, None, 23, None, -55, 234, 89, None, 0, 6, -12]\n",
    "print(\"Originalna lista:\")\n",
    "print(lista)\n",
    "print(\"\\nLista nakon sto se uklone vrijednosti None:\")\n",
    "print(bez_none(lista))"
   ]
  },
  {
   "cell_type": "code",
   "execution_count": 15,
   "id": "833294da",
   "metadata": {},
   "outputs": [
    {
     "name": "stdout",
     "output_type": "stream",
     "text": [
      "Originalna lista:\n",
      "[3, 4, 5, 8, 0, 3, 8, 5, 0, 3, 1, 5, 2, 3, 4, 2]\n",
      "\n",
      "Broj pojavljivanja svakog elementa:\n",
      "{3: 4, 4: 2, 5: 3, 8: 2, 0: 2, 1: 1, 2: 2}\n"
     ]
    }
   ],
   "source": [
    "#Zadatak 3 \n",
    "\n",
    "#Napisati program koji ispisuje element liste i broj\n",
    "#pojavljivanja tog elementa u listi.\n",
    "\n",
    "def broj_pojavljivanja(lista):\n",
    "    rezultat = dict(map(lambda el  : (el, list(lista).count(el)), lista))\n",
    "    return rezultat\n",
    "lista = [3,4,5,8,0,3,8,5,0,3,1,5,2,3,4,2]\n",
    "print(\"Originalna lista:\")\n",
    "print(lista)\n",
    "print(\"\\nBroj pojavljivanja svakog elementa:\")\n",
    "print(broj_pojavljivanja(lista))"
   ]
  },
  {
   "cell_type": "code",
   "execution_count": 16,
   "id": "e995d8db",
   "metadata": {},
   "outputs": [
    {
     "name": "stdout",
     "output_type": "stream",
     "text": [
      "\n",
      "Original lista:\n",
      "['Crvena', 'Zelena', 'Plava', 'Bijela', 'Crna']\n",
      "\n",
      "Obrnute riječi:\n",
      "['anevrC', 'aneleZ', 'avalP', 'alejiB', 'anrC']\n"
     ]
    }
   ],
   "source": [
    "#Zadatak 4\n",
    "\n",
    "#Napisati program koji obrce redoslijed slova u listi stringova.\n",
    "\n",
    "def reverse_string(lista):\n",
    "    rezultat = list(map(lambda x: \"\".join(reversed(x)), lista))\n",
    "    return rezultat\n",
    "\n",
    "boje = [\"Crvena\", \"Zelena\", \"Plava\", \"Bijela\", \"Crna\"]\n",
    "print(\"\\nOriginal lista:\")\n",
    "print(boje)\n",
    "print(\"\\nObrnute rijeci:\")\n",
    "print(reverse_string(boje))"
   ]
  },
  {
   "cell_type": "code",
   "execution_count": 21,
   "id": "971c2fe0",
   "metadata": {},
   "outputs": [
    {
     "name": "stdout",
     "output_type": "stream",
     "text": [
      "Original liste:\n",
      "Lista 1: [1, 2, 3, 4, 5, 6, 7, 8, 9, 10]\n",
      "Lista 2: [2, 4, 6, 8]\n",
      "\n",
      "Uklonjeni svi elementi iz 'lista1' koji su prisutni u 'lista2':\n",
      "[1, 3, 5, 7, 9, 10]\n"
     ]
    }
   ],
   "source": [
    "#Zadatak 5\n",
    "\n",
    "#Napisati program koji brise elemente iz date liste koji \n",
    "#se nalaze u drugoj datoj listi.\n",
    "\n",
    "def funkcija(lista1, lista2):\n",
    "    rezultat = list(filter(lambda x: x not in lista2, lista1))\n",
    "    return rezultat\n",
    "lista1 = [1,2,3,4,5,6,7,8,9,10]\n",
    "lista2 = [2,4,6,8]\n",
    "print(\"Original liste:\")\n",
    "print(\"Lista 1:\", lista1)\n",
    "print(\"Lista 2:\", lista2)\n",
    "print(\"\\nUklonjeni svi elementi iz 'lista1' koji su prisutni u 'lista2':\")\n",
    "\n",
    "print(funkcija(lista1, lista2))"
   ]
  },
  {
   "cell_type": "code",
   "execution_count": 23,
   "id": "7ab9456e",
   "metadata": {},
   "outputs": [
    {
     "name": "stdout",
     "output_type": "stream",
     "text": [
      "Original lista:\n",
      "[[0], [1, 3], [5, 7], [9, 11], [13, 15, 17]]\n",
      "\n",
      "Lista sa maksimalnom duzinom:\n",
      "(3, [13, 15, 17])\n",
      "\n",
      "Lista sa minimalnom duzinom:\n",
      "(1, [0])\n"
     ]
    }
   ],
   "source": [
    "#Zadatak 6\n",
    "\n",
    "#Data je lista listi. Napisati program koji ispisuje \n",
    "#listu sa najmanjom i listu sa najvecom duzinom.\n",
    "\n",
    "def max_duzina(lista):\n",
    "    max_duzina_liste = max(len(x) for x in lista )   \n",
    "    max_lista = max(lista, key = lambda i: len(i))    \n",
    "    return(max_duzina_liste, max_lista)\n",
    "    \n",
    "def min_duzina(lista):\n",
    "    min_duzina_liste = min(len(x) for x in lista )  \n",
    "    min_lista = min(lista, key = lambda i: len(i))\n",
    "    return(min_duzina_liste, min_lista)\n",
    "      \n",
    "lista1 = [[0], [1, 3], [5, 7], [9, 11], [13, 15, 17]]\n",
    "print(\"Original lista:\")\n",
    "print(lista1)\n",
    "print(\"\\nLista sa maksimalnom duzinom:\")\n",
    "print(max_duzina(lista1))\n",
    "print(\"\\nLista sa minimalnom duzinom:\")\n",
    "print(min_duzina(lista1))"
   ]
  },
  {
   "cell_type": "code",
   "execution_count": 2,
   "id": "fae2ca58",
   "metadata": {},
   "outputs": [
    {
     "name": "stdout",
     "output_type": "stream",
     "text": [
      "Ponedjeljak je prvi dan u sedmici.\n"
     ]
    }
   ],
   "source": [
    "#Zadatak 7\n",
    "# Primjenom funkcije filter i reduce, \n",
    "# izdvojiti iz pocetne liste recenica one recenice \n",
    "#cija je duzina najduze rijeci veca od 7.\n",
    "\n",
    "from functools import reduce\n",
    "\n",
    "def funkcija(string):\n",
    "    lista=string.split()\n",
    "    rezultat = max(len(i) for i in lista)\n",
    "    return rezultat\n",
    "\n",
    "\n",
    "recenice = ['Ponedjeljak je prvi dan u sedmici.', 'Ja sam Milica.', 'Danas je utorak']\n",
    "recenice = filter(lambda rec: rec if funkcija(rec)>7 else '', recenice)\n",
    "\n",
    "for i in recenice:\n",
    "    print(i)"
   ]
  },
  {
   "cell_type": "code",
   "execution_count": 4,
   "id": "95cd5f11",
   "metadata": {},
   "outputs": [
    {
     "name": "stdout",
     "output_type": "stream",
     "text": [
      "3\n"
     ]
    }
   ],
   "source": [
    "#Zadatak 8\n",
    "\n",
    "#Izracunati broj neparnih brojeva u listi koristeci reduce:\n",
    "from functools import reduce\n",
    "    \n",
    "brojevi = [22, 12, 13, 32, 11, 44, 94, 78, 99]\n",
    "rezultat = reduce(lambda acc, num: acc+1 if num % 2 else acc, brojevi, 0)\n",
    " \n",
    "print (rezultat)"
   ]
  },
  {
   "cell_type": "code",
   "execution_count": null,
   "id": "56ae79d5",
   "metadata": {},
   "outputs": [],
   "source": [
    "#Zadatak 9\n",
    "\n",
    "#Za listu brojeva izracunati zbir cifara svih brojeva.\n",
    "\n",
    "\n",
    "from functools import reduce\n",
    "\n",
    "lista = [10, 15, 13, 20, 11, 13]\n",
    "\n",
    "def cifre(n):\n",
    "    lista=[]\n",
    "    if n==0:\n",
    "        return [0]\n",
    "    while n>0:\n",
    "        c=n%10\n",
    "        n//=10\n",
    "        lista.insert(0,c)\n",
    "    return lista\n",
    "\n",
    "rezultat = list([cifre(i) for i in lista])\n",
    "suma = sum([sum(i) for i in rezultat])\n",
    "   \n",
    "print (suma)"
   ]
  }
 ],
 "metadata": {
  "kernelspec": {
   "display_name": "Python 3 (ipykernel)",
   "language": "python",
   "name": "python3"
  },
  "language_info": {
   "codemirror_mode": {
    "name": "ipython",
    "version": 3
   },
   "file_extension": ".py",
   "mimetype": "text/x-python",
   "name": "python",
   "nbconvert_exporter": "python",
   "pygments_lexer": "ipython3",
   "version": "3.9.7"
  }
 },
 "nbformat": 4,
 "nbformat_minor": 5
}
