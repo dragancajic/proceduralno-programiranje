{
 "cells": [
  {
   "cell_type": "raw",
   "id": "c61cddb8",
   "metadata": {},
   "source": [
    "# Komentari u Pajtonu predstavljaju dio koda koji nije čitan od strane interpretera i ne utiču na kod.\n",
    "\"\"\"\n",
    "Komentari objašnjavaju kako određeni dio koda programa radi ako to u prvom trenutku nije očigledno.\n",
    "Oni takođe poboljšavaju čitljivost programa i pomažu u ispravljanju eventualnih grešaka mnogo brže.\n",
    "\"\"\""
   ]
  },
  {
   "cell_type": "raw",
   "id": "6caaf040",
   "metadata": {},
   "source": [
    "Instalacija Pajtona je veoma jednostavna - https://www.python.org/downloads/\n",
    "*IDLE ugrađeno okruženje\n",
    "*Spyder naprednije (preporučljivo) okruženje\n"
   ]
  },
  {
   "cell_type": "code",
   "execution_count": 4,
   "id": "efa01950",
   "metadata": {},
   "outputs": [
    {
     "name": "stdout",
     "output_type": "stream",
     "text": [
      "Zdravo svima!\n"
     ]
    }
   ],
   "source": [
    "# Da počnemo :)\n",
    "print(\"Zdravo svima!\")"
   ]
  },
  {
   "cell_type": "code",
   "execution_count": 5,
   "id": "506df05c",
   "metadata": {},
   "outputs": [
    {
     "name": "stdout",
     "output_type": "stream",
     "text": [
      "5\n",
      "3\n",
      "8\n"
     ]
    }
   ],
   "source": [
    "# Promjenljive su osnovni objekti podataka kojima se manipuliše u programu.\n",
    "# Sve promjenljive u Pajtonu se moraju deklarisati. Time se za promjenljivu u memoriji rezerviše potreban prostor.\n",
    "x = 5\n",
    "y = 3\n",
    "# Deklarisanje promenljivih u Pajtonu se sastoji iz imena promjenljive (identifikatora)\n",
    "# poslije čega slijedi operator dodjele (=), a zatim slijedi inicijalna vrijednost.\n",
    "\n",
    "print(x)\n",
    "print(y)\n",
    "print(x + y)\n",
    "# Vježbanje sličnih primjera"
   ]
  },
  {
   "cell_type": "code",
   "execution_count": 14,
   "id": "885cad89",
   "metadata": {},
   "outputs": [
    {
     "name": "stdout",
     "output_type": "stream",
     "text": [
      "Hello World 20 15.6 1j ['apple', 'banana', 'cherry'] ('apple', 'banana', 'cherry') range(0, 6) {'name': 'John', 'age': 36} {'apple', 'cherry', 'banana'} frozenset({'apple', 'cherry', 'banana'}) True b'Hello' bytearray(b'\\x00\\x00\\x00\\x00\\x00') <memory at 0x7efcdc296340>\n",
      "\n",
      "<class 'dict'>\n"
     ]
    }
   ],
   "source": [
    "# Tipovi podataka u Pajtonu\n",
    "\n",
    "a = \"Hello World\"  # str\n",
    "b = 20             # int\n",
    "c = 15.6           # float\n",
    "d = 1j             # complex\n",
    "e = [\"apple\", \"banana\", \"cherry\"]             # list\n",
    "f = (\"apple\", \"banana\", \"cherry\")             # tuple\n",
    "g = range(6)                                  # range\n",
    "h = {\"name\": \"John\", \"age\": 36}               # dict\n",
    "i = {\"apple\", \"banana\", \"cherry\"}             # set\n",
    "j = frozenset({\"apple\", \"banana\", \"cherry\"})  # frozenset\n",
    "k = True                  # bool\n",
    "l = b\"Hello\"              # bytes\n",
    "m = bytearray(5)          # bytearray\n",
    "n = memoryview(bytes(5))  # memoryview\n",
    "\n",
    "print (a, b, c, d, e, f, g, h, i, j, k, l, m, n)\n",
    "print()         # prazna linija\n",
    "print(type(h))  # ispisuje tip od h --> <class 'dict'>\n"
   ]
  },
  {
   "cell_type": "code",
   "execution_count": 12,
   "id": "ac71fa46",
   "metadata": {},
   "outputs": [
    {
     "name": "stdout",
     "output_type": "stream",
     "text": [
      "1.0\n",
      "2\n",
      "(1+0j)\n",
      "<class 'float'>\n",
      "<class 'int'>\n",
      "<class 'complex'>\n"
     ]
    }
   ],
   "source": [
    "# BROJEVI\n",
    "\n",
    "# Konverzija - iz jednog tipa u drugi\n",
    "\n",
    "x = 1    # int\n",
    "y = 2.8  # float\n",
    "z = 1j   # complex\n",
    "\n",
    "# Konverzija - int u float:\n",
    "a = float(x)\n",
    "\n",
    "# Konverzija - float u int:\n",
    "b = int(y)\n",
    "\n",
    "# Konverzija - int u complex:\n",
    "c = complex(x)\n",
    "\n",
    "print(a)\n",
    "print(b)\n",
    "print(c)\n",
    "\n",
    "print(type(a))\n",
    "print(type(b))\n",
    "print(type(c))\n",
    "# Vježbanje sličnih primjera"
   ]
  },
  {
   "cell_type": "code",
   "execution_count": 13,
   "id": "3cf45fd3",
   "metadata": {},
   "outputs": [
    {
     "name": "stdout",
     "output_type": "stream",
     "text": [
      "1\n",
      "2\n",
      "3\n",
      "---------------\n",
      "1.0\n",
      "2.8\n",
      "3.0\n",
      "4.2\n",
      "---------------\n",
      "s1\n",
      "2\n",
      "3.0\n"
     ]
    }
   ],
   "source": [
    "# Python Casting\n",
    "\n",
    "x = int(1)    # x će biti 1\n",
    "y = int(2.8)  # y će biti 2\n",
    "z = int(\"3\")  # z će biti 3\n",
    "\n",
    "print(x)\n",
    "print(y)\n",
    "print(z)\n",
    "print(\"---------------\")\n",
    "\n",
    "x = float(1)     # x će biti 1.0\n",
    "y = float(2.8)   # y će biti 2.8\n",
    "z = float(\"3\")   # z će biti 3.0\n",
    "w = float(\"4.2\") # w će biti 4.2\n",
    "\n",
    "print(x)\n",
    "print(y)\n",
    "print(z)\n",
    "print(w)\n",
    "print(\"---------------\")\n",
    "\n",
    "x = str(\"s1\")  # x će biti 's1'\n",
    "y = str(2)     # y će biti '2'\n",
    "z = str(3.0)   # z će biti '3.0'\n",
    "\n",
    "print(x)\n",
    "print(y)\n",
    "print(z)\n",
    "# Vježbanje sličnih primjera"
   ]
  },
  {
   "cell_type": "code",
   "execution_count": 22,
   "id": "a2f73f7f",
   "metadata": {},
   "outputs": [
    {
     "name": "stdout",
     "output_type": "stream",
     "text": [
      "7.0\n",
      "7.0\n",
      "-2\n",
      "-3\n"
     ]
    }
   ],
   "source": [
    "print(17.0 - 10)   # Rezultat je  7.0 -- automatski se 10 konvertuje u float tip i onda se računa razlika\n",
    "print(17.0 - 10.)  # 10. je jedan od načina zapisa float tipa brojeva, ali nije standardan zapis\n",
    "print(-17 // 10)   # šta se ispisuje? (-2) -> -1.7 -> -2 < -1.7 --> rezultat: (-2) √\n",
    "# Kada koristimo operator // nad negativnim brojevima gleda se donji cio dio rezultata\n",
    "# Kada koristimo operator % nad negativnim brojevima rezultat je takođe manji cijeli broj i znak\n",
    "# rezultata odgovara drugom operandu!\n",
    "print(17 % -10)    # (-2) * (-10) + (-3) = 20 - 3 = 17 --> rezultat: (-3) √"
   ]
  },
  {
   "cell_type": "raw",
   "id": "f2553af3",
   "metadata": {},
   "source": [
    "Prioritet operatora od najvišeg do najnižeg:\n",
    "\n",
    "** (stepenovanje),\n",
    "- (negacija),\n",
    "*, /, //, % (množenje, dijeljenje, cjelobrojno dijeljenje i modul),\n",
    "+, -(sabiranje i oduzimanje).\n",
    "\n",
    "Koristiti zagrade za promjenu prioriteta u programu.\n",
    "Rad sa REPL-om provježbati - replit.com"
   ]
  },
  {
   "cell_type": "code",
   "execution_count": 38,
   "id": "57605a8c",
   "metadata": {},
   "outputs": [
    {
     "name": "stdout",
     "output_type": "stream",
     "text": [
      "Zdravo\n",
      "    Lorem ipsum dolor sit amet,\n",
      "consectetur adipiscing elit,\n",
      "sed    do eiusmod tempor incididunt\n",
      "ut labore et dolore magna aliqua.\n",
      "d\n",
      "15\n"
     ]
    }
   ],
   "source": [
    "# STRING\n",
    "\n",
    "a = \"Zdravo\"\n",
    "print(a)\n",
    "\n",
    "# Stringovi sa više linija teksta\n",
    "a = \"\"\"    Lorem ipsum dolor sit amet,\n",
    "consectetur adipiscing elit,\n",
    "sed    do eiusmod tempor incididunt\n",
    "ut labore et dolore magna aliqua.\"\"\"  # može da se navede i sa jednostrukim navodnicima!\n",
    "print(a)\n",
    "\n",
    "# Stringovi kao nizovi\n",
    "a = \"Zdravo svima!\"\n",
    "print(a[1])  # 'd'\n",
    "\n",
    "# Petlja kroz string - naknadno će biti objašnjenje petlje\n",
    "# for x in \"rijec\":\n",
    "#     print(x)\n",
    "\n",
    "# Dužina stringa\n",
    "a1 = \"Zdravo svima!!!\"\n",
    "print(len(a1))\n",
    "# Vježbanje sličnih primjera"
   ]
  },
  {
   "cell_type": "code",
   "execution_count": 39,
   "id": "a067d0c6",
   "metadata": {
    "scrolled": true
   },
   "outputs": [
    {
     "name": "stdout",
     "output_type": "stream",
     "text": [
      "True\n",
      "False\n",
      "False\n",
      "rav\n",
      "Zdrav\n",
      "ravo svima\n",
      "svi\n",
      "ZDRAVO SVIMA!\n",
      "zdravo svima!\n",
      "Zdravo svima!\n",
      "Adravo svima!\n",
      "['Zdravo', ' svima.']\n",
      "Zdravo, svima.\n"
     ]
    }
   ],
   "source": [
    "# Provjeravanje stringa\n",
    "\n",
    "txt = \"Provjera da li određena riječ pripada stringu.\"\n",
    "print(\"riječ\" in txt)      # True --> vraća True ili False, može i not in\n",
    "print(\"riječ\" not in txt)  # False\n",
    "print(\"rijec\" in txt)      # False\n",
    "\n",
    "# Rezanje stringa\n",
    "\n",
    "b = \"Zdravo svima\"\n",
    "print(b[2:5])\n",
    "print(b[:5])     # rezanje od početka\n",
    "print(b[2:])     # rezanje do kraja\n",
    "print(b[-5:-2])  # negativni indeksi\n",
    "\n",
    "# Modifikacija stringova\n",
    "\n",
    "print(a.upper())  # sva slova velika\n",
    "print(a.lower())  # sva slova mala\n",
    "print(a.strip())  # brišu se prazni prostori na početku i na kraju\n",
    "print(a.replace(\"Z\", \"A\"))  # zamjena karaktera\n",
    "a = \"Zdravo, svima.\"\n",
    "print(a.split(\",\"))  # vraća ['Zdravo', ' svima.']\n",
    "print(a)\n",
    "# Vježbanje sličnih primjera"
   ]
  },
  {
   "cell_type": "code",
   "execution_count": 41,
   "id": "0417dda0",
   "metadata": {},
   "outputs": [
    {
     "name": "stdout",
     "output_type": "stream",
     "text": [
      "Zdravosvima\n",
      "Zdravo svima\n",
      "Moje ime je Milica i ja imam 26 godina.\n",
      "Želim 3 komada artikla koji ima šifru 567 za 49.00 KM.\n"
     ]
    }
   ],
   "source": [
    "# Konkatenacija\n",
    "\n",
    "a = \"Zdravo\"\n",
    "b = \"svima\"\n",
    "c = a + b  # može i c = a + \" \" + b\n",
    "print(c)\n",
    "c = a + \" \" + b\n",
    "print(c)\n",
    "\n",
    "# Format metod\n",
    "\n",
    "godine = 26\n",
    "txt = \"Moje ime je Milica i ja imam {} godina.\"\n",
    "print(txt.format(godine))  # ovaj metod može da uzima neograničen broj argumenata\n",
    "\n",
    "kolicina = 3\n",
    "sifra = 567\n",
    "cijena = 49\n",
    "narudzba = \"Želim {0} komada artikla koji ima šifru {1} za {2:.2f} KM.\"\n",
    "print(narudzba.format(kolicina, sifra, cijena))\n",
    "\n",
    "# Pogledati specijalne karaktere i metode za str kao i dodatne materijale za prve vježbe!\n",
    "# Vježbanje sličnih primjera"
   ]
  },
  {
   "cell_type": "code",
   "execution_count": 15,
   "id": "ed872f7e",
   "metadata": {},
   "outputs": [],
   "source": [
    "# Promjenljive - dozvoljena imena\n",
    "\n",
    "myvar = \"Dozvoljeno\"\n",
    "my_var = \"Dozvoljeno\"\n",
    "_my_var = \"Dozvoljeno\"\n",
    "myVar = \"Dozvoljeno\"\n",
    "MYVAR = \"Dozvoljeno\"\n",
    "myvar2 = \"Dozvoljeno\"\n",
    "\n",
    "# Promjenljive - nedozvoljena imena\n",
    "\n",
    "# 2myvar = \"Nije dozvoljeno\"\n",
    "# my-var = \"Nije dozvoljeno\"\n",
    "# my var = \"Nije dozvoljeno\""
   ]
  },
  {
   "cell_type": "code",
   "execution_count": 42,
   "id": "b6078c88",
   "metadata": {},
   "outputs": [
    {
     "name": "stdout",
     "output_type": "stream",
     "text": [
      "Prvi\n",
      "Drugi\n",
      "Treći\n",
      "Prvi\n",
      "Prvi\n",
      "Prvi\n",
      "Python je sjajan\n"
     ]
    }
   ],
   "source": [
    "# Promjenljive su case-sensitive\n",
    "# Promjenljive možemo navoditi i na sljedeće načine\n",
    "\n",
    "x, y, z = \"Prvi\", \"Drugi\", \"Treći\"\n",
    "print(x)\n",
    "print(y)\n",
    "print(z)\n",
    "\n",
    "x = y = z = \"Prvi\"\n",
    "print(x)\n",
    "print(y)\n",
    "print(z)\n",
    "\n",
    "x = \"sjajan\"\n",
    "print(\"Python je \" + x)\n",
    "\n",
    "# Nešto kasnije će biti riječi o globalnim promjenljvim"
   ]
  },
  {
   "cell_type": "code",
   "execution_count": 43,
   "id": "c2036229",
   "metadata": {},
   "outputs": [
    {
     "name": "stdout",
     "output_type": "stream",
     "text": [
      "Unesite Vaše ime: Milica\n",
      "Vaše ime je: Milica\n"
     ]
    }
   ],
   "source": [
    "# Unos sa tastature\n",
    "\n",
    "ime = input(\"Unesite Vaše ime: \")\n",
    "print(\"Vaše ime je: \" + ime)\n",
    "\n",
    "# Vježbanje sličnih primjera"
   ]
  },
  {
   "cell_type": "raw",
   "id": "7781c77a",
   "metadata": {},
   "source": [
    "Rad sa stringovima"
   ]
  },
  {
   "cell_type": "code",
   "execution_count": 47,
   "id": "cd45d9f0",
   "metadata": {},
   "outputs": [
    {
     "name": "stdout",
     "output_type": "stream",
     "text": [
      "string = ovo je neki string\n",
      "--------------------------------------------------\n",
      "metoda count\n",
      "--------------------------------------------------\n",
      "string.count(\"e\"): 2\n"
     ]
    }
   ],
   "source": [
    "# Metoda count\n",
    "\n",
    "string = \"ovo je neki string\"\n",
    "\n",
    "n1 = string.count(\"e\")\n",
    "\n",
    "print(\"string =\", string)\n",
    "print('-' * 50)\n",
    "\n",
    "print(\"metoda count\")\n",
    "print('-' * 50)\n",
    "print('string.count(\"e\"):', n1)\n",
    "\n",
    "# Vježbanje sličnih primjera"
   ]
  },
  {
   "cell_type": "code",
   "execution_count": 51,
   "id": "10ada4c3",
   "metadata": {},
   "outputs": [
    {
     "name": "stdout",
     "output_type": "stream",
     "text": [
      "metoda index\n",
      "--------------------------------------------------\n",
      "string.index('j'): 4\n"
     ]
    },
    {
     "ename": "ValueError",
     "evalue": "substring not found",
     "output_type": "error",
     "traceback": [
      "\u001b[0;31m---------------------------------------------------------------------------\u001b[0m",
      "\u001b[0;31mValueError\u001b[0m                                Traceback (most recent call last)",
      "\u001b[0;32m/tmp/ipykernel_10116/2778487009.py\u001b[0m in \u001b[0;36m<module>\u001b[0;34m\u001b[0m\n\u001b[1;32m      4\u001b[0m \u001b[0mprint\u001b[0m\u001b[0;34m(\u001b[0m\u001b[0;34m'-'\u001b[0m \u001b[0;34m*\u001b[0m \u001b[0;36m50\u001b[0m\u001b[0;34m)\u001b[0m\u001b[0;34m\u001b[0m\u001b[0;34m\u001b[0m\u001b[0m\n\u001b[1;32m      5\u001b[0m \u001b[0mprint\u001b[0m\u001b[0;34m(\u001b[0m\u001b[0;34m\"string.index('j'):\"\u001b[0m\u001b[0;34m,\u001b[0m \u001b[0mstring\u001b[0m\u001b[0;34m.\u001b[0m\u001b[0mindex\u001b[0m\u001b[0;34m(\u001b[0m\u001b[0;34m'j'\u001b[0m\u001b[0;34m)\u001b[0m\u001b[0;34m)\u001b[0m\u001b[0;34m\u001b[0m\u001b[0;34m\u001b[0m\u001b[0m\n\u001b[0;32m----> 6\u001b[0;31m \u001b[0mprint\u001b[0m\u001b[0;34m(\u001b[0m\u001b[0;34m\"string.index('A'):\"\u001b[0m\u001b[0;34m,\u001b[0m \u001b[0mstring\u001b[0m\u001b[0;34m.\u001b[0m\u001b[0mindex\u001b[0m\u001b[0;34m(\u001b[0m\u001b[0;34m'A'\u001b[0m\u001b[0;34m)\u001b[0m\u001b[0;34m)\u001b[0m\u001b[0;34m\u001b[0m\u001b[0;34m\u001b[0m\u001b[0m\n\u001b[0m\u001b[1;32m      7\u001b[0m \u001b[0;31m# Zbog čega baca izuzetak u prethodnoj liniji koda?\u001b[0m\u001b[0;34m\u001b[0m\u001b[0;34m\u001b[0m\u001b[0m\n\u001b[1;32m      8\u001b[0m \u001b[0;31m# - Karakter 'A' se ne nalazi u datom stringu!\u001b[0m\u001b[0;34m\u001b[0m\u001b[0;34m\u001b[0m\u001b[0m\n",
      "\u001b[0;31mValueError\u001b[0m: substring not found"
     ]
    }
   ],
   "source": [
    "# Metoda index\n",
    "\n",
    "print(\"metoda index\")\n",
    "print('-' * 50)\n",
    "print(\"string.index('j'):\", string.index('j'))\n",
    "print(\"string.index('A'):\", string.index('A'))\n",
    "# Zbog čega baca izuzetak u prethodnoj liniji koda?\n",
    "# - Karakter 'A' se ne nalazi u datom stringu!\n",
    "# - ValueError: substring not found\n",
    "\n",
    "# Vježbanje sličnih primjera"
   ]
  },
  {
   "cell_type": "code",
   "execution_count": 55,
   "id": "c032dd1b",
   "metadata": {},
   "outputs": [
    {
     "name": "stdout",
     "output_type": "stream",
     "text": [
      "metoda find\n",
      "--------------------------------------------------\n",
      "string.find('j'): 4\n",
      "string.find('B'): -1\n",
      "string.find('o'): 0\n",
      "string.find('i'): 10\n"
     ]
    }
   ],
   "source": [
    "# Metoda find\n",
    "\n",
    "print(\"metoda find\")\n",
    "print('-' * 50)\n",
    "# string = \"ovo je neki string\"\n",
    "print(\"string.find('j'):\", string.find('j'))\n",
    "print(\"string.find('B'):\", string.find('B'))\n",
    "print(\"string.find('o'):\", string.find('o'))\n",
    "print(\"string.find('i'):\", string.find('i'))\n",
    "# Koja je razlika izmedju metoda index i find?\n",
    "\n",
    "# Vježbanje sličnih primjera"
   ]
  },
  {
   "cell_type": "code",
   "execution_count": 56,
   "id": "c351e9cb",
   "metadata": {},
   "outputs": [
    {
     "name": "stdout",
     "output_type": "stream",
     "text": [
      "metoda replace\n",
      "--------------------------------------------------\n",
      "string: ovo je neki string\n",
      "string.replace('neki', \"jedan\"): ovo je jedan string\n"
     ]
    }
   ],
   "source": [
    "# Metoda replace\n",
    "\n",
    "print(\"metoda replace\")\n",
    "print('-' * 50)\n",
    "print(\"string:\", string)\n",
    "s1 = string.replace('neki', \"jedan\")\n",
    "print(\"string.replace('neki', \\\"jedan\\\"):\", s1)  # objasniti \\\", '\n",
    "\n",
    "# Vježbanje sličnih primjera"
   ]
  },
  {
   "cell_type": "code",
   "execution_count": 57,
   "id": "2482eeb6",
   "metadata": {},
   "outputs": [
    {
     "name": "stdout",
     "output_type": "stream",
     "text": [
      "metoda startswith i endswith\n",
      "--------------------------------------------------\n",
      "posmatrani string pocinje sa 'ov'\n",
      "posmatrani string se ne zavrsava sa 'ING'\n"
     ]
    }
   ],
   "source": [
    "# Metode startswith i endswith\n",
    "\n",
    "print(\"metoda startswith i endswith\")\n",
    "print('-' * 50)\n",
    "\n",
    "# if petlje će biti objašnjenje na sljedećim vježbama\n",
    "if string.startswith(\"ov\"):\n",
    "    print(\"posmatrani string pocinje sa 'ov'\")\n",
    "else:\n",
    "    print(\"posmatrani string ne pocinje sa 'ov'\")\n",
    "\n",
    "if string.endswith('ING'):\n",
    "    print('posmatrani string se zavrsava sa \"ING\"')\n",
    "else:\n",
    "    print(\"posmatrani string se ne zavrsava sa 'ING'\")\n",
    "\n",
    "# Vježbanje sličnih primjera"
   ]
  },
  {
   "cell_type": "code",
   "execution_count": 60,
   "id": "735a941b",
   "metadata": {},
   "outputs": [
    {
     "name": "stdout",
     "output_type": "stream",
     "text": [
      "string u vise redova\n",
      "--------------------------------------------------\n",
      " Ovo je string u vise redova\n",
      "        Drugi red stringa\n",
      "Treci red stringa\n",
      "' Ovo je string u vise redova\\n        Drugi red stringa\\nTreci red stringa'\n",
      "--------------------------------------------------\n",
      "string u vise redova koristeci jednostruke navodnike\n",
      "--------------------------------------------------\n",
      "I ovo je string u vise redova\n",
      "red dva\n",
      "    red tri\n",
      "'I ovo je string u vise redova\\nred dva\\n    red tri'\n"
     ]
    }
   ],
   "source": [
    "# Višelinijski stringovi\n",
    "\n",
    "print('string u vise redova')\n",
    "print('-' * 50)\n",
    "s1 = \"\"\" Ovo je string u vise redova\n",
    "        Drugi red stringa\n",
    "Treci red stringa\"\"\"\n",
    "\n",
    "print(s1)\n",
    "print(repr(s1))\n",
    "\n",
    "print('-' * 50)\n",
    "print('string u vise redova koristeci jednostruke navodnike')\n",
    "print('-' * 50)\n",
    "\n",
    "s2 = '''I ovo je string u vise redova\n",
    "red dva\n",
    "    red tri'''\n",
    "\n",
    "print(s2)\n",
    "print(repr(s2))  # repr ispisuje se string u navodnicima"
   ]
  },
  {
   "cell_type": "code",
   "execution_count": 64,
   "id": "72cbf223",
   "metadata": {},
   "outputs": [
    {
     "name": "stdout",
     "output_type": "stream",
     "text": [
      "string01 = ovo je neki string\n",
      "string01[0] = o\n",
      "string01[1] = v\n",
      "string01[-1] = g\n",
      "string01[-3] = i\n",
      "==================================================\n",
      "s1 = |novi string|\n",
      "s1 * 3 = |novi string||novi string||novi string|\n",
      "==================================================\n",
      "Jos jedan nacin formatiranja stringa\n",
      "malo a: a\n",
      "malo b: b\n",
      "veliko C: C\n",
      "broj 2: 2\n",
      "==================================================\n",
      "upotreba metode split()\n",
      "--------------------------------------------------\n",
      "type of string02: <class 'str'>\n",
      "type of l1: <class 'list'>\n",
      "string02 = ovo je string nad kojim se treba upotrijebiti metoda split\n",
      "string02.split(): ['ovo', 'je', 'string', 'nad', 'kojim', 'se', 'treba', 'upotrijebiti', 'metoda', 'split']\n",
      "string02.split(\"i\", 2): ['ovo je str', 'ng nad koj', 'm se treba upotrijebiti metoda split']\n"
     ]
    }
   ],
   "source": [
    "# Dodatak\n",
    "\n",
    "string01 = \"ovo je neki string\"\n",
    "# prvi karakter stringa\n",
    "c1 = string01[0]   # 'o'\n",
    "c2 = string01[1]   # 'v'\n",
    "c3 = string01[-1]  # 'g'\n",
    "c4 = string01[-3]  # 'i'\n",
    "print(\"string01 =\", string01)\n",
    "print(\"string01[0] =\", c1)\n",
    "print(\"string01[1] =\", c2)\n",
    "print(\"string01[-1] =\", c3)\n",
    "print(\"string01[-3] =\", c4)\n",
    "\n",
    "del string01  # briše string\n",
    "# print(string01)  # - vratiće grešku! --> NameError: name 'string01' is not defined\n",
    "\n",
    "print(\"=\" * 50)\n",
    "s1 = \"|novi string|\"\n",
    "s2 = s1 * 3\n",
    "print(\"s1 =\", s1)\n",
    "print(\"s1 * 3 =\", s2)\n",
    "\n",
    "print(\"=\" * 50)\n",
    "print(\"Jos jedan nacin formatiranja stringa\")\n",
    "malo_a = 'a'\n",
    "malo_b = 'b'\n",
    "veliko_c = \"C\"\n",
    "broj_2 = 2\n",
    "s3 = f\"malo a: {malo_a}\\nmalo b: {malo_b}\\nveliko C: {veliko_c}\\nbroj 2: {broj_2}\"\n",
    "print(s3)\n",
    "\n",
    "print(\"=\" * 50)\n",
    "print(\"upotreba metode split()\")\n",
    "print(\"-\" * 50)\n",
    "string02 = \"ovo je string nad kojim se treba upotrijebiti metoda split\"\n",
    "print(\"type of string02:\", type(string02))  # type of string02: <class 'str'>\n",
    "l1 = string02.split()\n",
    "print(\"type of l1:\", type(l1))              # type of l1: <class 'list'>\n",
    "print(\"string02 =\", string02)\n",
    "print(\"string02.split():\", l1)\n",
    "l2 = string02.split(\"i\", 2)\n",
    "print('string02.split(\"i\", 2):', l2)\n",
    "\n",
    "# Šta mozemo da zaključimo? Šta smo postigli pozivom metode split(\"i\", 2)?\n",
    "# Metod split() sa parametrima \"i\" i 2 vrši razdvajanje stringa po karakteru \"i\"!\n",
    "# Važno je primijetiti da je broj razdvajanja stringa po posmatranom karakteru 2.\n",
    "\n",
    "# Vježbanje sličnih primjera"
   ]
  },
  {
   "cell_type": "raw",
   "id": "5780981f",
   "metadata": {},
   "source": [
    "Funkcije"
   ]
  },
  {
   "cell_type": "code",
   "execution_count": 74,
   "id": "876ea6d4",
   "metadata": {},
   "outputs": [
    {
     "name": "stdout",
     "output_type": "stream",
     "text": [
      "9\n",
      "9.6\n",
      "9.0\n",
      "3\n",
      "8\n",
      "2\n",
      "10.0\n",
      "1\n",
      "1\n",
      "9\n"
     ]
    }
   ],
   "source": [
    "# U Pajtonu postoje ugrađene funkcije kao npr.\n",
    "print(abs(-9))             # apsolutna vrijednost broja -> 9\n",
    "print(abs(-9.6))           # apsolutna vrijednost broja -> 9.6\n",
    "import math                # >> potrebno je import-ovati modul math, pa tek onda ...\n",
    "print(math.fabs(-9))       # 9.0 -> vraca apsolutnu vrijednost kao float (float abs)!\n",
    "print(round(3.4))          # zaokružuje vrijednost -> 3\n",
    "print(pow (2, 3))          # 2 ** 3 = 8\n",
    "print(int (2.5))           # int -> 2\n",
    "print(float(10))           # float -> 10.0\n",
    "print(pow(2, 4, 3))        #(2 ** 4) % 3 = 16 % 3 = 1\n",
    "print(min(2, 3, 6, 1, 9))  # vraća najmanji element -> 1\n",
    "print(max(2, 3, 6, 1, 9))  # vraća najveći element --> 9\n",
    "\n",
    "# Poziv funkcije vrši se na sljedeći način: ime_funkcije(argumenti_funkcije)"
   ]
  },
  {
   "cell_type": "code",
   "execution_count": 3,
   "id": "781932f6",
   "metadata": {},
   "outputs": [
    {
     "name": "stdout",
     "output_type": "stream",
     "text": [
      "-15.0\n",
      "-6.666666666666667\n",
      "21.11111111111111\n",
      "\n",
      "100.0\n",
      "26.0\n",
      "-12.0\n"
     ]
    }
   ],
   "source": [
    "# Dozvoljeno je i kreiranje sopstvene funkcije\n",
    "# Kreirati funkciju koja datu vrijednost temperature u Farenhajtima pretvara u Celzijuse\n",
    "\n",
    "def convert_to_celsius(vrijednost):\n",
    "    return (vrijednost - 32) * 5 / 9\n",
    "print (convert_to_celsius(5))\n",
    "print (convert_to_celsius(20))\n",
    "print (convert_to_celsius(70))\n",
    "print()  # prazan red\n",
    "print (convert_to_celsius(212))\n",
    "print (convert_to_celsius(78.8))\n",
    "print (convert_to_celsius(10.4))\n",
    "\n",
    "# Elementi funkcije: ključna riječ def, ime funkcije, argumenti funkcije\n",
    "# Voditi računa o indentaciji!"
   ]
  },
  {
   "cell_type": "code",
   "execution_count": 81,
   "id": "a1df14c5",
   "metadata": {},
   "outputs": [
    {
     "name": "stdout",
     "output_type": "stream",
     "text": [
      "6.0\n"
     ]
    }
   ],
   "source": [
    "# Napisati funkciju koja za argument uzima a, b, c i x a kao rezultat vraća kvadratnu formulu\n",
    "# za te argumente (a * x ** 2 + b * x + c)\n",
    "\n",
    "def kvadratna_formula (a, b, c, x):\n",
    "    prvi = a * x ** 2\n",
    "    drugi = b * x\n",
    "    treci = c\n",
    "    return prvi + drugi + treci\n",
    "\n",
    "print(kvadratna_formula(2, 3, 4, 0.5))  # poziv funkcije"
   ]
  },
  {
   "cell_type": "code",
   "execution_count": 82,
   "id": "20c245a4",
   "metadata": {},
   "outputs": [
    {
     "name": "stdout",
     "output_type": "stream",
     "text": [
      "3\n"
     ]
    }
   ],
   "source": [
    "# Još jedan način navođenja funkcije, preporučljivo za početnike - navođenje tipa argumenata i rezultata\n",
    "\n",
    "def dani(dan1: int, dan2: int) -> int:\n",
    "    return (dan2 - dan1)\n",
    "\n",
    "print(dani(12, 15))"
   ]
  },
  {
   "cell_type": "raw",
   "id": "65ccd8ee",
   "metadata": {},
   "source": [
    "Zadaci za vježbu:\n",
    "\n",
    "1. Napisati funkciju koja uzima jedan parametar (broj) i vraća njegov kvadrat.\n",
    "2. Napisati funkciju koja za argumente uzima tri broja i vraća njihovu prosječnu vrijednost.\n",
    "3. Napisati funkciju koja za argumente uzima dva stringa i vraća zbir njihovih dužina.\n",
    "4. Zadatak na str. 49 / Knjiga - Practical Programming: An Introduction to Computer Science Using Python 3"
   ]
  },
  {
   "cell_type": "code",
   "execution_count": 5,
   "id": "62353c51",
   "metadata": {},
   "outputs": [
    {
     "name": "stdout",
     "output_type": "stream",
     "text": [
      "12.25\n",
      "81\n"
     ]
    }
   ],
   "source": [
    "# Zadatak 1\n",
    "\n",
    "def kvadriraj(broj):\n",
    "    return broj * broj\n",
    "\n",
    "print(kvadriraj(3.5))\n",
    "print(kvadriraj(9))"
   ]
  },
  {
   "cell_type": "code",
   "execution_count": 10,
   "id": "d68e00b3",
   "metadata": {},
   "outputs": [
    {
     "name": "stdout",
     "output_type": "stream",
     "text": [
      "2.0\n",
      "2.33333\n"
     ]
    }
   ],
   "source": [
    "# Zadatak 2\n",
    "\n",
    "def izracunaj_prosjek(a, b, c):\n",
    "    return (a + b + c) / 3\n",
    "\n",
    "print(izracunaj_prosjek(1, 2, 3))\n",
    "print(\"{:.5f}\".format(izracunaj_prosjek(1.1, 2.4, 3.5)))"
   ]
  },
  {
   "cell_type": "code",
   "execution_count": 11,
   "id": "e7b61663",
   "metadata": {},
   "outputs": [
    {
     "name": "stdout",
     "output_type": "stream",
     "text": [
      "12\n"
     ]
    }
   ],
   "source": [
    "# Zadatak 3\n",
    "\n",
    "def duzina(s1, s2):\n",
    "    return len(s1) + len(s2)\n",
    "\n",
    "print(duzina(\"Milica\", \"Marija\"))"
   ]
  },
  {
   "cell_type": "code",
   "execution_count": 16,
   "id": "baae96da",
   "metadata": {},
   "outputs": [
    {
     "name": "stdout",
     "output_type": "stream",
     "text": [
      "24\n",
      "0\n",
      "-1\n",
      "\n",
      "Help on function days_difference in module __main__:\n",
      "\n",
      "days_difference(day1: int, day2: int) -> int\n",
      "    Return the number of days between day1 and day2, which are\n",
      "    both in the range 1-365 (thus indicating the day of the year).\n",
      "    \n",
      "    >>> days_difference(200, 224)\n",
      "    24\n",
      "    >>> days_difference(50, 50)\n",
      "    0\n",
      "    >>> days_difference(100, 99)\n",
      "    -1\n",
      "\n",
      "4\n",
      "7\n",
      "1\n",
      "1\n",
      "4\n",
      "2\n",
      "\n",
      "6\n",
      "6\n",
      "5\n"
     ]
    }
   ],
   "source": [
    "# Zadatak 4\n",
    "# Zadatak na str. 49 / Knjiga - Practical Programming: An Introduction to Computer Science Using Python 3.6\n",
    "# Designing Three Birthday-Related Functions\n",
    "\n",
    "\n",
    "def days_difference(day1: int, day2: int) -> int:\n",
    "    \"\"\"Return the number of days between day1 and day2, which are\n",
    "    both in the range 1-365 (thus indicating the day of the year).\n",
    "\n",
    "    >>> days_difference(200, 224)\n",
    "    24\n",
    "    >>> days_difference(50, 50)\n",
    "    0\n",
    "    >>> days_difference(100, 99)\n",
    "    -1\n",
    "    \"\"\"\n",
    "    return day2 - day1  \n",
    "\n",
    "print(days_difference(200, 224))\n",
    "print(days_difference(50, 50))\n",
    "print(days_difference(100, 99))\n",
    "print()  # empty line\n",
    "help(days_difference)\n",
    "\n",
    "\n",
    "def get_weekday(current_weekday: int, days_ahead: int) -> int:\n",
    "    \"\"\"Return which day of the week it will be days_ahead days\n",
    "    from current_weekday.\n",
    "    \n",
    "    current_weekday is the current day of the week and is in\n",
    "    the range 1-7, indicating whether today is Sunday (1),\n",
    "    Monday (2), ..., Saturday (7).\n",
    "    \n",
    "    days_ahead is the number of days after today.\n",
    "    \n",
    "    >>> get_weekday(3, 1)\n",
    "    4\n",
    "    >>> get_weekday(6, 1)\n",
    "    7\n",
    "    >>> get_weekday(7, 1)\n",
    "    1\n",
    "    >>> get_weekday(1, 0)\n",
    "    1\n",
    "    >>> get_weekday(4, 7)\n",
    "    4\n",
    "    >>> get_weekday(7, 72)\n",
    "    2\n",
    "    \"\"\"\n",
    "    # because % has higher precedence than +, we need parentheses!\n",
    "    return (current_weekday + days_ahead - 1) % 7 + 1\n",
    "\n",
    "print(get_weekday(3, 1))\n",
    "print(get_weekday(6, 1))\n",
    "print(get_weekday(7, 1))\n",
    "print(get_weekday(1, 0))\n",
    "print(get_weekday(4, 7))\n",
    "print(get_weekday(7, 72))\n",
    "\n",
    "print()  # empty line\n",
    "\n",
    "def get_birthday_weekday(current_weekday: int, current_day: int, birthday_day: int) -> int:\n",
    "    \"\"\"Return the day of the week it will be on birthday_day, given that\n",
    "    the day of the week is current_weekday and the day of the year is current_day.\n",
    "    \n",
    "    current_weekday is the current day of the week and is in the range 1-7,\n",
    "    indicating whether today is Sunday (1), Monday (2), ..., Saturday (7).\n",
    "    \n",
    "    current_day and birthday_day are both in the range 1-365.\n",
    "    \n",
    "    >>> get_birthday_weekday(5, 3, 4)\n",
    "    6\n",
    "    >>> get_birthday_weekday(5, 3, 116)\n",
    "    6\n",
    "    >>> get_birthday_weekday(6, 116, 3)\n",
    "    5\n",
    "    \"\"\"\n",
    "    days_diff = days_difference(current_day, birthday_day)\n",
    "    return get_weekday(current_weekday, days_diff)\n",
    "\n",
    "print(get_birthday_weekday(5, 3, 4))\n",
    "print(get_birthday_weekday(5, 3, 116))\n",
    "print(get_birthday_weekday(6, 116, 3))"
   ]
  }
 ],
 "metadata": {
  "kernelspec": {
   "display_name": "Python 3",
   "language": "python",
   "name": "python3"
  },
  "language_info": {
   "codemirror_mode": {
    "name": "ipython",
    "version": 3
   },
   "file_extension": ".py",
   "mimetype": "text/x-python",
   "name": "python",
   "nbconvert_exporter": "python",
   "pygments_lexer": "ipython3",
   "version": "3.10.1"
  }
 },
 "nbformat": 4,
 "nbformat_minor": 5
}
