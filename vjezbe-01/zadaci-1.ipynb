{
 "cells": [
  {
   "cell_type": "code",
   "execution_count": 1,
   "id": "f85f858d",
   "metadata": {},
   "outputs": [
    {
     "name": "stdout",
     "output_type": "stream",
     "text": [
      "Rješenje zadatka pod a) je:\n",
      "9 % 6 je: 3\n",
      "9 na 6 je: 531441\n",
      "9 podijeljeno sa 6 je: 1.5 , a rezultat za cjelobrojno dijeljenje je: 1\n",
      "9 puta 6 je: 54\n",
      "--------------------------------------------------\n",
      "Rješenje zadatka pod b) je:\n",
      "168 % 13 je: 12\n",
      "168 na 13 je: 84922087747184192618514874368\n",
      "168 podijeljeno sa 13 je: 12.923076923076923 , a rezultat za cjelobrojno dijeljenje je: 12\n",
      "168 puta 13 je: 2184\n",
      "--------------------------------------------------\n",
      "Rješenje zadatka pod c) je:\n",
      "19998 % 19 je: 10\n",
      "19998 na 19 je: 5232927488246480810788137006298445283260074454602413067605765505146106774814195712\n",
      "19998 podijeljeno sa 19 je: 1052.5263157894738 , a rezultat za cjelobrojno dijeljenje je: 1052\n",
      "19998 puta 19 je: 379962\n"
     ]
    }
   ],
   "source": [
    "# Zadatak 1\n",
    "# Izračunati ostatak dijeljenja X sa Y gdje je:\n",
    "# a) X = 9, Y = 6\n",
    "# b) X = 168, Y = 13\n",
    "# c) X = 19998, Y = 19\n",
    "\n",
    "# Nakon toga izračunati koliko iznose vrijednosti X ** Y, X / Y i X * Y.\n",
    "\n",
    "x = 9\n",
    "y = 6\n",
    "print(\"Rješenje zadatka pod a) je:\")\n",
    "print(f\"{x} % {y} je:\", x % y)\n",
    "print(f\"{x} na {y} je:\", x ** y)\n",
    "print(f\"{x} podijeljeno sa {y} je:\", x / y, \", a rezultat za cjelobrojno dijeljenje je:\", x // y)\n",
    "print(f\"{x} puta {y} je:\", x * y)\n",
    "\n",
    "print(\"-\" * 50)\n",
    "\n",
    "# Na sličan način uraditi ostale primjere\n",
    "\n",
    "x = 168\n",
    "y = 13\n",
    "print(\"Rješenje zadatka pod b) je:\")\n",
    "print(f\"{x} % {y} je:\", x % y)\n",
    "print(f\"{x} na {y} je:\", x ** y)\n",
    "print(f\"{x} podijeljeno sa {y} je:\", x / y, \", a rezultat za cjelobrojno dijeljenje je:\", x // y)\n",
    "print(f\"{x} puta {y} je:\", x * y)\n",
    "\n",
    "print(\"-\" * 50)\n",
    "\n",
    "x = 19998\n",
    "y = 19\n",
    "print(\"Rješenje zadatka pod c) je:\")\n",
    "print(f\"{x} % {y} je:\", x % y)\n",
    "print(f\"{x} na {y} je:\", x ** y)\n",
    "print(f\"{x} podijeljeno sa {y} je:\", x / y, \", a rezultat za cjelobrojno dijeljenje je:\", x // y)\n",
    "print(f\"{x} puta {y} je:\", x * y)"
   ]
  },
  {
   "cell_type": "code",
   "execution_count": 2,
   "id": "dead9ade",
   "metadata": {},
   "outputs": [
    {
     "name": "stdout",
     "output_type": "stream",
     "text": [
      "415\n"
     ]
    }
   ],
   "source": [
    "# Zadatak 2\n",
    "\"\"\"\n",
    "Izračunati dužinu sljedećeg stringa:\n",
    "„ Od pocetka razvoja kompjuterskih tehnologija do danas kreirano je vise od 1.000 razlicitih programskih jezika, \n",
    "a njihov broj raste iz godine u godinu. Ipak, ako ste novi u oblasti programiranja i tek ulazite u ovaj dinamican\n",
    "svijet, po ocjeni strucnjaka, trebalo bi da krenete od najjednostavnijih programskih jezika, a zbog citljivosti\n",
    "koda, vecina smatra da je idealan izbor za pocetak - programski jezik Python.“\n",
    "\"\"\"\n",
    "string = \" Od pocetka razvoja kompjuterskih tehnologija do danas kreirano je vise od 1.000 razlicitih programskih jezika, a njihov broj raste iz godine u godinu. Ipak, ako ste novi u oblasti programiranja i tek ulazite u ovaj dinamican svijet, po ocjeni strucnjaka, trebalo bi da krenete od najjednostavnijih programskih jezika, a zbog citljivosti koda, vecina smatra da je idealan izbor za pocetak - programski jezik Python.\"\n",
    "\n",
    "print (len(string))"
   ]
  },
  {
   "cell_type": "code",
   "execution_count": 3,
   "id": "81cbc52b",
   "metadata": {},
   "outputs": [
    {
     "name": "stdout",
     "output_type": "stream",
     "text": [
      "Rješenje zadatka pod a) je: Z\n",
      "Rješenje zadatka pod b) je: rav\n"
     ]
    }
   ],
   "source": [
    "# Zadatak 3\n",
    "# a) Napisati program koji vraća prvi karakter stringa „Zdravo svima!“.\n",
    "# b) Napisati program koji vraća karaktere od indeksa br. 2 do indeksa br. 4 (4 uključeno);\n",
    "# (string: „Zdravo svima!“).\n",
    "\n",
    "string = \"Zdravo svima!\"\n",
    "print (\"Rješenje zadatka pod a) je:\", string[0])\n",
    "print (\"Rješenje zadatka pod b) je:\", string[2:5])"
   ]
  },
  {
   "cell_type": "code",
   "execution_count": 5,
   "id": "38be2ded",
   "metadata": {},
   "outputs": [
    {
     "name": "stdout",
     "output_type": "stream",
     "text": [
      " Zadaci za vježbu! \n",
      "Zadaci za vježbu! aaa!\n",
      "Zadaci za vježbu!  aaa!\n",
      " Zadaci za vježbu! aaa!\n",
      " Zadaci za vježbu! \n"
     ]
    }
   ],
   "source": [
    "# Zadatak 4\n",
    "# Za string „ Zadaci za vježbu ! “ napisati program koji vraća string bez praznog prostora na početku i na kraju.\n",
    "\n",
    "string = \" Zadaci za vježbu! \"\n",
    "print(string)\n",
    "print(string.strip(), \"aaa!\")   # strip() brisanje sa obje strane\n",
    "print(string.lstrip(), \"aaa!\")  # lstrip brisanje sa lijeve strane\n",
    "print(string.rstrip(), \"aaa!\")  # rstrip brisanje sa desne strane\n",
    "print(string)  # nakon `modifikacija`, originalni string je IPAK netaknut -- string immutability! <-- LOOK!"
   ]
  },
  {
   "cell_type": "code",
   "execution_count": 6,
   "id": "fa073197",
   "metadata": {},
   "outputs": [
    {
     "name": "stdout",
     "output_type": "stream",
     "text": [
      "5\n"
     ]
    }
   ],
   "source": [
    "# Zadatak 5\n",
    "# Promjenljivu x = 5.5 konvertovati u cijeli broj.\n",
    "x = 5.5\n",
    "y = int(x)\n",
    "\n",
    "print(y)"
   ]
  },
  {
   "cell_type": "code",
   "execution_count": 25,
   "id": "6ad68562",
   "metadata": {},
   "outputs": [
    {
     "name": "stdout",
     "output_type": "stream",
     "text": [
      "Unesite vrijednost za n: 5\n",
      "Unesite vrijednost za k: 3\n",
      "n na k je: 125\n"
     ]
    }
   ],
   "source": [
    "# Zadatak 6 - sa tastature se unose prirodni brojevi n i k. Izračunati n na k.\n",
    "n = int(input(\"Unesite vrijednost za n: \"))\n",
    "k = int(input(\"Unesite vrijednost za k: \"))\n",
    "\n",
    "print(\"n na k je:\", n ** k)"
   ]
  },
  {
   "cell_type": "code",
   "execution_count": 28,
   "id": "edad93de",
   "metadata": {},
   "outputs": [
    {
     "name": "stdout",
     "output_type": "stream",
     "text": [
      "<class 'str'>\n",
      "Sila težine je 196.20000000000002 N\n",
      "Sila težine je 196.20 N\n",
      "Sila težine je 196.20000000000002 N\n"
     ]
    }
   ],
   "source": [
    "# Zadatak 7\n",
    "# Napisati program koji izračunava silu težine na površini Zemlje na osnovu unesene mase tijela u kilogramima.\n",
    "\n",
    "m = input('Unesite masu tijela u kilogramima: ')  # npr. 20 kg -> 20 * 9.81 = 196.2 N\n",
    "print(type(m))  # <class 'str'>, dakle, NEOPHODNA JE KONVERZIJA U BROJEVNI TIP, npr. float, int !!!\n",
    "print('Sila težine je', float(m) * 9.81, 'N')  # Sila težine je 196.20000000000002 N <-- ruzan ispis! :-(\n",
    "print('Sila težine je', \"{:.2f}\".format(float(m) * 9.81), 'N')  # formatiraj na dvije decimale! <-- LOOK!\n",
    "print('Sila težine je', int(m) * 9.81, 'N')    # Sila težine je 196.20000000000002 N <-- ruzan ispis! :-("
   ]
  },
  {
   "cell_type": "code",
   "execution_count": 20,
   "id": "68b76dbf",
   "metadata": {},
   "outputs": [
    {
     "name": "stdout",
     "output_type": "stream",
     "text": [
      "--------------------------------------------------\n",
      "n je: 2 , c je: 1 , b je: 4\n",
      "> nepravi razlomak: 9 / 4\n",
      "mjesoviti razlomak: 2 + 1/4\n"
     ]
    }
   ],
   "source": [
    "# Zadatak 8\n",
    "# Za date prirodne brojeve a i b napisati program kojim se dati nepravi razlomak a/b prevodi u\n",
    "# mješovit broj n + c/b, takav da važi da je c/b < 1.\n",
    "\n",
    "a = int(input(\"a = \"))  # polazni brojilac\n",
    "b = int(input(\"b = \"))  # polazni imenilac\n",
    "n = a // b  # cio dio\n",
    "c = a % b   # novi brojilac (imenilac ostaje b)\n",
    "print(\"-\" * 50)\n",
    "print(\"n je:\", n, \", c je:\", c, \", b je:\", b)\n",
    "print(f\"> nepravi razlomak: {a} / {b}\")\n",
    "print(f\"mjesoviti razlomak: {n} + {c}/{b}\")"
   ]
  },
  {
   "cell_type": "code",
   "execution_count": 21,
   "id": "9a65ee0d",
   "metadata": {},
   "outputs": [
    {
     "name": "stdout",
     "output_type": "stream",
     "text": [
      "Sportista se nalazi u vrsti broj: 4 , a u koloni broj: 1\n",
      "Sportista se nalazi u vrsti broj: 4, a u koloni broj: 1.\n"
     ]
    }
   ],
   "source": [
    "# Zadatak 9\n",
    "\"\"\"\n",
    "Sportisti na dresu imaju brojeve 0, 1, 2, ... . U tom redoslijedu se ređaju za defile za svečano otvaranje\n",
    "takmičenja u kome koračaju organizovani u vrste od po 5. Napiši program koji na osnovu rednog broja dresa\n",
    "određuje u kojoj će se vrsti i koloni sportista nalaziti (vrste i kolone se broje od jedan!).\n",
    "\"\"\"\n",
    "# Zadatak za domaći\n",
    "\n",
    "x = int(input(\"redni broj: \"))\n",
    "print(\"Sportista se nalazi u vrsti broj:\", x // 5 + 1, \", a u koloni broj:\", x % 5 + 1)\n",
    "print(f\"Sportista se nalazi u vrsti broj: {x // 5 + 1}, a u koloni broj: {x % 5 + 1}.\")"
   ]
  },
  {
   "cell_type": "code",
   "execution_count": 13,
   "id": "e3969ec8",
   "metadata": {},
   "outputs": [
    {
     "name": "stdout",
     "output_type": "stream",
     "text": [
      "9:0:0\n",
      "32400\n",
      "15:0:0\n"
     ]
    }
   ],
   "source": [
    "# Zadatak 10\n",
    "# Napiši program koji za dato vrijeme u toku dana određuje koliko je sekundi proteklo od prethodne ponoći i\n",
    "# koliko je sati, minuta i sekundi ostalo do sljedeće ponoći.\n",
    "\n",
    "# sat, minut i sekund\n",
    "h = int(input())\n",
    "m = int(input())\n",
    "s = int(input())\n",
    "\n",
    "# broj sekundi od prethodne ponoci\n",
    "S = h * 60 * 60 + m * 60 + s  # trenutno vrijeme u sekundama\n",
    "\n",
    "# formatirajmo lijepo trenutno vrijeme\n",
    "h_trenutno = S // 3600\n",
    "m_trenutno = (S % 3600) // 60\n",
    "s_trenutno = ((S % 3600) % 60) // 60\n",
    "print(str(h_trenutno) + \":\" + str(m_trenutno) + \":\" + str(s_trenutno))\n",
    "\n",
    "# broj sekundi od prethodne ponoci do sljedece ponoci\n",
    "Sponoc = 24 * 60 * 60  # dan (24 casa) u sekundama\n",
    "\n",
    "# broj sekundi preostalih do ponoci\n",
    "S_do_ponoci = Sponoc - S\n",
    "\n",
    "# prevodimo to vrijeme u sate, minute i sekunde\n",
    "s_do_ponoci = (S_do_ponoci // (1)) % 60\n",
    "m_do_ponoci = (S_do_ponoci // (60)) % 60\n",
    "h_do_ponoci = (S_do_ponoci // (60 * 60)) % 24\n",
    "\n",
    "# ispisujemo rezultat\n",
    "print(S)\n",
    "print(str(h_do_ponoci) + \":\" + str(m_do_ponoci) + \":\" + str(s_do_ponoci))"
   ]
  },
  {
   "cell_type": "code",
   "execution_count": 23,
   "id": "b7c5f98f",
   "metadata": {},
   "outputs": [
    {
     "name": "stdout",
     "output_type": "stream",
     "text": [
      "Zbir cifara unesenog broja je: 7\n"
     ]
    }
   ],
   "source": [
    "# Zadatak 11\n",
    "# Napisati program koji učitava četvorocifreni broj i vraća zbir cifara tog broja.\n",
    "\n",
    "# ucitavanje polaznog broja\n",
    "broj = int(input())\n",
    "\n",
    "# izracunavanje zbira cifara\n",
    "cifra_jedinica = (broj // 1) % 10\n",
    "cifra_desetica = (broj // 10) % 10\n",
    "cifra_stotina = (broj // 100) % 10\n",
    "cifra_hiljada = (broj // 1000) % 10\n",
    "zbir_cifara = cifra_jedinica + cifra_desetica + \\\n",
    "cifra_stotina + cifra_hiljada\n",
    "\n",
    "# prikaz rezultata\n",
    "print(\"Zbir cifara unesenog broja je:\", zbir_cifara)"
   ]
  },
  {
   "cell_type": "code",
   "execution_count": 25,
   "id": "375c44f8",
   "metadata": {},
   "outputs": [
    {
     "name": "stdout",
     "output_type": "stream",
     "text": [
      "15.588457268119896\n",
      "15.588\n",
      "15.59\n"
     ]
    }
   ],
   "source": [
    "# Zadatak 12\n",
    "# Napisati funkciju koja za argument uzima stranicu jednakostraničnog trougla, a kao rezultat vraća površinu\n",
    "# jednakostraničnog trouga.\n",
    "\n",
    "import math\n",
    "\n",
    "def povrsina_jednakostranicnog_trougla(a):\n",
    "    # izračunavamo visinu trougla\n",
    "    h = a * math.sqrt(3) / 2.0\n",
    "    # izračunavamo površinu na osnovu dužine stranice i visine\n",
    "    P = a * h / 2.0\n",
    "    # vraćamo konačan rezultat\n",
    "    return P\n",
    "\n",
    "print(povrsina_jednakostranicnog_trougla(6))\n",
    "print(\"{0:.3f}\".format(povrsina_jednakostranicnog_trougla(6)))\n",
    "print(\"{0:.2f}\".format(povrsina_jednakostranicnog_trougla(6)))"
   ]
  },
  {
   "cell_type": "code",
   "execution_count": 26,
   "id": "41f7489d",
   "metadata": {},
   "outputs": [
    {
     "name": "stdout",
     "output_type": "stream",
     "text": [
      "2 73\n",
      "2m 73cm\n"
     ]
    }
   ],
   "source": [
    "# Zadatak 13\n",
    "# Napisati funkciju koja za argument uzima određenu veličinu u centimetrima, a kao rezultat vraća\n",
    "# broj metara i centimetara koji se sadrže u datoj vrijednosti.\n",
    "\n",
    "def u_metre_i_centimetre(duzina):\n",
    "    metri = duzina // 100\n",
    "    centimentri = duzina % 100\n",
    "    return metri, centimentri\n",
    "\n",
    "m, cm = u_metre_i_centimetre(273)\n",
    "print(m, cm)\n",
    "print(f\"{m}m {cm}cm\")"
   ]
  },
  {
   "cell_type": "code",
   "execution_count": 27,
   "id": "212ce20a",
   "metadata": {},
   "outputs": [
    {
     "name": "stdout",
     "output_type": "stream",
     "text": [
      "True\n",
      "False\n",
      "False\n"
     ]
    }
   ],
   "source": [
    "# Zadatak 14\n",
    "# Napisati funkciju koja za argument uzima string i ispituje da li je taj string palindrom.\n",
    "\n",
    "def palindrom(tekst):\n",
    "    if tekst == \"\":\n",
    "        return True\n",
    "    elif tekst[0] != tekst[-1]:\n",
    "        return False\n",
    "    else:\n",
    "        return palindrom(tekst[1 : -1])  # rekurziju ćemo naknadno detaljnije objasniti!\n",
    "\n",
    "print(palindrom(\"anavolimilovana\"))\n",
    "print(palindrom(\"anavolimilovanA\"))\n",
    "print(palindrom(\"anavolimilovan$\"))"
   ]
  }
 ],
 "metadata": {
  "kernelspec": {
   "display_name": "Python 3",
   "language": "python",
   "name": "python3"
  },
  "language_info": {
   "codemirror_mode": {
    "name": "ipython",
    "version": 3
   },
   "file_extension": ".py",
   "mimetype": "text/x-python",
   "name": "python",
   "nbconvert_exporter": "python",
   "pygments_lexer": "ipython3",
   "version": "3.10.10"
  }
 },
 "nbformat": 4,
 "nbformat_minor": 5
}
