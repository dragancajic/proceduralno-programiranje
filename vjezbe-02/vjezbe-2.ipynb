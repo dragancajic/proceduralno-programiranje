{
 "cells": [
  {
   "cell_type": "code",
   "execution_count": 1,
   "id": "f989cfe4",
   "metadata": {},
   "outputs": [
    {
     "name": "stdout",
     "output_type": "stream",
     "text": [
      "b je veće od a\n"
     ]
    }
   ],
   "source": [
    "# `if` iskazi\n",
    "\n",
    "\"\"\"\"\n",
    "U `if` iskazima najčešće ćemo koristiti sljedeće izraze (prilikom provjere):\n",
    "\n",
    "`a jednako b`:            a == b\n",
    "`a različito od b`:       a != b\n",
    "`a manje od b`:           a < b\n",
    "`a manje ili jednako b`:  a <= b\n",
    "`a veće od b`:            a > b\n",
    "`a veće ili jednako b`:   a >= b\n",
    "\n",
    "Primjer:\n",
    "\"\"\"\n",
    "a = 33\n",
    "b = 200\n",
    "\n",
    "if b > a:\n",
    "    print(\"b je veće od a\")  # obratiti pažnju na indentaciju"
   ]
  },
  {
   "cell_type": "code",
   "execution_count": 3,
   "id": "4a29ec26",
   "metadata": {},
   "outputs": [
    {
     "name": "stdout",
     "output_type": "stream",
     "text": [
      "a i b su jednaki\n"
     ]
    }
   ],
   "source": [
    "# Ukoliko prvi uslov nije ispunjen koristimo `elif` za definisanje drugog uslova:\n",
    "\n",
    "a = 123\n",
    "b = 123\n",
    "\n",
    "if b > a:\n",
    "    print(\"b je veće od a\")\n",
    "elif a == b:\n",
    "    print(\"a i b su jednaki\")"
   ]
  },
  {
   "cell_type": "code",
   "execution_count": 4,
   "id": "89f4552f",
   "metadata": {},
   "outputs": [
    {
     "name": "stdout",
     "output_type": "stream",
     "text": [
      "b je manje od a\n"
     ]
    }
   ],
   "source": [
    "# `else` koristimo za slučajeve koji se ne dese u `if` i `elif`:\n",
    "\n",
    "a = 222\n",
    "b = 12\n",
    "\n",
    "if b > a:\n",
    "    print(\"b je veće od a\")\n",
    "elif a == b:\n",
    "    print(\"a i b su jednaki\")\n",
    "else:\n",
    "    print(\"b je manje od a\")"
   ]
  },
  {
   "cell_type": "code",
   "execution_count": 5,
   "id": "af41dcaf",
   "metadata": {},
   "outputs": [
    {
     "name": "stdout",
     "output_type": "stream",
     "text": [
      "a je veće od b\n",
      "B\n",
      "=\n"
     ]
    }
   ],
   "source": [
    "# Skraćeno `if`:\n",
    "# Ukoliko imate da izračunate samo jednu naredbu, stavite sve u jedan red kao u primjeru ispod.\n",
    "\n",
    "a = 222\n",
    "b = 12\n",
    "\n",
    "if a > b: print(\"a je veće od b\")\n",
    "\n",
    "# Skraćeno `if...else`\n",
    "\n",
    "a = 12\n",
    "b = 56\n",
    "\n",
    "print(\"A\") if a > b else print(\"B\")\n",
    "\n",
    "# U nastavku je primjer kada su 3 uslova `if...else` u jednoj liniji\n",
    "\n",
    "a = 1234\n",
    "b = 1234\n",
    "\n",
    "print(\"A\") if a > b else print(\"=\") if a == b else print(\"B\")"
   ]
  },
  {
   "cell_type": "code",
   "execution_count": 6,
   "id": "d87c05ee",
   "metadata": {},
   "outputs": [
    {
     "name": "stdout",
     "output_type": "stream",
     "text": [
      "Oba uslova su zadovoljena\n",
      "Bar jedan uslov je zadovoljen\n"
     ]
    }
   ],
   "source": [
    "# Logički operatori takođe mogu biti korišteni:\n",
    "\n",
    "# Logički operator `and` - \"i\"\n",
    "a = 200\n",
    "b = 33\n",
    "c = 500\n",
    "if a > b and c > a:\n",
    "    print(\"Oba uslova su zadovoljena\")\n",
    "\n",
    "# Logički operator `or` - \"ili\"\n",
    "a = 200\n",
    "b = 33\n",
    "c = 500\n",
    "if a > b or a > c:\n",
    "    print(\"Bar jedan uslov je zadovoljen\")"
   ]
  },
  {
   "cell_type": "code",
   "execution_count": 7,
   "id": "a70c6464",
   "metadata": {},
   "outputs": [
    {
     "name": "stdout",
     "output_type": "stream",
     "text": [
      "Broj je veći od 10,\n",
      "i takođe, veći od 20\n"
     ]
    }
   ],
   "source": [
    "# Nested (ugniježđen) `if` iskaz\n",
    "\n",
    "x = 45\n",
    "\n",
    "if x > 10:\n",
    "    print(\"Broj je veći od 10,\")\n",
    "    if x > 20:\n",
    "        print(\"i takođe, veći od 20\")\n",
    "    else:\n",
    "        print(\"ali nije preko 20.\")  # x <= 20 √"
   ]
  },
  {
   "cell_type": "code",
   "execution_count": 8,
   "id": "a820d711",
   "metadata": {},
   "outputs": [
    {
     "name": "stdout",
     "output_type": "stream",
     "text": [
      "banana\n",
      "jabuka\n",
      "šljiva\n",
      "\n",
      "b\n",
      "a\n",
      "n\n",
      "a\n",
      "n\n",
      "a\n"
     ]
    }
   ],
   "source": [
    "# `for` petlja\n",
    "\n",
    "# Petlja kroz listu (iterabilni objekat)\n",
    "voce = [\"banana\", \"jabuka\", \"šljiva\"]\n",
    "\n",
    "for x in voce:\n",
    "    print(x)\n",
    "\n",
    "print()  # prazan red\n",
    "\n",
    "# Petlja kroz string\n",
    "string = \"banana\"\n",
    "\n",
    "for x in string:\n",
    "    print(x)"
   ]
  },
  {
   "cell_type": "code",
   "execution_count": 9,
   "id": "9168a6f7",
   "metadata": {},
   "outputs": [
    {
     "name": "stdout",
     "output_type": "stream",
     "text": [
      "banana\n",
      "banana\n",
      "jabuka\n"
     ]
    }
   ],
   "source": [
    "# `break`\n",
    "\n",
    "voce = [\"banana\", \"jabuka\", \"šljiva\"]\n",
    "\n",
    "for x in voce:\n",
    "    print(x)\n",
    "    if x == \"jabuka\":\n",
    "        break\n",
    "    print(x)"
   ]
  },
  {
   "cell_type": "code",
   "execution_count": 10,
   "id": "287458a6",
   "metadata": {},
   "outputs": [
    {
     "name": "stdout",
     "output_type": "stream",
     "text": [
      "banana\n",
      "banana\n",
      "jabuka\n",
      "šljiva\n",
      "šljiva\n"
     ]
    }
   ],
   "source": [
    "# `continue`\n",
    "\n",
    "voce = [\"banana\", \"jabuka\", \"šljiva\"]\n",
    "\n",
    "for x in voce:\n",
    "    print(x)\n",
    "    if x == \"jabuka\":\n",
    "        continue\n",
    "    print(x)"
   ]
  },
  {
   "cell_type": "code",
   "execution_count": 12,
   "id": "aa3101eb",
   "metadata": {},
   "outputs": [
    {
     "name": "stdout",
     "output_type": "stream",
     "text": [
      "0\n",
      "1\n",
      "2\n",
      "3\n",
      "4\n",
      "5\n",
      "--------------------------------------------------\n",
      "2\n",
      "5\n",
      "8\n",
      "11\n",
      "14\n",
      "17\n",
      "20\n",
      "23\n",
      "26\n",
      "29\n"
     ]
    }
   ],
   "source": [
    "# range() funkcija\n",
    "\n",
    "for x in range(6):  # [0,6), tj. [0,5] √\n",
    "    print(x)\n",
    "# range(6) ne daje vrijednosti od 0 do 6, već vrijednosti od 0 do 5!\n",
    "\n",
    "print(\"-\" * 50)\n",
    "\n",
    "# range() sa više parametara\n",
    "for x in range(2, 30, 3):\n",
    "    print(x)"
   ]
  },
  {
   "cell_type": "code",
   "execution_count": 13,
   "id": "aacb4d63",
   "metadata": {},
   "outputs": [
    {
     "name": "stdout",
     "output_type": "stream",
     "text": [
      "0\n",
      "1\n",
      "2\n",
      "3\n",
      "4\n",
      "5\n",
      "Konačno gotovo!\n",
      "0\n",
      "1\n",
      "2\n"
     ]
    }
   ],
   "source": [
    "# `else` u `for` petljama\n",
    "\n",
    "for x in range(6):\n",
    "    print(x)\n",
    "else:\n",
    "    print(\"Konačno gotovo!\")\n",
    "\n",
    "# `else` se neće izvršiti ako se ranije petlja stopira izrazom `break`!\n",
    "\n",
    "for x in range(6):\n",
    "    if x == 3: break  # <- изађи из петље и ПРЕСКОЧИ `else` блок! LOOK!\n",
    "    print(x)\n",
    "else:\n",
    "    print(\"Konačno gotovo!\")"
   ]
  },
  {
   "cell_type": "code",
   "execution_count": 14,
   "id": "26f40b5b",
   "metadata": {},
   "outputs": [
    {
     "name": "stdout",
     "output_type": "stream",
     "text": [
      "crvena jabuka\n",
      "crvena šljiva\n",
      "crvena kruška\n",
      "ukusna jabuka\n",
      "ukusna šljiva\n",
      "ukusna kruška\n",
      "sočna jabuka\n",
      "sočna šljiva\n",
      "sočna kruška\n"
     ]
    }
   ],
   "source": [
    "# Ugniježđena `for` petlja - nested\n",
    "\n",
    "osobine = [\"crvena\", \"ukusna\", \"sočna\"]\n",
    "voce = [\"jabuka\", \"šljiva\", \"kruška\"]\n",
    "\n",
    "for x in osobine:\n",
    "    for y in voce:\n",
    "        print(x, y)"
   ]
  },
  {
   "cell_type": "code",
   "execution_count": 15,
   "id": "0717a7a5",
   "metadata": {},
   "outputs": [],
   "source": [
    "for x in [0, 1, 2]:\n",
    "    pass\n",
    "# `for` petlje ne bi trebale biti prazne, ali ako iz nekog razloga tijelo petlje bude prazno, trebalo bi\n",
    "# ubaciti izraz (iskaz) `pass` (engl. ~ Python pass Statement ~) da program ne vraća grešku! <---- LOOK!"
   ]
  },
  {
   "cell_type": "code",
   "execution_count": 16,
   "id": "fcef35ec",
   "metadata": {},
   "outputs": [
    {
     "name": "stdout",
     "output_type": "stream",
     "text": [
      "1\n",
      "2\n",
      "3\n",
      "4\n",
      "5\n"
     ]
    }
   ],
   "source": [
    "# `while` petlje\n",
    "\n",
    "i = 1\n",
    "while i < 6:\n",
    "    print(i)\n",
    "    i += 1"
   ]
  },
  {
   "cell_type": "code",
   "execution_count": 17,
   "id": "d553623d",
   "metadata": {},
   "outputs": [
    {
     "name": "stdout",
     "output_type": "stream",
     "text": [
      "1\n",
      "2\n",
      "3\n"
     ]
    }
   ],
   "source": [
    "# `break`\n",
    "\n",
    "i = 1\n",
    "while i < 6:\n",
    "    print(i)\n",
    "    if i == 3:\n",
    "        break\n",
    "    i += 1"
   ]
  },
  {
   "cell_type": "code",
   "execution_count": 19,
   "id": "4d3ca60c",
   "metadata": {},
   "outputs": [
    {
     "name": "stdout",
     "output_type": "stream",
     "text": [
      "1\n",
      "2\n",
      "4\n",
      "5\n",
      "6\n"
     ]
    }
   ],
   "source": [
    "# `continue`\n",
    "\n",
    "i = 0\n",
    "while i < 6:\n",
    "    i += 1\n",
    "    if i == 3:\n",
    "        continue\n",
    "    print(i)"
   ]
  }
 ],
 "metadata": {
  "kernelspec": {
   "display_name": "Python 3 (ipykernel)",
   "language": "python",
   "name": "python3"
  },
  "language_info": {
   "codemirror_mode": {
    "name": "ipython",
    "version": 3
   },
   "file_extension": ".py",
   "mimetype": "text/x-python",
   "name": "python",
   "nbconvert_exporter": "python",
   "pygments_lexer": "ipython3",
   "version": "3.10.10"
  }
 },
 "nbformat": 4,
 "nbformat_minor": 5
}
