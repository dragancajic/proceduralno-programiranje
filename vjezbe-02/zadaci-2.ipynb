{
 "cells": [
  {
   "cell_type": "code",
   "execution_count": 6,
   "id": "c09e59ab",
   "metadata": {},
   "outputs": [
    {
     "name": "stdout",
     "output_type": "stream",
     "text": [
      "20\n",
      "Uneseni broj ne moze biti zbir godina!\n",
      "ne\n"
     ]
    }
   ],
   "source": [
    "# Zadatak 1\n",
    "# Pera, Mika i Laza su tri brata rođena u istom danu, a Ana je njihova 3 godine starija sestra.\n",
    "# Napisati program kojim se provjerava da li broj koji se unosi sa tastature može biti zbir njihovih godina.\n",
    "\n",
    "n = int(input())  # zbir godina tri brata i sestre, pozitivan broj manji od 500\n",
    "\n",
    "# 3 * x + (x + 3) = n => 3x + x + 3 = n => 4x + 3 = n => 4x = n - 3 -> Python: (n - 3) % 4 == 0,\n",
    "# npr. za broj godina brace cetiri(4), bice zbir godina -> 3 * 4 + (4 + 3) = 12 + 7 = 19,\n",
    "# dakle n = 19, pa ce biti 19 - 3 = 16, a 16 je djeljivo sa 4 bez ostatka, tj. 16 % 4 == 0. ;-)\n",
    "if (n - 3) % 4 == 0:\n",
    "    print(\"Uneseni broj moze biti zbir godina!\")\n",
    "else:\n",
    "    print(\"Uneseni broj ne moze biti zbir godina!\")\n",
    "\n",
    "# drugi način\n",
    "print(\"da\" if (n - 3) % 4 == 0 else \"ne\")"
   ]
  },
  {
   "cell_type": "code",
   "execution_count": 7,
   "id": "6bc1d05b",
   "metadata": {},
   "outputs": [
    {
     "name": "stdout",
     "output_type": "stream",
     "text": [
      "1 1\n",
      "1 3\n",
      "3 3\n",
      "3 1\n"
     ]
    }
   ],
   "source": [
    "# Zadatak 2\n",
    "\"\"\"\n",
    "Date su koordinate tri tjemena pravougaonika sa cjelobrojnim koordinatama, čije su stranice paralelne\n",
    "koordinatnim osama. Tjemena su data u proizvoljnom redoslijedu. Napisati program kojim se određuju koordinate\n",
    "četvrtog tjemena.\n",
    "\"\"\"\n",
    "\n",
    "# koordinate tri poznata tjemena\n",
    "(x1, y1) = map(int, input().split())\n",
    "(x2, y2) = map(int, input().split())\n",
    "(x3, y3) = map(int, input().split())\n",
    "\n",
    "# odredjujemo nepoznatu apscisu x4\n",
    "if x1 == x2:\n",
    "    x4 = x3\n",
    "if x1 == x3:\n",
    "    x4 = x2\n",
    "if x2 == x3:\n",
    "    x4 = x1\n",
    "\n",
    "# odredjujemo nepoznatu ordinatu y4\n",
    "if y1 == y2:\n",
    "    y4 = y3\n",
    "if y1 == y3:\n",
    "    y4 = y2\n",
    "if y2 == y3:\n",
    "    y4 = y1\n",
    "\n",
    "print(x4, y4)"
   ]
  },
  {
   "cell_type": "code",
   "execution_count": 17,
   "id": "a8207f11",
   "metadata": {},
   "outputs": [
    {
     "name": "stdout",
     "output_type": "stream",
     "text": [
      "34\n",
      "00\n",
      "Mejl nije stigao u toku radnog vremena.\n",
      "Mejl nije stigao u toku radnog vremena.\n"
     ]
    }
   ],
   "source": [
    "# Zadatak 3\n",
    "# Radno vrijeme jedne organizacije je između 9 i 17 časova.\n",
    "# Odrediti da li je poslati mejl stigao u toku radnog vremena.\n",
    "\n",
    "# Ulaz: Sa standardnog ulaza se unose dva cijela broja, svaki u posebnom redu,\n",
    "# koji predstavljaju sat i minut prispjeća mejla.\n",
    "\n",
    "sat = int(input()); minut = int(input())\n",
    "\n",
    "# TODO: implementiraj rjesenje uzimajuci u obzir vremena veca od 24 casa, dakle,\n",
    "# za vrijeme koje traje duze od jednog dana (24 casa), npr. sat = 34, minut = 00.\n",
    "\n",
    "if 9 <= sat and sat < 17:\n",
    "    print(\"Mejl je stigao u toku radnog vremena.\")\n",
    "else:\n",
    "    print(\"Mejl nije stigao u toku radnog vremena.\")\n",
    "\n",
    "# drugi, koncizniji nacin:\n",
    "print(\n",
    "    \"Mejl je stigao u toku radnog vremena.\" if sat >= 9 and sat < 17\n",
    "    else \"Mejl nije stigao u toku radnog vremena.\"\n",
    ")"
   ]
  },
  {
   "cell_type": "code",
   "execution_count": 11,
   "id": "c99074c4",
   "metadata": {},
   "outputs": [
    {
     "name": "stdout",
     "output_type": "stream",
     "text": [
      "53\n",
      "Nema rada sada!\n"
     ]
    }
   ],
   "source": [
    "# Zadatak za domaći\n",
    "\"\"\"\n",
    "Kućni red zabranjuje pravljenje buke prije 6 časova, između 13 i 17 časova i nakon 22 časa.\n",
    "Napisati program koji radnicima govori da li u nekom datom trenutku mogu da izvode bučnije radove.\n",
    "\"\"\"\n",
    "# Dodavanjem dopune uslovu ... or sat > 22 -> or (sat > 22 and sat <= 24) i vodeci racuna da\n",
    "# uneseni sati mogu biti veci od 24 casa, dakle, vrijeme duze od jednog dana, dobijamo rjesenje:\n",
    "sat = int(input())\n",
    "sat = sat % 24\n",
    "\n",
    "print(\n",
    "    \"Nema rada sada!\" if sat < 6 or (sat >= 13 and sat < 17) or (sat > 22 and sat <= 24)\n",
    "    else \"Vozi, Mi$ko! $TEMAJ, NE BRINI! :-)\"\n",
    ")"
   ]
  },
  {
   "cell_type": "code",
   "execution_count": 19,
   "id": "43c7b3af",
   "metadata": {},
   "outputs": [
    {
     "name": "stdout",
     "output_type": "stream",
     "text": [
      "1000\n",
      "Godina nije prestupna!\n"
     ]
    }
   ],
   "source": [
    "# Zadatak 4 - Napiši program koji provjerava da li je unijeta godina prestupna.\n",
    "\n",
    "godina = int(input())\n",
    "\n",
    "if (godina % 4 == 0 and godina % 100 != 0) or godina % 400 == 0:\n",
    "    print(\"Godina je prestupna!\")\n",
    "else:\n",
    "    print(\"Godina nije prestupna!\")"
   ]
  },
  {
   "cell_type": "code",
   "execution_count": 21,
   "id": "74a8a21c",
   "metadata": {},
   "outputs": [
    {
     "name": "stdout",
     "output_type": "stream",
     "text": [
      "3000\n",
      "3.5\n",
      "2\n"
     ]
    }
   ],
   "source": [
    "# Zadatak 5\n",
    "\"\"\"\n",
    "U jednoj privatnoj školi uvedeno je pravilo kojim se određuje iznos popusta koji ostvaruju učenici prilikom\n",
    "upisa u narednu školsku godinu. Učenici sa odličnim uspjehom ostvaruju popust od 40% ukupnog iznosa školarine,\n",
    "sa vrlodobrim 20%, a sa dobrim 10%. Takođe, učenici koji su osvojili nagradu na nekom od državnih takmičenja\n",
    "ostvaruju popust od 30% ukupnog iznosa školarine. Ukoliko neki učenik ispunjava dva kriterijuma za popust\n",
    "primjenjuje se kriterijum po kome je popust veći. Na osnovu punog iznosa školarine, prosječne ocjene učenika\n",
    "i informacije o nagradama sa takmičenja odrediti iznos koji učenik treba da plati pri upisu u narednu školsku\n",
    "godinu.\n",
    "\n",
    "Ulaz: U prvoj liniji standardnog ulaza nalazi se pun iznos školarine (realan broj),\n",
    "u drugoj prosječna ocjena učenika (realan broj od 2.0 do 5.0),\n",
    "a u trećoj 0 ukoliko učenik nema nagradu ili 1 ukoliko je ima.\n",
    "\"\"\"\n",
    "\n",
    "skolarina = float(input())\n",
    "prosjecna_ocjena = float (input())\n",
    "nagrada = int(input())\n",
    "\n",
    "if prosjecna_ocjena <= 5 and prosjecna_ocjena >= 4.5:\n",
    "    print(\"Iznos koji učenik treba da plati je:\", skolarina - skolarina * 0.4)\n",
    "    # print(\"Iznos koji učenik treba da plati je:\", 0.6 * skolarina)  # 60% skolarine\n",
    "\n",
    "if prosjecna_ocjena < 4.5 and prosjecna_ocjena >= 3.5 and nagrada == 1:\n",
    "    print(\"Iznos koji učenik treba da plati je:\", skolarina - skolarina * 0.3)\n",
    "    # print(\"Iznos koji učenik treba da plati je:\", 0.7 * skolarina)  # 70% skolarine\n",
    "if prosjecna_ocjena < 4.5 and prosjecna_ocjena >= 3.5 and nagrada == 0:\n",
    "    print(\"Iznos koji učenik treba da plati je:\", skolarina - skolarina * 0.2)\n",
    "    # print(\"Iznos koji učenik treba da plati je:\", 0.8 * skolarina)  # 80% skolarine\n",
    "\n",
    "if prosjecna_ocjena < 3.5 and prosjecna_ocjena >= 2.5 and nagrada == 1:\n",
    "    print (\"Iznos koji učenik treba da plati je:\", skolarina - skolarina * 0.3)\n",
    "    # print(\"Iznos koji učenik treba da plati je:\", 0.7 * skolarina)  # 70% skolarine\n",
    "if prosjecna_ocjena < 3.5 and prosjecna_ocjena >= 2.5 and nagrada == 0:\n",
    "    print (\"Iznos koji učenik treba da plati je:\", skolarina - skolarina * 0.1)\n",
    "    # print(\"Iznos koji učenik treba da plati je:\", 0.9 * skolarina)  # 90% skolarine\n",
    "\n",
    "if prosjecna_ocjena <2.5 and prosjecna_ocjena >= 1.5 and nagrada == 1:\n",
    "    print (\"Iznos koji učenik treba da plati je:\", skolarina - skolarina*0.3)\n",
    "\n",
    "if prosjecna_ocjena < 2.5:\n",
    "    print(\"Iznos koji učenik treba da plati je:\", skolarina)"
   ]
  },
  {
   "cell_type": "code",
   "execution_count": 2,
   "id": "78179e88",
   "metadata": {},
   "outputs": [
    {
     "name": "stdout",
     "output_type": "stream",
     "text": [
      "1\n",
      "2\n",
      "1\n",
      "-12\n",
      "9\n",
      "9\n"
     ]
    }
   ],
   "source": [
    "# Zadatak 6\n",
    "\"\"\"\n",
    "Na cjelobrojnoj brojevnoj pravoj dat je interval [a, b]. Napiši program koji određuje dužinu tog intervala koji\n",
    "priprada pozitivnom dijelu prave. Sa tastature se unose brojevi a i b. Zadatak riješiti na dva načina (uz pomoć\n",
    "ugrađenih funkcija i bez ugrađenih funkcija koristeći if iskaz).\"\"\"\n",
    "\n",
    "# Prvi način\n",
    "# ucitavamo interval\n",
    "a = int(input()); b = int(input())\n",
    "# izracunavamo i ispisujemo duzinu pozitivnog dijela tog intervala\n",
    "p = max(b - max(0, a), 0)\n",
    "print(p)\n",
    "\n",
    "# Drugi način\n",
    "# ucitavamo interval\n",
    "a = int(input()); b = int(input())\n",
    "# izracunavamo i ispisujemo duzinu pozitivnog dijela tog intervala\n",
    "if b <= 0:  # cio interval lezi na nepozitivnom dijelu prave\n",
    "    p = 0\n",
    "else:  # desni kraj intervala je pozitivan\n",
    "    if a >= 0:  # pocetak pozitivnog dela intervala je njegov lijevi kraj\n",
    "        p = b - a\n",
    "    else: # pocetak pozitivnog dela intervala je 0\n",
    "        p = b - 0\n",
    "print(p)"
   ]
  },
  {
   "cell_type": "code",
   "execution_count": 9,
   "id": "4ad96fc0",
   "metadata": {},
   "outputs": [
    {
     "name": "stdout",
     "output_type": "stream",
     "text": [
      "5\n",
      "4\n",
      "3\n",
      "5\n",
      "5\n",
      "Prosječna ocjena je: 4.75\n"
     ]
    }
   ],
   "source": [
    "#Zadatak 7\n",
    "\"\"\"\n",
    "Učenici tokom godine rade 5 kontrolnih zadataka. Nastavnik je obećao da će prilikom zaključivanja ocjena\n",
    "svakom učeniku zanemariti najslabiju ocjenu (ako postoji više takvih, zanemariće samo jednu). Napiši\n",
    "program koji učitava 5 ocjena jednog učenika i ispisuje prosječnu ocjenu kada se zanemari najslabije urađeni\n",
    "kontrolni. Zadatak uraditi bez korištenja pomoćnih ugrađenih funkcija.\n",
    "\"\"\"\n",
    "\n",
    "def min_5_brojeva(broj1, broj2, broj3, broj4, broj5):\n",
    "    minimum = broj1\n",
    "    if broj2 < minimum:\n",
    "        minimum = broj2\n",
    "    if broj3 < minimum:\n",
    "        minimum = broj3\n",
    "    if broj4 < minimum:\n",
    "        minimum = broj4\n",
    "    if broj5 < minimum:\n",
    "        minimum = broj5\n",
    "    return minimum\n",
    "\n",
    "# ucitavanje pet ocjena\n",
    "ocjena1 = int(input())\n",
    "ocjena2 = int(input())\n",
    "ocjena3 = int(input())\n",
    "ocjena4 = int(input())\n",
    "ocjena5 = int(input())\n",
    "\n",
    "# izracunavanje trazenog prosjeka\n",
    "zbir_svih_ocjena = ocjena1 + ocjena2 + ocjena3 + ocjena4 + ocjena5\n",
    "najslabija_ocjena = min_5_brojeva(ocjena1, ocjena2, ocjena3, ocjena4, ocjena5)\n",
    "zbir_ocjena_bez_najslabije = zbir_svih_ocjena - najslabija_ocjena\n",
    "prosjek_ocjena_bez_najslabije = zbir_ocjena_bez_najslabije / 4\n",
    "print (\"Prosječna ocjena je:\", prosjek_ocjena_bez_najslabije)"
   ]
  },
  {
   "cell_type": "raw",
   "id": "3c2b0141",
   "metadata": {},
   "source": [
    "While i for petlje"
   ]
  },
  {
   "cell_type": "code",
   "execution_count": 10,
   "id": "4731eaae",
   "metadata": {},
   "outputs": [
    {
     "name": "stdout",
     "output_type": "stream",
     "text": [
      "13\n",
      "115\n",
      "100\n",
      "102\n",
      "104\n",
      "106\n",
      "108\n",
      "110\n",
      "112\n",
      "114\n"
     ]
    }
   ],
   "source": [
    "# Zadatak 8\n",
    "\"\"\"\n",
    "Za date cijele brojeve a i b, napisati program koji ispisuje redom sve parne trocifrene brojeve koji pripadaju\n",
    "datom intervalu [a, b]. - a i b se unose sa tastature\n",
    "\n",
    "\"\"\"\n",
    "# ucitavamo interval [a, b]\n",
    "a = int(input()); b = int(input())\n",
    "\n",
    "# odredjujemo presjek sa intervalom [100, 999]\n",
    "od = max(a, 100); do = min(b, 999)\n",
    "\n",
    "# osiguravamo da lijevi i desni kraj budu parni brojevi\n",
    "if (od % 2 != 0):\n",
    "    od = od + 1\n",
    "if (do % 2 != 0):\n",
    "    do = do - 1\n",
    "    \n",
    "# vrsimo iteraciju i ispisujemo sve trazene brojeve\n",
    "for i in range(od, do+1, 2):\n",
    "    print(i)"
   ]
  },
  {
   "cell_type": "code",
   "execution_count": 13,
   "id": "8190ff78",
   "metadata": {
    "scrolled": true
   },
   "outputs": [
    {
     "name": "stdout",
     "output_type": "stream",
     "text": [
      "3\n",
      "3\n",
      "2\n",
      "1\n",
      "0\n",
      "---------------\n",
      "2\n",
      "2\n",
      "1\n",
      "0\n"
     ]
    }
   ],
   "source": [
    "#Zadatak 9\n",
    "#Napisati program koji ispisuje brojeve unazad od datog broja do nule. Zadatak riješiti na dva načine - for i while petlje\n",
    "\n",
    "#for petlja\n",
    "a = int(input())\n",
    "for i in range(a, -1, -1):\n",
    "    print(i)\n",
    "\n",
    "print (\"---------------\")\n",
    "#while petlja\n",
    "a = int(input())\n",
    "while a >= 0:\n",
    "    print(a)\n",
    "    a -= 1\n"
   ]
  },
  {
   "cell_type": "code",
   "execution_count": 2,
   "id": "590b0a8c",
   "metadata": {},
   "outputs": [
    {
     "name": "stdout",
     "output_type": "stream",
     "text": [
      "9\n",
      "6\n",
      "7\n",
      "6\n",
      "4\n",
      "7\n",
      "8\n",
      "1\n",
      "1\n",
      "1\n",
      "41\n"
     ]
    }
   ],
   "source": [
    "#Zadatak 10\n",
    "\"\"\"\n",
    "Napisati program kojim se određuje zbir n datih cijelih brojeva.\n",
    "\"\"\"\n",
    "n = int(input()) # broj brojeva\n",
    "zbir = 0 # zbir brojeva\n",
    "for i in range(n): # n puta ponavljamo\n",
    "    broj = int(input()) # učitavamo broj\n",
    "    zbir = zbir + broj # uvećavamo zbir\n",
    "print(zbir) # ispisujemo konačan zbir"
   ]
  },
  {
   "cell_type": "code",
   "execution_count": 1,
   "id": "c273a278",
   "metadata": {},
   "outputs": [
    {
     "name": "stdout",
     "output_type": "stream",
     "text": [
      "16\n",
      "12\n",
      "9\n",
      "0\n",
      "3\n",
      "-----------\n",
      "0\n",
      "0\n"
     ]
    }
   ],
   "source": [
    "# Zadatak 11\n",
    "\n",
    "\"\"\"\n",
    "Sa tastature se unose cijeli brojevi dok se ne unese nula. Napisati program kojim se pokazuje koliko je unijeto brojeva,\n",
    "ne računajući nulu.\n",
    "\"\"\"\n",
    "#while petlja\n",
    "\n",
    "broj = 0 # broj ucitanih brojeva razlicitih od nule\n",
    "x = int(input()) # citamo prvi broj\n",
    "while x != 0: # dok nije ucitana nula\n",
    "    broj = broj + 1 # uvecavamo brojac\n",
    "    x = int(input()) # ucitavamo naredni broj\n",
    "print(broj) \n",
    "\n",
    "print (\"-----------\")\n",
    "\n",
    "broj = 0\n",
    "while True:\n",
    "    x = int(input())\n",
    "    if x == 0:\n",
    "        break\n",
    "    broj = broj + 1\n",
    "print(broj)"
   ]
  }
 ],
 "metadata": {
  "kernelspec": {
   "display_name": "Python 3",
   "language": "python",
   "name": "python3"
  },
  "language_info": {
   "codemirror_mode": {
    "name": "ipython",
    "version": 3
   },
   "file_extension": ".py",
   "mimetype": "text/x-python",
   "name": "python",
   "nbconvert_exporter": "python",
   "pygments_lexer": "ipython3",
   "version": "3.10.1"
  }
 },
 "nbformat": 4,
 "nbformat_minor": 5
}
