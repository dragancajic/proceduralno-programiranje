{
 "cells": [
  {
   "cell_type": "code",
   "execution_count": 4,
   "id": "c09e59ab",
   "metadata": {},
   "outputs": [
    {
     "name": "stdout",
     "output_type": "stream",
     "text": [
      "Uneseni broj ne moze biti zbir godina!\n",
      "ne\n"
     ]
    }
   ],
   "source": [
    "# Zadatak 1\n",
    "# Pera, Mika i Laza su tri brata rođena u istom danu, a Ana je njihova 3 godine starija sestra.\n",
    "# Napisati program kojim se provjerava da li broj koji se unosi sa tastature može biti zbir njihovih\n",
    "# godina.\n",
    "\n",
    "n = int(input())  # zbir godina tri brata i sestre, pozitivan broj manji od 500, npr. 20\n",
    "\n",
    "# 3 * x + (x + 3) = n => 3x + x + 3 = n => 4x + 3 = n => 4x = n - 3 -> Python: (n - 3) % 4 == 0,\n",
    "# npr. za broj godina braće četiri(4), biće zbir godina -> 3 * 4 + (4 + 3) = 12 + 7 = 19,\n",
    "# dakle n = 19, pa će biti 19 - 3 = 16, a 16 je djeljivo sa 4 bez ostatka, tj. 16 % 4 == 0. ;-)\n",
    "if (n - 3) % 4 == 0:\n",
    "    print(\"Uneseni broj moze biti zbir godina!\")\n",
    "else:\n",
    "    print(\"Uneseni broj ne moze biti zbir godina!\")\n",
    "\n",
    "# drugi način\n",
    "print(\"da\" if (n - 3) % 4 == 0 else \"ne\")"
   ]
  },
  {
   "cell_type": "code",
   "execution_count": 6,
   "id": "6bc1d05b",
   "metadata": {},
   "outputs": [
    {
     "name": "stdout",
     "output_type": "stream",
     "text": [
      "3 1\n"
     ]
    }
   ],
   "source": [
    "# Zadatak 2\n",
    "\"\"\"\n",
    "Date su koordinate tri tjemena pravougaonika sa cjelobrojnim koordinatama, čije su stranice paralelne\n",
    "koordinatnim osama. Tjemena su data u proizvoljnom redoslijedu. Napisati program kojim se određuju\n",
    "koordinate četvrtog tjemena.\n",
    "\"\"\"\n",
    "\n",
    "# koordinate tri poznata tjemena\n",
    "(x1, y1) = map(int, input().split())  # 1 1\n",
    "(x2, y2) = map(int, input().split())  # 1 3\n",
    "(x3, y3) = map(int, input().split())  # 3 3\n",
    "\n",
    "# određujemo nepoznatu apscisu x4\n",
    "if x1 == x2:\n",
    "    x4 = x3\n",
    "if x1 == x3:\n",
    "    x4 = x2\n",
    "if x2 == x3:\n",
    "    x4 = x1\n",
    "\n",
    "# određujemo nepoznatu ordinatu y4\n",
    "if y1 == y2:\n",
    "    y4 = y3\n",
    "if y1 == y3:\n",
    "    y4 = y2\n",
    "if y2 == y3:\n",
    "    y4 = y1\n",
    "\n",
    "print(x4, y4)  # 3 1"
   ]
  },
  {
   "cell_type": "code",
   "execution_count": 10,
   "id": "a8207f11",
   "metadata": {},
   "outputs": [
    {
     "name": "stdout",
     "output_type": "stream",
     "text": [
      "Mejl je stigao u toku radnog vremena.\n",
      "Mejl je stigao u toku radnog vremena.\n"
     ]
    }
   ],
   "source": [
    "# Zadatak 3\n",
    "# Radno vrijeme jedne organizacije je između 9 i 17 časova.\n",
    "# Odrediti da li je poslati mejl stigao u toku radnog vremena.\n",
    "\n",
    "# Ulaz: Sa standardnog ulaza se unose dva cijela broja, svaki u posebnom redu,\n",
    "# koji predstavljaju sat i minut prispjeća mejla.\n",
    "\n",
    "sat = int(input()); minut = int(input())\n",
    "\n",
    "# TODO: implementiraj rješenje uzimajući u obzir vremena veća od 24 časa, dakle,\n",
    "# za vrijeme koje traje duže od jednog dana (24 časa), npr. sat = 34, minut = 00.\n",
    "sat = sat % 24  # npr. za sat = 34 => 34 % 24 = 10 √\n",
    "\n",
    "if 9 <= sat and sat < 17:\n",
    "    print(\"Mejl je stigao u toku radnog vremena.\")\n",
    "else:\n",
    "    print(\"Mejl nije stigao u toku radnog vremena.\")\n",
    "\n",
    "# drugi, koncizniji način:\n",
    "print(\n",
    "    \"Mejl je stigao u toku radnog vremena.\" if sat >= 9 and sat < 17\n",
    "    else \"Mejl nije stigao u toku radnog vremena.\"\n",
    ")"
   ]
  },
  {
   "cell_type": "code",
   "execution_count": 12,
   "id": "c99074c4",
   "metadata": {},
   "outputs": [
    {
     "name": "stdout",
     "output_type": "stream",
     "text": [
      "Nema rada sada!\n"
     ]
    }
   ],
   "source": [
    "# Zadatak za domaći\n",
    "\"\"\"\n",
    "Kućni red zabranjuje pravljenje buke prije 6 časova, između 13 i 17 časova i nakon 22 časa.\n",
    "Napisati program koji radnicima govori da li u nekom datom trenutku mogu da izvode bučnije radove.\n",
    "\"\"\"\n",
    "# Dodavanjem dopune uslovu ... or sat > 22 -> or (sat > 22 and sat <= 24) i vodeći racuna da\n",
    "# uneseni sati mogu biti veći od 24 časa, dakle, vrijeme duže od jednog dana, dobijamo rješenje:\n",
    "sat = int(input())  # npr. sat = 53 => 53 % 24 = 5 ∗\n",
    "sat = sat % 24\n",
    "\n",
    "print(\n",
    "    \"Nema rada sada!\" if sat < 6 or (sat >= 13 and sat < 17) or (sat > 22 and sat <= 24)  # ∗\n",
    "    else \"Vozi, Mi$ko! $TEMAJ, NE BRINI! :-)\"\n",
    ")"
   ]
  },
  {
   "cell_type": "code",
   "execution_count": 15,
   "id": "43c7b3af",
   "metadata": {},
   "outputs": [
    {
     "name": "stdout",
     "output_type": "stream",
     "text": [
      "Godina nije prestupna!\n"
     ]
    }
   ],
   "source": [
    "# Zadatak 4: Napiši program koji provjerava da li je unijeta godina prestupna.\n",
    "\n",
    "godina = int(input())  # npr. godina = 1000 ∗\n",
    "\n",
    "if (godina % 4 == 0 and godina % 100 != 0) or godina % 400 == 0:\n",
    "    print(\"Godina je prestupna!\")\n",
    "else:\n",
    "    print(\"Godina nije prestupna!\")  # ∗"
   ]
  },
  {
   "cell_type": "code",
   "execution_count": 17,
   "id": "74a8a21c",
   "metadata": {},
   "outputs": [
    {
     "name": "stdout",
     "output_type": "stream",
     "text": [
      "Iznos koji učenik treba da plati je: 2100.0\n"
     ]
    }
   ],
   "source": [
    "# Zadatak 5\n",
    "\"\"\"\n",
    "U jednoj privatnoj školi uvedeno je pravilo kojim se određuje iznos popusta koji ostvaruju učenici\n",
    "prilikom upisa u narednu školsku godinu. Učenici sa odličnim uspjehom ostvaruju popust od 40% ukupnog\n",
    "iznosa školarine, sa vrlodobrim 20%, a sa dobrim 10%. Takođe, učenici koji su osvojili nagradu na nekom\n",
    "od državnih takmičenja ostvaruju popust od 30% ukupnog iznosa školarine. Ukoliko neki učenik ispunjava\n",
    "dva kriterijuma za popust, primjenjuje se kriterijum po kome je popust veći. Na osnovu punog iznosa\n",
    "školarine, prosječne ocjene učenika i informacije o nagradama sa takmičenja odrediti iznos koji učenik\n",
    "treba da plati pri upisu u narednu školsku godinu.\n",
    "\n",
    "Ulaz: U prvoj liniji standardnog ulaza nalazi se pun iznos školarine (realan broj),\n",
    "u drugoj prosječna ocjena učenika (realan broj od 2.0 do 5.0),\n",
    "a u trećoj 0 ukoliko učenik nema nagradu ili 1 ukoliko je ima.\n",
    "\"\"\"\n",
    "\n",
    "skolarina = float(input())          # 3000\n",
    "prosjecna_ocjena = float (input())  # 3.5\n",
    "nagrada = int(input())              # 1\n",
    "# iznos školarine, za date vrijednosti je: 3000 * 0.7 = 300 * 7 = 2100 √\n",
    "\n",
    "if prosjecna_ocjena <= 5.0 and prosjecna_ocjena >= 4.5:\n",
    "    print(\"Iznos koji učenik treba da plati je:\", skolarina - skolarina * 0.4)\n",
    "    # print(\"Iznos koji učenik treba da plati je:\", 0.6 * skolarina)  # 60% školarine\n",
    "\n",
    "if prosjecna_ocjena < 4.5 and prosjecna_ocjena >= 3.5 and nagrada == 1:\n",
    "    print(\"Iznos koji učenik treba da plati je:\", skolarina - skolarina * 0.3)\n",
    "    # print(\"Iznos koji učenik treba da plati je:\", 0.7 * skolarina)  # 70% školarine\n",
    "if prosjecna_ocjena < 4.5 and prosjecna_ocjena >= 3.5 and nagrada == 0:\n",
    "    print(\"Iznos koji učenik treba da plati je:\", skolarina - skolarina * 0.2)\n",
    "    # print(\"Iznos koji učenik treba da plati je:\", 0.8 * skolarina)  # 80% školarine\n",
    "\n",
    "if prosjecna_ocjena < 3.5 and prosjecna_ocjena >= 2.5 and nagrada == 1:\n",
    "    print (\"Iznos koji učenik treba da plati je:\", skolarina - skolarina * 0.3)\n",
    "    # print(\"Iznos koji učenik treba da plati je:\", 0.7 * skolarina)  # 70% školarine\n",
    "if prosjecna_ocjena < 3.5 and prosjecna_ocjena >= 2.5 and nagrada == 0:\n",
    "    print (\"Iznos koji učenik treba da plati je:\", skolarina - skolarina * 0.1)\n",
    "    # print(\"Iznos koji učenik treba da plati je:\", 0.9 * skolarina)  # 90% školarine\n",
    "\n",
    "if prosjecna_ocjena < 2.5 and prosjecna_ocjena >= 1.5 and nagrada == 1:\n",
    "    print (\"Iznos koji učenik treba da plati je:\", skolarina - skolarina * 0.3)\n",
    "    # print(\"Iznos koji učenik treba da plati je:\", 0.7 * skolarina)  # 70% školarine\n",
    "if prosjecna_ocjena < 2.5:\n",
    "    print(\"Iznos koji učenik treba da plati je:\", skolarina)  # puni iznos školarine!"
   ]
  },
  {
   "cell_type": "code",
   "execution_count": 19,
   "id": "78179e88",
   "metadata": {},
   "outputs": [
    {
     "name": "stdout",
     "output_type": "stream",
     "text": [
      "1\n",
      "9\n"
     ]
    }
   ],
   "source": [
    "# Zadatak 6\n",
    "\"\"\"\n",
    "Na cjelobrojnoj brojevnoj pravoj dat je interval [a, b]. Napiši program koji određuje dužinu tog intervala\n",
    "koji priprada pozitivnom dijelu prave. Sa tastature se unose brojevi a i b. Zadatak riješiti na dva načina\n",
    "(uz pomoć ugrađenih funkcija i bez ugrađenih funkcija koristeći `if` iskaz).\n",
    "\"\"\"\n",
    "\n",
    "# Prvi način √\n",
    "# učitavamo interval\n",
    "a = int(input()); b = int(input())  # npr. a = 1, b = 2 => p = max(2-1, 0) => p = 1 √\n",
    "# izračunavamo i ispisujemo dužinu pozitivnog dijela tog intervala\n",
    "p = max(b - max(0, a), 0)\n",
    "print(p)\n",
    "\n",
    "# Drugi način √\n",
    "# učitavamo interval\n",
    "a = int(input()); b = int(input())  # npr. a = -12, b = 9 => p = 9 - 0 => p = 9 √\n",
    "# izračunavamo i ispisujemo dužinu pozitivnog dijela tog intervala\n",
    "if b <= 0:  # cio interval leži na nepozitivnom dijelu prave\n",
    "    p = 0\n",
    "else:  # desni kraj intervala je pozitivan\n",
    "    if a >= 0:  # početak pozitivnog dijela intervala je njegov lijevi kraj\n",
    "        p = b - a\n",
    "    else: # početak pozitivnog dijela intervala je 0\n",
    "        p = b - 0\n",
    "print(p)"
   ]
  },
  {
   "cell_type": "code",
   "execution_count": 20,
   "id": "4ad96fc0",
   "metadata": {},
   "outputs": [
    {
     "name": "stdout",
     "output_type": "stream",
     "text": [
      "Prosječna ocjena je: 4.75\n"
     ]
    }
   ],
   "source": [
    "# Zadatak 7\n",
    "\"\"\"\n",
    "Učenici tokom godine rade 5 kontrolnih zadataka. Nastavnik je obećao da će prilikom zaključivanja ocjena\n",
    "svakom učeniku zanemariti najslabiju ocjenu (ako postoji više takvih, zanemariće samo jednu). Napiši\n",
    "program koji učitava 5 ocjena jednog učenika i ispisuje prosječnu ocjenu kada se zanemari najslabije\n",
    "urađeni kontrolni. Zadatak uraditi bez korištenja pomoćnih ugrađenih funkcija.\n",
    "\"\"\"\n",
    "\n",
    "def min_5_brojeva(broj1, broj2, broj3, broj4, broj5):\n",
    "    minimum = broj1\n",
    "    if broj2 < minimum:\n",
    "        minimum = broj2\n",
    "    if broj3 < minimum:\n",
    "        minimum = broj3\n",
    "    if broj4 < minimum:\n",
    "        minimum = broj4\n",
    "    if broj5 < minimum:\n",
    "        minimum = broj5\n",
    "    return minimum\n",
    "\n",
    "# učitavanje pet ocjena\n",
    "ocjena1 = int(input())  # 5\n",
    "ocjena2 = int(input())  # 4\n",
    "ocjena3 = int(input())  # 3\n",
    "ocjena4 = int(input())  # 5\n",
    "ocjena5 = int(input())  # 5\n",
    "\n",
    "# izračunavanje traženog prosjeka\n",
    "zbir_svih_ocjena = ocjena1 + ocjena2 + ocjena3 + ocjena4 + ocjena5\n",
    "najslabija_ocjena = min_5_brojeva(ocjena1, ocjena2, ocjena3, ocjena4, ocjena5)\n",
    "zbir_ocjena_bez_najslabije = zbir_svih_ocjena - najslabija_ocjena\n",
    "prosjek_ocjena_bez_najslabije = zbir_ocjena_bez_najslabije / 4\n",
    "print (\"Prosječna ocjena je:\", prosjek_ocjena_bez_najslabije)"
   ]
  },
  {
   "cell_type": "code",
   "execution_count": null,
   "id": "3c2b0141",
   "metadata": {},
   "outputs": [],
   "source": [
    "# `while` i `for` petlje"
   ]
  },
  {
   "cell_type": "code",
   "execution_count": 21,
   "id": "4731eaae",
   "metadata": {},
   "outputs": [
    {
     "name": "stdout",
     "output_type": "stream",
     "text": [
      "100\n",
      "102\n",
      "104\n",
      "106\n",
      "108\n",
      "110\n",
      "112\n",
      "114\n"
     ]
    }
   ],
   "source": [
    "# Zadatak 8\n",
    "\"\"\"\n",
    "Za date cijele brojeve a i b, napisati program koji ispisuje redom sve parne trocifrene brojeve\n",
    "koji pripadaju datom intervalu [a, b]. - a i b se unose sa tastature.\n",
    "\n",
    "\"\"\"\n",
    "# učitavamo interval [a, b]\n",
    "a = int(input()); b = int(input())  # npr. a = 13, b = 115\n",
    "\n",
    "# određujemo presjek sa intervalom [100, 999]\n",
    "od = max(a, 100); do = min(b, 999)  # od = 100, do = 115\n",
    "\n",
    "# osiguravamo da lijevi i desni kraj budu parni brojevi\n",
    "if (od % 2 != 0):\n",
    "    od = od + 1  # 100\n",
    "if (do % 2 != 0):\n",
    "    do = do - 1  # 115 - 1 = 114\n",
    "\n",
    "# vršimo iteraciju i ispisujemo sve tražene brojeve\n",
    "for i in range(od, do+1, 2):  # [100, 114+1) -> [100, 114] √\n",
    "    print(i)"
   ]
  },
  {
   "cell_type": "code",
   "execution_count": 22,
   "id": "8190ff78",
   "metadata": {
    "scrolled": true
   },
   "outputs": [
    {
     "name": "stdout",
     "output_type": "stream",
     "text": [
      "3\n",
      "2\n",
      "1\n",
      "0\n",
      "---------------\n",
      "2\n",
      "1\n",
      "0\n"
     ]
    }
   ],
   "source": [
    "# Zadatak 9\n",
    "# Napisati program koji ispisuje brojeve unazad od datog broja do nule.\n",
    "# Zadatak riješiti na dva načina - upotrebom `for` i `while` petlje.\n",
    "\n",
    "# `for` petlja\n",
    "a = int(input())  # npr. a = 3\n",
    "for i in range(a, -1, -1):\n",
    "    print(i)\n",
    "\n",
    "print (\"---------------\")\n",
    "\n",
    "# `while` petlja\n",
    "a = int(input())  # npr. a = 2\n",
    "while a >= 0:\n",
    "    print(a)\n",
    "    a -= 1"
   ]
  },
  {
   "cell_type": "code",
   "execution_count": 25,
   "id": "590b0a8c",
   "metadata": {},
   "outputs": [
    {
     "name": "stdout",
     "output_type": "stream",
     "text": [
      "41\n"
     ]
    }
   ],
   "source": [
    "# Zadatak 10\n",
    "\"\"\"\n",
    "Napisati program kojim se određuje zbir n datih cijelih brojeva.\n",
    "\"\"\"\n",
    "n = int(input())    # broj brojeva, npr. 9\n",
    "zbir = 0            # zbir brojeva\n",
    "for i in range(n):  # n puta ponavljamo\n",
    "    broj = int(input())  # učitavamo broj: 6, 7, 6, 4, 7, 8, 1, 1, 1\n",
    "    zbir = zbir + broj   # uvećavamo zbir\n",
    "print(zbir)  # ispisujemo konačan zbir -> 41 √"
   ]
  },
  {
   "cell_type": "code",
   "execution_count": 28,
   "id": "c273a278",
   "metadata": {},
   "outputs": [
    {
     "name": "stdout",
     "output_type": "stream",
     "text": [
      "3\n",
      "-----------\n",
      "0\n"
     ]
    }
   ],
   "source": [
    "# Zadatak 11\n",
    "\"\"\"\n",
    "Sa tastature se unose cijeli brojevi dok se ne unese nula.\n",
    "Napisati program kojim se pokazuje koliko je unijeto brojeva, ne računajući nulu.\n",
    "\"\"\"\n",
    "# `while` petlja\n",
    "\n",
    "broj = 0  # broj učitanih brojeva različitih od nule\n",
    "x = int(input())     # čitamo prvi broj, npr. x = 16\n",
    "while x != 0:        # dok nije učitana nula\n",
    "    broj = broj + 1  # uvećavamo brojač\n",
    "    x = int(input()) # učitavamo naredni broj: 12, 9, 0\n",
    "print(broj)  # 3 √\n",
    "\n",
    "print (\"-----------\")\n",
    "\n",
    "broj = 0\n",
    "while True:\n",
    "    x = int(input())  # npr. x = 0\n",
    "    if x == 0:\n",
    "        break\n",
    "    broj = broj + 1\n",
    "print(broj)  # 0 √"
   ]
  }
 ],
 "metadata": {
  "kernelspec": {
   "display_name": "Python 3 (ipykernel)",
   "language": "python",
   "name": "python3"
  },
  "language_info": {
   "codemirror_mode": {
    "name": "ipython",
    "version": 3
   },
   "file_extension": ".py",
   "mimetype": "text/x-python",
   "name": "python",
   "nbconvert_exporter": "python",
   "pygments_lexer": "ipython3",
   "version": "3.10.10"
  }
 },
 "nbformat": 4,
 "nbformat_minor": 5
}
