{
 "cells": [
  {
   "cell_type": "code",
   "execution_count": 1,
   "id": "e3e70976",
   "metadata": {},
   "outputs": [
    {
     "name": "stdout",
     "output_type": "stream",
     "text": [
      "{5: [0], 6: [1, 2, 4, 6], 7: [3], 9: [5]}\n"
     ]
    }
   ],
   "source": [
    "# Zadatak 1\n",
    "\n",
    "# Unijeti listu cijelih brojeva. Unos se prekida kada se jedan isti broj unese četiri puta.\n",
    "# Ispisati skupa svaki uneseni broj i njegov(e) indeks(e) pojavljivanja u listi.\n",
    "\n",
    "def br_ponavljanja(lista, broj):\n",
    "    # br = lista.count(broj)\n",
    "    br = 0\n",
    "    for b in lista:\n",
    "        if b == broj:\n",
    "            br += 1\n",
    "    return br\n",
    "\n",
    "def indeksi(lista, n):\n",
    "    indeksi = [i for i, v in enumerate(lista) if v == n]\n",
    "    return indeksi\n",
    "\n",
    "# `enumerate` uzima listu kao parametar i tada ta funkcija vraća novu listu.\n",
    "# U toj novoj listi pravi elemente koji su sastavljeni od svojih indeksa i elemenata,\n",
    "# npr. ['a', 'b', 'c'] -> [(0, a), (1, b), (2, c)]\n",
    "\n",
    "lista_br = []\n",
    "while True:\n",
    "    k = int(input(\"unesite element: \"))  # 5 6 6 7 6 9 6\n",
    "    lista_br.append(k)\n",
    "    bj = br_ponavljanja(lista_br, k)\n",
    "    if bj == 4:\n",
    "        break\n",
    "\n",
    "d = dict()  # d = {}\n",
    "for br in lista_br:\n",
    "    if br not in d.keys():\n",
    "        d[br] = indeksi(lista_br, br)\n",
    "\n",
    "print(d)  # {5: [0], 6: [1, 2, 4, 6], 7: [3], 9: [5]}"
   ]
  },
  {
   "cell_type": "code",
   "execution_count": 3,
   "id": "db9b5400",
   "metadata": {},
   "outputs": [
    {
     "name": "stdout",
     "output_type": "stream",
     "text": [
      "['Milica', 'Marija']\n",
      "{'M': 2, 'i': 3, 'l': 1, 'c': 1, 'a': 3, 'r': 1, 'j': 1}\n"
     ]
    }
   ],
   "source": [
    "# Zadatak 2\n",
    "\n",
    "# Sa tastature se unosi lista niski. Ispitati koliko se puta javlja svaki od karaktera u listi.\n",
    "\n",
    "def broj_javljanja(lista, c):\n",
    "    br = 0\n",
    "    for niska in lista:\n",
    "        br += niska.count(c)\n",
    "    return br\n",
    "\n",
    "if __name__ == \"__main__\":\n",
    "    lista = []\n",
    "    while True:\n",
    "        niska = input(\"Unesite nisku: \")  # Milica Marija\n",
    "        if niska.strip() == \"\":\n",
    "            break\n",
    "        lista.append(niska)\n",
    "    print(lista)  # ['Milica', 'Marija']\n",
    "\n",
    "    d = {}\n",
    "    for niska in lista:\n",
    "        for karakter in niska:\n",
    "            if karakter not in d.keys():\n",
    "                d[karakter] = broj_javljanja(lista, karakter)\n",
    "    print(d)  # {'M': 2, 'i': 3, 'l': 1, 'c': 1, 'a': 3, 'r': 1, 'j': 1}\n"
   ]
  },
  {
   "cell_type": "code",
   "execution_count": 4,
   "id": "e9956847",
   "metadata": {},
   "outputs": [
    {
     "name": "stdout",
     "output_type": "stream",
     "text": [
      "[{'student': 'Ana', 'godina_studiranja': 1, 'prosjek': 3.0}, {'student': 'Marija', 'godina_studiranja': 4, 'prosjek': 2.0}, {'student': 'Milica', 'godina_studiranja': 3, 'prosjek': 9.0}]\n"
     ]
    }
   ],
   "source": [
    "# Zadatak 3\n",
    "\n",
    "# Sa tastature se unosi lista koja sadrži elemente oblika\n",
    "# `{\"student\": ime_studenta, \"godina_studija\": godina_studija, \"prosjek\": prosjecna_ocjena}`.\n",
    "# Unos se prekida kada se unese student praznog imena.\n",
    "# Sortirati listu po kriterijumu `godina_studija * prosjek`.\n",
    "\n",
    "def sort_fun(student):\n",
    "    return student['godina_studiranja'] * student['prosjek']\n",
    "\n",
    "if __name__ == '__main__':\n",
    "    lista_studenata = []\n",
    "    while True:\n",
    "        ime = input(\"ime: \")         # Milica Marija Ana\n",
    "        if ime.strip() == \"\":\n",
    "            break\n",
    "        god = int(input(\"Godina studiranja: \"))  # 3 4 1\n",
    "        prosjek = float(input(\"Prosjek: \"))      # 9 2 3\n",
    "        lista_studenata.append({\"student\": ime, \"godina_studiranja\": god, \"prosjek\": prosjek})\n",
    "        # lista_studenata.sort(key = sort_fun)\n",
    "        lista_studenata = sorted(lista_studenata, key = sort_fun)\n",
    "    print(lista_studenata)\n"
   ]
  },
  {
   "cell_type": "code",
   "execution_count": 5,
   "id": "3f98372b",
   "metadata": {},
   "outputs": [
    {
     "name": "stdout",
     "output_type": "stream",
     "text": [
      "{7: [7], 2: [6, 2], 3: [6], 5: [5]}\n"
     ]
    }
   ],
   "source": [
    "# Zadatak 4\n",
    "\n",
    "# Sa tastature se unose prirodni brojevi. Unos se prekida kada se unese broj n koji je manji od 2.\n",
    "# Za svaki prost broj čuvati listu unesenih brojeva koje on dijeli.\n",
    "\n",
    "# Ideja - za svaki uneseni broj uzmemo listu njegovih prostih djelilaca te ih dodajemo u rječnik\n",
    "# ili ažuriramo njihovu vrijednost.\n",
    "\n",
    "def prost(n):\n",
    "    uslov = True\n",
    "    for i in range(2, n):\n",
    "        if n % i == 0:\n",
    "            uslov = False\n",
    "            break\n",
    "    return uslov\n",
    "\n",
    "def prosti_faktori(n):\n",
    "    l = []\n",
    "    for k in range(2, n+1):\n",
    "        if n % k == 0 and prost(k):\n",
    "            l.append(k)\n",
    "    return l\n",
    "\n",
    "if __name__ == '__main__':\n",
    "    l = []\n",
    "    while True:\n",
    "        n = int(input(\"Unesite broj: \"))  # 7 6 5 2 1\n",
    "        if n < 2:\n",
    "            break\n",
    "        l.append(n)\n",
    "\n",
    "    d = dict()\n",
    "    for br in l:\n",
    "        pf = prosti_faktori(br)\n",
    "        for p in pf:\n",
    "            if d.get(p):\n",
    "                d[p].append(br)\n",
    "            else:\n",
    "                d[p] = [br]\n",
    "    print(d)  # {7: [7], 2: [6, 2], 3: [6], 5: [5]}\n"
   ]
  },
  {
   "cell_type": "code",
   "execution_count": 6,
   "id": "d35c8e94",
   "metadata": {},
   "outputs": [
    {
     "name": "stdout",
     "output_type": "stream",
     "text": [
      "{156: [2, 3, 13], 321: [3, 107], 333: [3, 37], 799: [17, 47]}\n"
     ]
    }
   ],
   "source": [
    "# Zadatak 5\n",
    "\n",
    "# Sa tastature se unosi lista prirоdnih brojeva dužine bar 3.\n",
    "# Unos se prekida kad se unese broj koji je veći od sume prethodna dva unesena broja.\n",
    "# Za svaki unos sačuvati listu prostih faktora.\n",
    "# Kreirati rječnik koji kao ključ ima uneseni broj, a kao vrijednost listu njegovih prostih faktora.\n",
    "\n",
    "def prost(n):\n",
    "    uslov = True\n",
    "    for k in range(2, n):\n",
    "        if n % k == 0:\n",
    "            uslov = False\n",
    "            break\n",
    "    return uslov\n",
    "\n",
    "def prosti_faktori(n):\n",
    "    lista = []\n",
    "    for k in range (2, n+1):\n",
    "        if n % k == 0 and prost(k):\n",
    "            lista.append(k)\n",
    "    return lista\n",
    "\n",
    "if __name__ == '__main__':\n",
    "    b1 = int(input(\"broj 1: \"))    # 156\n",
    "    b2 = int(input(\"broj 2: \"))    # 321\n",
    "    b3 = int(input(\"broj 3: \"))    # 333\n",
    "    lista = [b1, b2, b3]\n",
    "    while b1 + b2 >= b3:\n",
    "        b1, b2 = b2, b3\n",
    "        b3 = int(input(\"broj: \"))  # 799\n",
    "        lista.append(b3)\n",
    "\n",
    "    d = {}\n",
    "    for br in lista:\n",
    "        if not d.get(br):\n",
    "            d[br] = prosti_faktori(br)\n",
    "    print(d)  # {156: [2, 3, 13], 321: [3, 107], 333: [3, 37], 799: [17, 47]}\n"
   ]
  },
  {
   "cell_type": "code",
   "execution_count": 7,
   "id": "2bf56983",
   "metadata": {},
   "outputs": [
    {
     "name": "stdout",
     "output_type": "stream",
     "text": [
      "slovo P se pojavljuje: 1\n",
      "slovo r se pojavljuje: 5\n",
      "slovo o se pojavljuje: 3\n",
      "slovo c se pojavljuje: 1\n",
      "slovo e se pojavljuje: 2\n",
      "slovo d se pojavljuje: 1\n",
      "slovo u se pojavljuje: 1\n",
      "slovo a se pojavljuje: 3\n",
      "slovo l se pojavljuje: 1\n",
      "slovo n se pojavljuje: 2\n",
      "slovo p se pojavljuje: 1\n",
      "slovo g se pojavljuje: 1\n",
      "slovo m se pojavljuje: 1\n",
      "slovo i se pojavljuje: 1\n",
      "slovo j se pojavljuje: 1\n"
     ]
    }
   ],
   "source": [
    "# Zadatak 6\n",
    "\n",
    "# Koristeći heš-mapu, u rečenici koja se unosi sa tastature, izračunati za svako slovo\n",
    "# koje se pojavljuje, broj njegovog pojavljivanja u rečenici.\n",
    "\n",
    "recenica = input(\"Unijeti recenicu: \")  # `Proceduralno programiranje` <-- 26 карактера унесено √\n",
    "podaci = dict(())  # да ли би могло и овако: `podaci = dict()`  # <class 'dict'> :thinking: √\n",
    "\n",
    "for letter in recenica:\n",
    "    if letter in podaci.keys():\n",
    "        podaci[letter] += 1\n",
    "    else:\n",
    "        podaci.update({letter : 1})\n",
    "\n",
    "for x, y in podaci.items():\n",
    "    if (x >= 'A' and x < 'Z') or (x >= 'a' and x <= 'z'):\n",
    "        print(\"slovo\", x, \"se pojavljuje:\", y)  # 25 појављивања слова + 1 размак = 26 карактера √\n"
   ]
  },
  {
   "cell_type": "code",
   "execution_count": 8,
   "id": "9380c27d",
   "metadata": {},
   "outputs": [
    {
     "name": "stdout",
     "output_type": "stream",
     "text": [
      "Broj razlicitih slova: 10\n",
      "{0: 0, 1: 1, 2: 4, 3: 9, 4: 16, 5: 25}\n"
     ]
    }
   ],
   "source": [
    "# Zadatak 7\n",
    "\n",
    "# Koristeći `set` strukturu, izračunati broj različitih cifara broja koji se unosi sa tastature.\n",
    "\n",
    "slova = set(())  # да ли би могло и овако: `slova = set()`  # <class 'set'> :thinking: √\n",
    "recenica = \"Proceduralno\"\n",
    "for slovo in recenica:\n",
    "    slova.add(slovo)\n",
    "\n",
    "print(\"Broj razlicitih slova:\", len(slova))  # Broj razlicitih slova: 10 <-- `Prceduraln` √\n",
    "\n",
    "# ■ БОНУС ●\n",
    "# dodavanje u heš-mape na drugi način:\n",
    "squares = {}  # `type(squares)` --> `<class 'dict'>` LOOK! :eyes: √\n",
    "for x in range(6):\n",
    "    squares[x] = x * x\n",
    "print(squares)  # {0: 0, 1: 1, 2: 4, 3: 9, 4: 16, 5: 25} √"
   ]
  }
 ],
 "metadata": {
  "kernelspec": {
   "display_name": "Python 3 (ipykernel)",
   "language": "python",
   "name": "python3"
  },
  "language_info": {
   "codemirror_mode": {
    "name": "ipython",
    "version": 3
   },
   "file_extension": ".py",
   "mimetype": "text/x-python",
   "name": "python",
   "nbconvert_exporter": "python",
   "pygments_lexer": "ipython3",
   "version": "3.10.10"
  }
 },
 "nbformat": 4,
 "nbformat_minor": 5
}
