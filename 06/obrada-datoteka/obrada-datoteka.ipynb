{
 "cells": [
  {
   "cell_type": "markdown",
   "id": "d12d79f0",
   "metadata": {},
   "source": [
    "### Obrada datoteka"
   ]
  },
  {
   "cell_type": "code",
   "execution_count": null,
   "id": "fdddcf85",
   "metadata": {},
   "outputs": [],
   "source": [
    "# Ukoliko želite da pišete program koji otvara i čita fajl, u tom programu mora postojati\n",
    "# informacija GDJE se fajl nalazi. Po automatizmu, smatra se da je fajl, u koji želimo da\n",
    "# upisujemo ili iz kojeg želimo da pročitamo podatke, smješten u istom folderu kao i program.\n",
    "\n",
    "# U kodu ispod može se vidjeti na koji način se čita sadržaj datoteke."
   ]
  },
  {
   "cell_type": "code",
   "execution_count": 3,
   "id": "1a183bd0",
   "metadata": {},
   "outputs": [
    {
     "name": "stdout",
     "output_type": "stream",
     "text": [
      "Prva linija\n"
     ]
    }
   ],
   "source": [
    "file = open('datotekaaaa.txt', 'r')\n",
    "contents = file.read()\n",
    "file.close()\n",
    "print(contents)"
   ]
  },
  {
   "cell_type": "code",
   "execution_count": 5,
   "id": "d7af07ef",
   "metadata": {},
   "outputs": [
    {
     "name": "stdout",
     "output_type": "stream",
     "text": [
      "Prva linija\n"
     ]
    }
   ],
   "source": [
    "\"\"\"\n",
    "`with` iskaz\n",
    "\n",
    "with «izraz» as «varijabla»:\n",
    "    «blok»\n",
    "\"\"\"\n",
    "with open('datotekaaaa.txt', 'r') as file:\n",
    "    contents = file.read()\n",
    "print(contents)\n"
   ]
  },
  {
   "cell_type": "code",
   "execution_count": 10,
   "id": "327c4beb",
   "metadata": {},
   "outputs": [
    {
     "name": "stdout",
     "output_type": "stream",
     "text": [
      "/\n",
      "/\n"
     ]
    }
   ],
   "source": [
    "# Folder u kojem se nalazi datoteka\n",
    "\n",
    "import os\n",
    "print(os.getcwd())  # cwd - Current Working Directory √\n",
    "# /home/dragancajic/Devs/pmfbl/pp/vjezbe-06/obrada-datoteka\n",
    "\n",
    "#os.chdir('C:\\\\Users\\\\Milica\\\\Desktop\\\\UOAR2 i UR2\\\\Vježbe\\\\Vježbe 4')\n",
    "os.chdir('..')      # chdir - CHange DIRectory  √\n",
    "print(os.getcwd())  # '/home/dragancajic/Devs/pmfbl/pp/vjezbe-06'\n",
    "\n",
    "# НАПОМЕНА: VSCode памти посљедњу измјену радног директоријума, тако да \"не враћа\" ПОЧЕТНУ\n",
    "# ПОЗИЦИЈУ на директоријум у којем се налази тренутно отворена датотека у којој се управо\n",
    "# сада налазимо, а то је -> obrada-datoteka.ipynb унутар \"obrada-datoteka\" директоријума! :thinking:"
   ]
  },
  {
   "cell_type": "code",
   "execution_count": 8,
   "id": "f1c9baf1",
   "metadata": {},
   "outputs": [
    {
     "name": "stdout",
     "output_type": "stream",
     "text": [
      "/home/dragancajic/Devs/pmfbl/pp/vjezbe-06/obrada-datoteka\n",
      "Prvih 10 slova: Prva linij\n",
      "Ostatak: a teksta\n",
      "Druga linija teksta\n",
      "Treca linija teksta\n",
      "Cetvrta linija teksta\n",
      "\n"
     ]
    }
   ],
   "source": [
    "# Ispis prvih 10 slova iz datoteke | `read([chars: int])`\n",
    "\"\"\"\n",
    "Definition : read()\n",
    "\n",
    "Read at most n characters from stream.\n",
    "\n",
    "Read from underlying buffer until we have n characters or we hit EOF.\n",
    "If n is negative or omitted, read until EOF. √\n",
    "\"\"\"\n",
    "import os\n",
    "\n",
    "# `Restart Kernel`, па онда `Execute Cell (Super + Enter)` или `Ctrl + Enter` <-- :eyes:\n",
    "print(os.getcwd())\n",
    "# /home/dragancajic/Devs/pmfbl/pp/vjezbe-06/obrada-datoteka\n",
    "\n",
    "#os.chdir('./pmfbl/pp/vjezbe-06/')\n",
    "#os.getcwd()\n",
    "\n",
    "with open('./linije-teksta.txt', 'r') as example_file:\n",
    "    first_ten_chars = example_file.read(10)  # read(num_of_chars)\n",
    "    the_rest = example_file.read()\n",
    "    \n",
    "print(\"Prvih 10 slova:\", first_ten_chars)\n",
    "print(\"Ostatak:\", the_rest)"
   ]
  },
  {
   "cell_type": "code",
   "execution_count": 11,
   "id": "7af39daf",
   "metadata": {},
   "outputs": [
    {
     "name": "stdout",
     "output_type": "stream",
     "text": [
      "['Prva linija teksta\\n', 'Druga linija teksta\\n', 'Treca linija teksta\\n', 'Cetvrta linija teksta\\n']\n"
     ]
    }
   ],
   "source": [
    "# Раздвој текст по \"бјелинама\" - читај линије текста | `readlines()`\n",
    "\"\"\"\n",
    "Definition : readlines(hint=-1, /)\n",
    "\n",
    "Return a list of lines from the stream.\n",
    "\n",
    "hint can be specified to control the number of lines read: no more lines will\n",
    "be read if the total size (in bytes/characters) of all lines so far exceeds hint.\n",
    "\"\"\"\n",
    "\n",
    "with open('linije-teksta.txt', 'r') as example_file:\n",
    "    lines = example_file.readlines()\n",
    "print(lines)\n",
    "\n",
    "# output:\n",
    "\n",
    "# ['Prva linija teksta\\n',\n",
    "#  'Druga linija teksta\\n',\n",
    "#  'Treca linija teksta\\n',\n",
    "#  'Cetvrta linija teksta\\n'\n",
    "# ]"
   ]
  },
  {
   "cell_type": "code",
   "execution_count": 14,
   "id": "7b4d4b70",
   "metadata": {},
   "outputs": [
    {
     "name": "stdout",
     "output_type": "stream",
     "text": [
      "Pluton\n",
      "Neptun\n",
      "Uran\n",
      "Saturn\n",
      "Jupiter\n",
      "Mars\n",
      "Zemlja\n",
      "Venera\n",
      "Merkur\n"
     ]
    }
   ],
   "source": [
    "with open('planete.txt', 'r') as planets_file:\n",
    "    planets = planets_file.readlines()\n",
    "\n",
    "for planet in reversed(planets):\n",
    "    print(planet.strip())"
   ]
  },
  {
   "cell_type": "code",
   "execution_count": 16,
   "id": "7e8a1e7d",
   "metadata": {},
   "outputs": [
    {
     "name": "stdout",
     "output_type": "stream",
     "text": [
      "Jupiter\n",
      "Mars\n",
      "Merkur\n",
      "Neptun\n",
      "Pluton\n",
      "Saturn\n",
      "Uran\n",
      "Venera\n",
      "Zemlja\n"
     ]
    }
   ],
   "source": [
    "with open('planete.txt', 'r') as planets_file:\n",
    "    planets = planets_file.readlines()\n",
    "\n",
    "for planet in sorted(planets):\n",
    "    print(planet.strip())"
   ]
  },
  {
   "cell_type": "code",
   "execution_count": 18,
   "id": "ab0e51fe",
   "metadata": {},
   "outputs": [
    {
     "name": "stdout",
     "output_type": "stream",
     "text": [
      "7\n",
      "7\n",
      "7\n",
      "5\n",
      "8\n",
      "7\n",
      "5\n",
      "7\n",
      "6\n"
     ]
    }
   ],
   "source": [
    "# Dužina svake linije u datoteci\n",
    "with open('planete.txt', 'r') as data_file:\n",
    "    for line in data_file:\n",
    "        print(len(line))"
   ]
  },
  {
   "cell_type": "code",
   "execution_count": 19,
   "id": "1b4b4c17",
   "metadata": {},
   "outputs": [
    {
     "name": "stdout",
     "output_type": "stream",
     "text": [
      "6\n",
      "6\n",
      "6\n",
      "4\n",
      "7\n",
      "6\n",
      "4\n",
      "6\n",
      "6\n"
     ]
    }
   ],
   "source": [
    "# Dužina bez praznog prostora\n",
    "with open('planete.txt', 'r') as data_file:\n",
    "    for line in data_file:\n",
    "        print(len(line.strip()))"
   ]
  },
  {
   "cell_type": "code",
   "execution_count": 21,
   "id": "dc69affa",
   "metadata": {},
   "outputs": [
    {
     "name": "stdout",
     "output_type": "stream",
     "text": [
      "Zbir podataka: 373\n"
     ]
    }
   ],
   "source": [
    "# Korištenje `readline` tehnike za preskakanje ispisivanja reda iz datoteke.\n",
    "# Sabiranje vrijednosti iz datoteke.\n",
    "\"\"\"\n",
    "Definition : readline(size=-1, /)\n",
    "\n",
    "Read and return a line from the stream.\n",
    "\n",
    "If size is specified, at most size bytes will be read.\n",
    "\n",
    "The line terminator is always b'n' for binary files;\n",
    "for text files, the newlines argument to open can be used to select the line terminator(s) recognized.\n",
    "\"\"\"\n",
    "with open('podaci.txt', 'r') as podaci_file:\n",
    "# Čitanje i preskakanje naslova\n",
    "    line = podaci_file.readline()  # прочитај прву линију (наслов) из 'podaci.txt'\n",
    "    #print(line.strip())  # уклони карактер за нови ред, тј. '\\n' из линије наслова\n",
    "# Nastavak čitanja i preskakanja komentara dok se ne dođe do prvog podatka\n",
    "    data = podaci_file.readline().strip()  # уклони \"бјелине\", нпр. '\\n'\n",
    "    #print(data)  #Neki komentar koji je takođe potrebno preskočiti\n",
    "    while data.startswith('#'):\n",
    "        data = podaci_file.readline().strip()\n",
    "        #print(data)  # ипак је прочитан '22', након треће линије текста! ;-)\n",
    "    #print(data, type(data))    # 22 <class 'str'>\n",
    "# Prethodno smo došli do prvog \"brojčanog\" stringa -> kastujmo ga u broj\n",
    "    total = int(data)  # бројчани податак ---> 22\n",
    "    #print(total, type(total))  # 22 <class 'int'>\n",
    "# Čitanje ostalih podataka/brojeva i dodavanje u zbir\n",
    "    for data in podaci_file:\n",
    "        total = total + int(data.strip())\n",
    "        #print(total)\n",
    "print(\"Zbir podataka:\", total)"
   ]
  },
  {
   "cell_type": "code",
   "execution_count": 22,
   "id": "8e2b3d67",
   "metadata": {
    "collapsed": true
   },
   "outputs": [
    {
     "name": "stdout",
     "output_type": "stream",
     "text": [
      "Coloured fox fur production, HOPEDALE, Labrador,, 1834-1925\n",
      "#Source: C. Elton (1942) \"Voles, Mice and Lemmings\", Oxford Univ. Press\n",
      "#Table 17, p.265--266\n",
      "22\n",
      "29\n",
      "2\n",
      "16\n",
      "12\n",
      "35\n",
      "8\n",
      "83\n",
      "166\n",
      "62\n",
      "77\n",
      "42\n",
      "54\n",
      "56\n",
      "5\n",
      "9\n",
      "78\n",
      "151\n",
      "27\n",
      "14\n",
      "71\n",
      "261\n",
      "22\n",
      "3\n",
      "16\n",
      "70\n",
      "7\n",
      "2\n",
      "26\n",
      "27\n",
      "35\n",
      "9\n",
      "11\n",
      "73\n",
      "39\n",
      "22\n",
      "41\n",
      "31\n",
      "60\n",
      "7\n",
      "28\n",
      "43\n",
      "17\n",
      "26\n",
      "35\n",
      "60\n",
      "75\n",
      "18\n",
      "58\n",
      "38\n",
      "28\n",
      "26\n",
      "29\n",
      "43\n",
      "16\n",
      "40\n",
      "25\n",
      "28\n",
      "12\n",
      "22\n",
      "13\n",
      "52\n",
      "90\n",
      "103\n",
      "15\n",
      "26\n",
      "29\n",
      "102\n",
      "31\n",
      "9\n",
      "33\n",
      "90\n",
      "95\n",
      "17\n",
      "35\n",
      "59\n",
      "115\n",
      "12\n",
      "26\n",
      "38\n",
      "202\n",
      "25\n",
      "83\n",
      "92\n",
      "58\n",
      "0\n",
      "19\n",
      "63\n",
      "108\n",
      "25\n",
      "38\n",
      "231\n"
     ]
    }
   ],
   "source": [
    "# Fajlovi preko Interneta\n",
    "\n",
    "import urllib.request\n",
    "url = 'https://robjhyndman.com/tsdldata/ecology1/hopedale.dat'\n",
    "with urllib.request.urlopen(url) as webpage:\n",
    "    for line in webpage:\n",
    "        line = line.strip()\n",
    "        line = line.decode('utf-8')\n",
    "        print(line)\n"
   ]
  },
  {
   "cell_type": "code",
   "execution_count": 23,
   "id": "1e33b3e3",
   "metadata": {},
   "outputs": [],
   "source": [
    "# Upisivanje u fajl\n",
    "\n",
    "with open('upis.txt', 'w') as upis_file:  # write (пребрише претходни садржај датотеке!)\n",
    "    upis_file.write('Prva linija koja se upisuje')\n",
    "\n",
    "# Provjeriti šta se upisalo u datoteku `upis.txt`."
   ]
  },
  {
   "cell_type": "code",
   "execution_count": 24,
   "id": "e8fac68a",
   "metadata": {},
   "outputs": [],
   "source": [
    "with open('upis.txt', 'w') as upis_file:  # write (пребрише претходни упис!)\n",
    "    upis_file.write('Druga linija koja se upisuje')\n",
    "\n",
    "# Provjeriti šta je sadržaj datoteke (nakon drugog upisIVANJAa)."
   ]
  },
  {
   "cell_type": "code",
   "execution_count": 25,
   "id": "d7d0a9ff",
   "metadata": {},
   "outputs": [],
   "source": [
    "with open('upis.txt', 'a') as upis_file:  # append (додај на постојећи садржај!)\n",
    "    upis_file.write('Treca linija koja se upisuje')\n"
   ]
  },
  {
   "cell_type": "code",
   "execution_count": 26,
   "id": "ba2234b5",
   "metadata": {},
   "outputs": [],
   "source": [
    "with open('upis.txt', 'a') as upis_file:  # append (додај на постојећи садржај!)\n",
    "    upis_file.write('\\n Cetvrta linija koja se upisuje')  # нови ред + 1 бјелина\n"
   ]
  },
  {
   "cell_type": "code",
   "execution_count": 27,
   "id": "7fb14f25",
   "metadata": {},
   "outputs": [],
   "source": [
    "# Domaći\n",
    "\n",
    "# U primjeru ispod koristi se čitanje i pisanju u datoteku.\n",
    "\n",
    "# Ulazna datoteka sadrži linije koje su sačinjene od dva broja odvojena jednim razmakom.\n",
    "\n",
    "# Izlazna datoteka bi trebalo da u svakoj liniji sadrži po tri broja:\n",
    "# prva dva broja su ulazni podaci, a treći broj je njihov zbir.\n",
    "\n",
    "from typing import TextIO\n",
    "#from io import StringIO\n",
    "\n",
    "def sum_number_pairs(input_file: TextIO, output_file: TextIO) -> None:\n",
    "    for number_pair in input_file:\n",
    "        number_pair = number_pair.strip()\n",
    "        operands = number_pair.split()\n",
    "        total = float(operands[0]) + float(operands[1])\n",
    "        new_line = '{0} {1}\\n'.format(number_pair, total)\n",
    "        output_file.write(new_line)\n",
    "\n",
    "\n",
    "if __name__ == '__main__':\n",
    "    with open('brojevi.txt', 'r') as input_file, \\\n",
    "        open('brojevi_suma.txt', 'w') as output_file:\n",
    "        sum_number_pairs(input_file, output_file)\n"
   ]
  },
  {
   "cell_type": "code",
   "execution_count": 17,
   "id": "a9e7d5fc",
   "metadata": {},
   "outputs": [
    {
     "data": {
      "text/plain": [
       "'1.3 3.4\\n'"
      ]
     },
     "execution_count": 17,
     "metadata": {},
     "output_type": "execute_result"
    }
   ],
   "source": [
    "# Pisanje primjera uz pomoć `StringIO`\n",
    "\n",
    "from io import StringIO\n",
    "\n",
    "input_string = '1.3 3.4\\n2 4.2\\n-1 1\\n'\n",
    "infile = StringIO(input_string)\n",
    "infile.readline()  # испис (само) једне линије из улазне ниске карактера / стринга"
   ]
  },
  {
   "cell_type": "code",
   "execution_count": 19,
   "id": "7684c3d0",
   "metadata": {},
   "outputs": [
    {
     "data": {
      "text/plain": [
       "12"
      ]
     },
     "execution_count": 19,
     "metadata": {},
     "output_type": "execute_result"
    }
   ],
   "source": [
    "from io import StringIO\n",
    "\n",
    "outfile = StringIO()\n",
    "outfile.write('1.3 3.4 4.7\\n')  # 11 карактера + '\\n' -> 12"
   ]
  },
  {
   "cell_type": "code",
   "execution_count": 20,
   "id": "d158223a",
   "metadata": {},
   "outputs": [
    {
     "data": {
      "text/plain": [
       "10"
      ]
     },
     "execution_count": 20,
     "metadata": {},
     "output_type": "execute_result"
    }
   ],
   "source": [
    "outfile.write('2 4.2 6.2\\n')  # 9 карактера + '\\n' -> 10"
   ]
  },
  {
   "cell_type": "code",
   "execution_count": 21,
   "id": "1dca70b2",
   "metadata": {},
   "outputs": [
    {
     "data": {
      "text/plain": [
       "9"
      ]
     },
     "execution_count": 21,
     "metadata": {},
     "output_type": "execute_result"
    }
   ],
   "source": [
    "outfile.write('-1 1 0.0\\n')  # 8 карактера + '\\n' -> 9"
   ]
  },
  {
   "cell_type": "code",
   "execution_count": 26,
   "id": "b9683c35",
   "metadata": {},
   "outputs": [
    {
     "name": "stdout",
     "output_type": "stream",
     "text": [
      "1.3 3.4 4.7\n",
      "2 4.2 6.2\n",
      "-1 1 0.0\n",
      "\n"
     ]
    }
   ],
   "source": [
    "outfile.getvalue()  # испис комплетног садржаја `outfile` StringIO објекта √\n",
    "# '1.3 3.4 4.7\\n2 4.2 6.2\\n-1 1 0.0\\n'\n",
    "\n",
    "print(outfile.getvalue())\n",
    "\n",
    "# output:\n",
    "\n",
    "# 1.3 3.4 4.7\n",
    "# 2 4.2 6.2\n",
    "# -1 1 0.0"
   ]
  }
 ],
 "metadata": {
  "kernelspec": {
   "display_name": "Python 3 (ipykernel)",
   "language": "python",
   "name": "python3"
  },
  "language_info": {
   "codemirror_mode": {
    "name": "ipython",
    "version": 3
   },
   "file_extension": ".py",
   "mimetype": "text/x-python",
   "name": "python",
   "nbconvert_exporter": "python",
   "pygments_lexer": "ipython3",
   "version": "3.10.10"
  }
 },
 "nbformat": 4,
 "nbformat_minor": 5
}
