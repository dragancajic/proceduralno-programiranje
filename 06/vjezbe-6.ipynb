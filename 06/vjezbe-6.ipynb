{
 "cells": [
  {
   "cell_type": "code",
   "execution_count": 30,
   "id": "241acdb3",
   "metadata": {},
   "outputs": [
    {
     "name": "stdout",
     "output_type": "stream",
     "text": [
      "Milica\n",
      "Ana\n",
      "Marko\n",
      "Marija\n"
     ]
    }
   ],
   "source": [
    "# Modul `math` - obrađeno kroz prethodne vježbe.\n",
    "# ~- ~- ~- ~- ~- ~- ~- ~- ~- ~- ~- ~- ~- ~- ~- ~\n",
    "# `random` - par jednostavnijih primjera:\n",
    "\n",
    "# Primjer 1 - nasumično ispisati imena u listi\n",
    "\n",
    "import random\n",
    "\n",
    "ime = [\"Milica\", \"Marija\", \"Marko\", \"Ana\"]\n",
    "\n",
    "for i in range(1, 5):\n",
    "    random_ime = random.choice(ime)\n",
    "    print(random_ime)\n",
    "    ime.remove(random_ime)\n",
    "\n",
    "#print(ime)       # []\n",
    "#print(len(ime))  # 0"
   ]
  },
  {
   "cell_type": "code",
   "execution_count": 40,
   "id": "f46fc0db",
   "metadata": {},
   "outputs": [
    {
     "name": "stdout",
     "output_type": "stream",
     "text": [
      "['jabuka', 'jabuka', 'banana', 'jabuka', 'jabuka', 'jabuka', 'jabuka', 'jabuka', 'jabuka', 'jabuka', 'jabuka', 'banana', 'jabuka', 'jabuka']\n",
      "banana\n",
      "banana\n",
      "jabuka\n",
      "jabuka\n",
      "visnja\n",
      "jabuka\n",
      "jabuka\n",
      "visnja\n",
      "jabuka\n",
      "jabuka\n",
      "jabuka\n",
      "jabuka\n",
      "jabuka\n",
      "visnja\n"
     ]
    }
   ],
   "source": [
    "# Primjer 2\n",
    "\n",
    "import random\n",
    "\n",
    "lista = [\"jabuka\", \"banana\", \"visnja\"]\n",
    "print(random.choices(lista, weights = [10, 1, 1], k = 14))\n",
    "\n",
    "random_voce = random.choices(lista, weights = [10, 1, 1], k = 14)\n",
    "ispis_voce = list(map(lambda voce: voce, random_voce))\n",
    "\n",
    "for v in ispis_voce:\n",
    "    print(v)\n",
    "\n",
    "# `weights` - 10 puta je veća vjerovatnoća da će se ispisati `jabuka`\n",
    "# nego druga dva elementa liste! <-- LOOK! :eyes:"
   ]
  },
  {
   "cell_type": "code",
   "execution_count": 45,
   "id": "1eb25977",
   "metadata": {},
   "outputs": [
    {
     "name": "stdout",
     "output_type": "stream",
     "text": [
      "['visnja', 'banana', 'jabuka']\n"
     ]
    }
   ],
   "source": [
    "# Primjer 3\n",
    "\n",
    "import random\n",
    "\n",
    "lista = [\"jabuka\", \"banana\", \"visnja\"]\n",
    "random.shuffle(lista)\n",
    "print(lista)\n",
    "\n",
    "# Reorganizuje red elemenata u listi.\n",
    "# ~-~-~-~-~-~-~-~-~-~-~-~-~-~-~-~-~-~\n",
    "# енгл. `shuffle`\n",
    "# verb: Mix so as to make a random order or arrangement\n",
    "# \"shuffle the cards\"\n",
    "# noun: The act of mixing cards haphazardly"
   ]
  },
  {
   "cell_type": "code",
   "execution_count": 50,
   "id": "4028dbb0",
   "metadata": {},
   "outputs": [
    {
     "name": "stdout",
     "output_type": "stream",
     "text": [
      "['visnja', 'jabuka']\n"
     ]
    }
   ],
   "source": [
    "# Primjer 4\n",
    "\n",
    "import random\n",
    "\n",
    "lista = [\"jabuka\", \"banana\", \"visnja\"]\n",
    "print(random.sample(lista, k = 2))\n",
    "\n",
    "# Vraća bilo koja dva elementa u listi."
   ]
  },
  {
   "cell_type": "code",
   "execution_count": 165,
   "id": "306ac73d",
   "metadata": {},
   "outputs": [
    {
     "name": "stdout",
     "output_type": "stream",
     "text": [
      "4\n",
      "8\n",
      "20\n"
     ]
    }
   ],
   "source": [
    "# Primjer 5\n",
    "\n",
    "print(random.randrange(1, 5))       # 1, 2, 3, 4 <-- [1, 5)  korak 1\n",
    "print(random.randrange(2, 10, 3))   # 2, 5, 8    <-- [2, 10) korak 3\n",
    "print(random.randrange(20, 50, 3))  # [20, 50) korak 3\n",
    "# 20, 23, 26, 29, ..., 32, 35, ..., 38, 41, 44, ..., 47 √"
   ]
  },
  {
   "cell_type": "code",
   "execution_count": 18,
   "id": "8c040e5e",
   "metadata": {},
   "outputs": [],
   "source": [
    "# Rad sa datotekama - vježbe UuOiAR"
   ]
  },
  {
   "cell_type": "code",
   "execution_count": 19,
   "id": "2d842bfb",
   "metadata": {},
   "outputs": [
    {
     "ename": "IndentationError",
     "evalue": "unexpected indent (Temp/ipykernel_12696/3283909672.py, line 4)",
     "output_type": "error",
     "traceback": [
      "\u001b[1;36m  File \u001b[1;32m\"C:\\Users\\Milica\\AppData\\Local\\Temp/ipykernel_12696/3283909672.py\"\u001b[1;36m, line \u001b[1;32m4\u001b[0m\n\u001b[1;33m    print(\"Learn Python with us..\")\u001b[0m\n\u001b[1;37m    ^\u001b[0m\n\u001b[1;31mIndentationError\u001b[0m\u001b[1;31m:\u001b[0m unexpected indent\n"
     ]
    }
   ],
   "source": [
    "# Izuzeci - jednostavni primjeri -\n",
    "# https://pynative.com/python-exceptions/\n",
    "\n",
    "print(\"Welcome to PYnative\")\n",
    "    print(\"Learn Python with us..\")  # IndentationError: unexpected indent"
   ]
  },
  {
   "cell_type": "code",
   "execution_count": 20,
   "id": "5cce0aca",
   "metadata": {},
   "outputs": [
    {
     "ename": "NameError",
     "evalue": "name 'c' is not defined",
     "output_type": "error",
     "traceback": [
      "\u001b[1;31m---------------------------------------------------------------------------\u001b[0m",
      "\u001b[1;31mNameError\u001b[0m                                 Traceback (most recent call last)",
      "\u001b[1;32m~\\AppData\\Local\\Temp/ipykernel_12696/3844010439.py\u001b[0m in \u001b[0;36m<module>\u001b[1;34m\u001b[0m\n\u001b[0;32m      1\u001b[0m \u001b[0ma\u001b[0m \u001b[1;33m=\u001b[0m \u001b[1;36m10\u001b[0m\u001b[1;33m\u001b[0m\u001b[1;33m\u001b[0m\u001b[0m\n\u001b[0;32m      2\u001b[0m \u001b[0mb\u001b[0m \u001b[1;33m=\u001b[0m \u001b[1;36m20\u001b[0m\u001b[1;33m\u001b[0m\u001b[1;33m\u001b[0m\u001b[0m\n\u001b[1;32m----> 3\u001b[1;33m \u001b[0mprint\u001b[0m\u001b[1;33m(\u001b[0m\u001b[1;34m\"Addition:\"\u001b[0m\u001b[1;33m,\u001b[0m \u001b[0ma\u001b[0m \u001b[1;33m+\u001b[0m \u001b[0mc\u001b[0m\u001b[1;33m)\u001b[0m\u001b[1;33m\u001b[0m\u001b[1;33m\u001b[0m\u001b[0m\n\u001b[0m",
      "\u001b[1;31mNameError\u001b[0m: name 'c' is not defined"
     ]
    }
   ],
   "source": [
    "a = 10\n",
    "b = 20\n",
    "print(\"Addition:\", a + c)  # NameError: name 'c' is not defined"
   ]
  },
  {
   "cell_type": "code",
   "execution_count": 21,
   "id": "e49828c2",
   "metadata": {},
   "outputs": [
    {
     "ename": "FileNotFoundError",
     "evalue": "[Errno 2] No such file or directory: 'test.txt'",
     "output_type": "error",
     "traceback": [
      "\u001b[1;31m---------------------------------------------------------------------------\u001b[0m",
      "\u001b[1;31mFileNotFoundError\u001b[0m                         Traceback (most recent call last)",
      "\u001b[1;32m~\\AppData\\Local\\Temp/ipykernel_12696/3677699912.py\u001b[0m in \u001b[0;36m<module>\u001b[1;34m\u001b[0m\n\u001b[1;32m----> 1\u001b[1;33m \u001b[0mfp\u001b[0m \u001b[1;33m=\u001b[0m \u001b[0mopen\u001b[0m\u001b[1;33m(\u001b[0m\u001b[1;34m\"test.txt\"\u001b[0m\u001b[1;33m,\u001b[0m \u001b[1;34m\"r\"\u001b[0m\u001b[1;33m)\u001b[0m\u001b[1;33m\u001b[0m\u001b[1;33m\u001b[0m\u001b[0m\n\u001b[0m\u001b[0;32m      2\u001b[0m \u001b[1;32mif\u001b[0m \u001b[0mfp\u001b[0m\u001b[1;33m:\u001b[0m\u001b[1;33m\u001b[0m\u001b[1;33m\u001b[0m\u001b[0m\n\u001b[0;32m      3\u001b[0m     \u001b[0mprint\u001b[0m\u001b[1;33m(\u001b[0m\u001b[1;34m\"file is opened successfully\"\u001b[0m\u001b[1;33m)\u001b[0m\u001b[1;33m\u001b[0m\u001b[1;33m\u001b[0m\u001b[0m\n",
      "\u001b[1;31mFileNotFoundError\u001b[0m: [Errno 2] No such file or directory: 'test.txt'"
     ]
    }
   ],
   "source": [
    "fp = open(\"test.txt\", \"r\")\n",
    "if fp:\n",
    "    print(\"file is opened successfully\")\n",
    "# FileNotFoundError: [Errno 2] No such file or directory: 'test.txt'"
   ]
  },
  {
   "cell_type": "code",
   "execution_count": 23,
   "id": "f563f399",
   "metadata": {},
   "outputs": [
    {
     "ename": "ZeroDivisionError",
     "evalue": "division by zero",
     "output_type": "error",
     "traceback": [
      "\u001b[1;31m---------------------------------------------------------------------------\u001b[0m",
      "\u001b[1;31mZeroDivisionError\u001b[0m                         Traceback (most recent call last)",
      "\u001b[1;32m~\\AppData\\Local\\Temp/ipykernel_12696/1445566780.py\u001b[0m in \u001b[0;36m<module>\u001b[1;34m\u001b[0m\n\u001b[0;32m      3\u001b[0m \u001b[0ma\u001b[0m \u001b[1;33m=\u001b[0m \u001b[1;36m10\u001b[0m\u001b[1;33m\u001b[0m\u001b[1;33m\u001b[0m\u001b[0m\n\u001b[0;32m      4\u001b[0m \u001b[0mb\u001b[0m \u001b[1;33m=\u001b[0m \u001b[1;36m0\u001b[0m\u001b[1;33m\u001b[0m\u001b[1;33m\u001b[0m\u001b[0m\n\u001b[1;32m----> 5\u001b[1;33m \u001b[0mc\u001b[0m \u001b[1;33m=\u001b[0m \u001b[0ma\u001b[0m \u001b[1;33m/\u001b[0m \u001b[0mb\u001b[0m\u001b[1;33m\u001b[0m\u001b[1;33m\u001b[0m\u001b[0m\n\u001b[0m\u001b[0;32m      6\u001b[0m \u001b[0mprint\u001b[0m\u001b[1;33m(\u001b[0m\u001b[1;34m\"a/b =\"\u001b[0m \u001b[1;33m,\u001b[0m \u001b[0mc\u001b[0m\u001b[1;33m)\u001b[0m\u001b[1;33m\u001b[0m\u001b[1;33m\u001b[0m\u001b[0m\n",
      "\u001b[1;31mZeroDivisionError\u001b[0m: division by zero"
     ]
    }
   ],
   "source": [
    "# Dijeljenje sa nulom\n",
    "\n",
    "a = 10\n",
    "b = 0\n",
    "c = a / b  # ZeroDivisionError: division by zero\n",
    "print(\"a/b =\", c)"
   ]
  },
  {
   "cell_type": "code",
   "execution_count": 200,
   "id": "62023d79",
   "metadata": {},
   "outputs": [
    {
     "name": "stdout",
     "output_type": "stream",
     "text": [
      "Dijeljenje (sa) nulom nije dozvoljeno! Unesite drugi broj.\n"
     ]
    }
   ],
   "source": [
    "# `try ... except`\n",
    "\n",
    "try:\n",
    "    a = 10\n",
    "    b = 0\n",
    "    c = a / b\n",
    "    print(\"a podijeljeno sa b je:\", c)\n",
    "except:\n",
    "    print(\"Dijeljenje (sa) nulom nije dozvoljeno! Unesite drugi broj.\")\n"
   ]
  },
  {
   "cell_type": "code",
   "execution_count": 199,
   "id": "d595620b",
   "metadata": {},
   "outputs": [
    {
     "name": "stdout",
     "output_type": "stream",
     "text": [
      "a podijeljeno sa b je: 2.5\n"
     ]
    }
   ],
   "source": [
    "# `try ... except` sa više opcija za `except`\n",
    "\n",
    "try:\n",
    "    a = int(input(\"Unesi vrijednost za a: \"))  # a = 10\n",
    "    b = int(input(\"Unesi vrijednost za b: \"))  # b = 4\n",
    "    c = a / b\n",
    "    print(\"a podijeljeno sa b je:\", c)  # a podijeljeno sa b je: 2.5\n",
    "except ValueError:\n",
    "    print(\"Unesena vrijednost je pogresna!\")  # a = 10, b = a\n",
    "except ZeroDivisionError:                     # a = 10, b = 0\n",
    "    print(\"Dijeljenje (sa) nulom nije dozvoljeno! Unesite drugi broj.\")\n"
   ]
  },
  {
   "cell_type": "code",
   "execution_count": 198,
   "id": "9d10df6d",
   "metadata": {},
   "outputs": [
    {
     "name": "stdout",
     "output_type": "stream",
     "text": [
      "a podijeljeno sa b je: 2.5\n"
     ]
    }
   ],
   "source": [
    "# dva izuzetka u jednoj klauz(ul)i\n",
    "\n",
    "try:\n",
    "    a = int(input(\"Unesite vrijednost za a: \"))  # a = 10\n",
    "    b = int(input(\"Unesite vrijednost za b: \"))  # b = 4\n",
    "    c = a / b\n",
    "    print(\"a podijeljeno sa b je:\", c)  # a podijeljeno sa b je: 2.5\n",
    "except(ValueError, ZeroDivisionError):\n",
    "    print(\"Unesite odgovarajuce vrijednosti.\")  # a = 10, b = 'ŠNJ' ILI a = 10, b = 0\n"
   ]
  },
  {
   "cell_type": "code",
   "execution_count": 196,
   "id": "72733ec3",
   "metadata": {},
   "outputs": [
    {
     "name": "stdout",
     "output_type": "stream",
     "text": [
      "a / b = 0.8333333333333334\n",
      "a / b = 0.833\n",
      "U else bloku moze da se nastavi sa pisanjem koda, ako se ne desi izuzetak.\n"
     ]
    }
   ],
   "source": [
    "# `try ... except ... else`\n",
    "\n",
    "try:\n",
    "    a = int(input(\"Unesite vrijednost za a: \"))\n",
    "    b = int(input(\"Unesite vrijednost za b: \"))\n",
    "    c = a / b\n",
    "    print(\"a / b =\" , c)        # a / b = 0.8333333333333334\n",
    "    print(f\"a / b = {c:0.3f}\")  # a / b = 0.833 √\n",
    "\n",
    "except ZeroDivisionError:\n",
    "    print(\"Dijeljenje (sa) nulom nije dozvoljeno!\")\n",
    "else:\n",
    "    print(\"U else bloku moze da se nastavi sa pisanjem koda, ako se ne desi izuzetak.\")\n"
   ]
  },
  {
   "cell_type": "code",
   "execution_count": 197,
   "id": "cd0b5511",
   "metadata": {},
   "outputs": [
    {
     "name": "stdout",
     "output_type": "stream",
     "text": [
      "Dijeljenje (sa) nulom nije dozvoljeno!\n"
     ]
    }
   ],
   "source": [
    "# `try ... except ... else` - ako se desi izuzetak\n",
    "\n",
    "try:\n",
    "    a = int(input(\"Unesite vrijednost za a: \"))  # a = 5\n",
    "    b = int(input(\"Unesite vrijednost za b: \"))  # b = 0\n",
    "    c = a / b\n",
    "    print(\"a / b =\" , c)\n",
    "\n",
    "except ZeroDivisionError:\n",
    "    print(\"Dijeljenje (sa) nulom nije dozvoljeno!\")\n",
    "else:\n",
    "    print(\"U else bloku moze da se nastavi sa pisanjem koda, ako se ne desi izuzetak.\")\n"
   ]
  }
 ],
 "metadata": {
  "kernelspec": {
   "display_name": "Python 3 (ipykernel)",
   "language": "python",
   "name": "python3"
  },
  "language_info": {
   "codemirror_mode": {
    "name": "ipython",
    "version": 3
   },
   "file_extension": ".py",
   "mimetype": "text/x-python",
   "name": "python",
   "nbconvert_exporter": "python",
   "pygments_lexer": "ipython3",
   "version": "3.10.10"
  }
 },
 "nbformat": 4,
 "nbformat_minor": 5
}
