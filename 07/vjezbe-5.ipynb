{
 "cells": [
  {
   "cell_type": "code",
   "execution_count": 6,
   "id": "8711b156",
   "metadata": {},
   "outputs": [
    {
     "name": "stdout",
     "output_type": "stream",
     "text": [
      "[[1, 3, 5, 7], [2, 4, 6, 8]]\n"
     ]
    }
   ],
   "source": [
    "# List Comprehension - primjer\n",
    "\n",
    "# Transponovati matricu koristeći `List Comprehension` [обухватање листом/укључивање у листу] √\n",
    "matrica = [[1, 2], [3,4], [5,6], [7,8]]  # <------------- матрица 4x2\n",
    "transponovana = [[red[i] for red in matrica] for i in range(2)]\n",
    "print (transponovana)  # [[1, 3, 5, 7], [2, 4, 6, 8]] <-- матрица 2x4"
   ]
  },
  {
   "cell_type": "code",
   "execution_count": 34,
   "id": "aa90d11f",
   "metadata": {},
   "outputs": [
    {
     "name": "stdout",
     "output_type": "stream",
     "text": [
      "30\n"
     ]
    }
   ],
   "source": [
    "# Lambda funkcije: anonimne funkcije\n",
    "# Sintaksa `y = lambda arg1, arg2, ...: izraz`\n",
    "# poziv: `y(vr1, vr2, ...)`\n",
    "\n",
    "x = lambda a, b: a * b\n",
    "print(x(5, 6))  # 5 * 6 = 30"
   ]
  },
  {
   "cell_type": "code",
   "execution_count": 43,
   "id": "e442d56f",
   "metadata": {},
   "outputs": [
    {
     "name": "stdout",
     "output_type": "stream",
     "text": [
      "10\n"
     ]
    }
   ],
   "source": [
    "# funkcije u Pajtonu definisane uz pomoć ključne riječi - `def`\n",
    "\n",
    "def sum(a, b):\n",
    "    return a + b\n",
    "\n",
    "print(sum(6, 4))  # 6 + 4 = 10"
   ]
  },
  {
   "cell_type": "code",
   "execution_count": 44,
   "id": "bfda50f4",
   "metadata": {},
   "outputs": [
    {
     "name": "stdout",
     "output_type": "stream",
     "text": [
      "10\n"
     ]
    }
   ],
   "source": [
    "# lambda funkcija\n",
    "sum = lambda a, b: a + b\n",
    "print(sum(6, 4))  # 6 + 4 = 10"
   ]
  },
  {
   "cell_type": "code",
   "execution_count": null,
   "id": "99df7f30",
   "metadata": {},
   "outputs": [],
   "source": [
    "# Karakteristike Lambda funkcija u Pajtonu:\n",
    "\n",
    "# - Lambda funkcije mogu da imaju više argumenata, ali vraćaju samo jednu vrijednost.     √\n",
    "# - Lambda funkcije se pišu u jednom redu i stoga ne mogu sadržavati višelinijske izraze. √\n",
    "# - Lambda izrazi mogu biti argumenti za druge funkcije.                                  √\n",
    "# - Lambda funkcije nemaju eksplicitno naveden `return` iskaz ...                         √"
   ]
  },
  {
   "cell_type": "code",
   "execution_count": 45,
   "id": "58977573",
   "metadata": {},
   "outputs": [
    {
     "name": "stdout",
     "output_type": "stream",
     "text": [
      "50\n",
      "45\n"
     ]
    }
   ],
   "source": [
    "# `Nested Lambda` - lambda funkcija u lambda funkciji\n",
    "\n",
    "add = lambda a = 20: lambda b: a + b\n",
    "x = add()\n",
    "#x = add(30)  # умјесто подразумијеване вриједности a = 20, користи се задата вриједност 30\n",
    "\n",
    "print(x(30))  # 20 + 30 = 50\n",
    "print(x(25))  # 20 + 25 = 45"
   ]
  },
  {
   "cell_type": "code",
   "execution_count": 46,
   "id": "69be37ce",
   "metadata": {},
   "outputs": [
    {
     "name": "stdout",
     "output_type": "stream",
     "text": [
      "22\n"
     ]
    }
   ],
   "source": [
    "# `Nested Lambda` - primjer\n",
    "\n",
    "def myfunc(n):\n",
    "    return lambda a: a * n\n",
    "\n",
    "mydoubler = myfunc(2)\n",
    "print(mydoubler(11))  # 11 * 2 = 22"
   ]
  },
  {
   "cell_type": "code",
   "execution_count": null,
   "id": "d9b35026",
   "metadata": {},
   "outputs": [],
   "source": [
    "# Map, Filter i Reduce su funkcije koje omogućavaju programeru jednostavnije i kraće pisanje koda.\n",
    "\n",
    "# U suštini, ove tri funkcije omogućavaju primjenu na veliki broj iterabli, jednim potezom.\n",
    "# Funkcije `map` i `filter` su ugrađene u Pajton i ne zahtijevaju importovanje iz nekog modula,\n",
    "# dok funkciju `reduce` moramo importovati iz `functools` modula. √\n",
    "# U nastavku, kroz primjere, vidjećemo na koji način možemo koristiti pomenute funkcije."
   ]
  },
  {
   "cell_type": "code",
   "execution_count": 50,
   "id": "97727198",
   "metadata": {},
   "outputs": [
    {
     "name": "stdout",
     "output_type": "stream",
     "text": [
      "['MARKO', 'MILAN', 'MILICA', 'ANA']\n"
     ]
    }
   ],
   "source": [
    "\"\"\" Funkcija `map()` u Pajtonu ima sljedeću sintaksu:\n",
    "\n",
    "`map(func, *iterables)`\n",
    "\n",
    "gdje je `func` funkcija kojoj se šalje SVAKI ELEMENT iterabilnog objekta.\n",
    "Primijetimo `*` ispred iterabilnog objekta za mapiranje. <-- LOOK! :eyes:\n",
    "\n",
    "~ Napomena:\n",
    "■ U Pajtonu 2, `map()` funkcija vraća listu.\n",
    "■ U Pajtonu 3, funkcija vraća `map` objekat.\n",
    "Da bismo u rezultatu dobili listu, ugrađena `list()` funkcija se pozove na `map` objekat,\n",
    "npr.\n",
    "\n",
    "`list(map(func, *iterables))`\n",
    "\n",
    "Broj argumenata funkcije `func` mora biti isti kao broj iterabli. √ :thinking:\n",
    "U nastavku je par primjera.\"\"\"\n",
    "\n",
    "imena = ['marko', 'milan', 'milica', 'ana']\n",
    "velikaslova_imena = []\n",
    "\n",
    "for ime in imena:\n",
    "    ime_ = ime.upper()\n",
    "    velikaslova_imena.append(ime_)\n",
    "\n",
    "print(velikaslova_imena)  # ['MARKO', 'MILAN', 'MILICA', 'ANA']"
   ]
  },
  {
   "cell_type": "code",
   "execution_count": 48,
   "id": "10d96916",
   "metadata": {},
   "outputs": [
    {
     "name": "stdout",
     "output_type": "stream",
     "text": [
      "['MARKO', 'MILAN', 'MILICA', 'ANA']\n"
     ]
    }
   ],
   "source": [
    "# Koristeći `map` funkciju\n",
    "\n",
    "imena = ['marko', 'milan', 'milica', 'ana']\n",
    "\n",
    "velikaslova_imena = list(map(str.upper, imena))\n",
    "\n",
    "print(velikaslova_imena)  # ['MARKO', 'MILAN', 'MILICA', 'ANA']"
   ]
  },
  {
   "cell_type": "code",
   "execution_count": 49,
   "id": "6a3e8ce6",
   "metadata": {},
   "outputs": [
    {
     "name": "stdout",
     "output_type": "stream",
     "text": [
      "[3.6, 5.58, 4.009, 56.2424, 9.01344, 32.00013]\n"
     ]
    }
   ],
   "source": [
    "# Slučaj kada funkcija `map` ima više argumenata\n",
    "\n",
    "podaci = [3.56773, 5.57668, 4.00914, 56.24241, 9.01344, 32.00013]\n",
    "\n",
    "rezultat = list(map(round, podaci, range(1, 7)))\n",
    "\n",
    "print(rezultat)  # [3.6, 5.58, 4.009, 56.2424, 9.01344, 32.00013]"
   ]
  },
  {
   "cell_type": "code",
   "execution_count": 52,
   "id": "7ce02d4e",
   "metadata": {},
   "outputs": [
    {
     "name": "stdout",
     "output_type": "stream",
     "text": [
      "[3.6, 5.58]\n"
     ]
    }
   ],
   "source": [
    "# Šta se desilo u sljedećem slučaju?\n",
    "# трећи параметар/аргумент -> range(1, 3)\n",
    "\n",
    "podaci = [3.56773, 5.57668, 4.00914, 56.24241, 9.01344, 32.00013]\n",
    "\n",
    "rezultat = list(map(round, podaci, range(1, 3)))  # узми САМО елементе [1, 2], тј. [1, 3)\n",
    "\n",
    "print(rezultat)  # [3.6, 5.58]"
   ]
  },
  {
   "cell_type": "code",
   "execution_count": 53,
   "id": "dc0eb304",
   "metadata": {},
   "outputs": [
    {
     "name": "stdout",
     "output_type": "stream",
     "text": [
      "[('a', 1), ('b', 2), ('c', 3), ('d', 4), ('e', 5)]\n"
     ]
    }
   ],
   "source": [
    "# Prokomentarisati sljedeći primjer\n",
    "\n",
    "slova = ['a', 'b', 'c', 'd', 'e', 'f']\n",
    "brojevi = [1, 2, 3, 4, 5]\n",
    "\n",
    "# Број аргумената функције `func` мора бити исти као број итерабли. √ :thinking: A-HA\n",
    "rezultat = list(map(lambda x, y: (x, y), slova, brojevi))  # упари елементе 2 листе у `tuple`\n",
    "\n",
    "print(rezultat)  # [('a', 1), ('b', 2), ('c', 3), ('d', 4), ('e', 5)]"
   ]
  },
  {
   "cell_type": "code",
   "execution_count": 58,
   "id": "dae26464",
   "metadata": {},
   "outputs": [
    {
     "name": "stdout",
     "output_type": "stream",
     "text": [
      "[90, 76, 88, 81]\n"
     ]
    }
   ],
   "source": [
    "# Funkcija `filter()` zahtijeva od funkcije da vrati LOGIČKE VRIJEDNOSTI (True ili False),\n",
    "# a zatim prosljeđuje svaki element iz iterabli u funkciju i FILTRIRA one koji su netačni.\n",
    "\"\"\"\n",
    "Sintaksa funkcije je:\n",
    "\n",
    "`filter(fun, sequence)`\n",
    "\n",
    "gdje je\n",
    "\n",
    "`fun`: funkcija koja uzima element iterabilnog objekta i vraća `True` ili `False`;\n",
    "`sequence`: iterabilni objekat koji treba biti filtriran.\n",
    "\n",
    "Vraća: iterator koji je filtriran.\n",
    "\"\"\"\n",
    "bodovi = [66, 90, 68, 59, 76, 60, 88, 74, 81, 65]\n",
    "\n",
    "def polozeno(n):\n",
    "    return n > 75\n",
    "\n",
    "dobre_ocjene = list(filter(polozeno, bodovi))\n",
    "\n",
    "print(dobre_ocjene)  # [90, 76, 88, 81]"
   ]
  },
  {
   "cell_type": "code",
   "execution_count": 55,
   "id": "7201b208",
   "metadata": {},
   "outputs": [
    {
     "name": "stdout",
     "output_type": "stream",
     "text": [
      "['ana', 'madam', 'anavolimilovana']\n"
     ]
    }
   ],
   "source": [
    "# Ispisati riječi koje su palindromi\n",
    "\n",
    "rijeci = (\"danas\", \"ana\", \"madam\", \"anavolimilovana\", \"auta\", \"kiosk\")\n",
    "\n",
    "palindromi = list(filter(lambda rijec: rijec == rijec[::-1], rijeci))\n",
    "\n",
    "print(palindromi)  # ['ana', 'madam', 'anavolimilovana']"
   ]
  },
  {
   "cell_type": "code",
   "execution_count": 56,
   "id": "f9914077",
   "metadata": {},
   "outputs": [
    {
     "name": "stdout",
     "output_type": "stream",
     "text": [
      "[2, 4, 6, 8, 10, 12, 14]\n"
     ]
    }
   ],
   "source": [
    "# Izdvojiti parne brojeve iz liste\n",
    "\n",
    "li = [1, 2, 3, 4, 5, 6, 7, 8, 9, 10, 11, 12, 13, 14, 15]\n",
    "rezultat = list(filter(lambda x: (x % 2 == 0), li))\n",
    "print(rezultat)  # [2, 4, 6, 8, 10, 12, 14]"
   ]
  },
  {
   "cell_type": "code",
   "execution_count": 59,
   "id": "152a1e26",
   "metadata": {},
   "outputs": [
    {
     "name": "stdout",
     "output_type": "stream",
     "text": [
      "68\n"
     ]
    }
   ],
   "source": [
    "\"\"\" Reduce funkcija je dio `functools` modula.\n",
    "[енгл. `reduce` == срп. свести, смањити, ограничити (на ДВА аргумента!)] √\n",
    "\n",
    "Sintaksa:\n",
    "\n",
    "`reduce(fun, iterable[, initial])`\n",
    "\n",
    "gdje je:\n",
    "\n",
    "`fun`: funkcija DVA ARGUMENTA (tipa elemenata iz seq);\n",
    "`iterable`: iterabilni objekat (niz, lista, tuple itd.);\n",
    "`initial`: opciona vrijednost prije procesa (vraća se ako je `iterable` prazan).\n",
    "\"\"\"\n",
    "from functools import reduce\n",
    "\n",
    "brojevi = [3, 4, 6, 9, 34, 12]\n",
    "\n",
    "def zbir(a, b):  # ДВА ПАРАМЕТРА / АРГУМЕНТА √\n",
    "    return a + b\n",
    "\n",
    "rezultat = reduce(zbir, brojevi)\n",
    "print(rezultat)  # (((((3 + 4) + 6) + 9) + 34) + 12) = 68"
   ]
  },
  {
   "cell_type": "code",
   "execution_count": 60,
   "id": "57d7424c",
   "metadata": {},
   "outputs": [
    {
     "name": "stdout",
     "output_type": "stream",
     "text": [
      "78\n"
     ]
    }
   ],
   "source": [
    "# Inicijalna vrijednost\n",
    "\n",
    "from functools import reduce\n",
    "\n",
    "brojevi = [3, 4, 6, 9, 34, 12]\n",
    "\n",
    "def zbir(a, b):\n",
    "    return a + b\n",
    "\n",
    "rezultat = reduce(zbir, brojevi, 10)\n",
    "print(rezultat)  # 10 + zbir brojeva iz liste = 78\n",
    "\n",
    "# 10 se uzima za prvi argument funkcije <- LOOK! √"
   ]
  },
  {
   "cell_type": "code",
   "execution_count": 32,
   "id": "f714983f",
   "metadata": {},
   "outputs": [],
   "source": [
    "# Enumerate i sort funkcija obrađena kroz zadatke sa prethodnih vježbi\n",
    "\n",
    "\"\"\"\n",
    "Zip funkcija\n",
    "\n",
    "SPAJANJE više iterabilnih OBJEKATA u jedan. :eyes:\n",
    "Vraća: iterabilni objekat koji mapira vrijednosti više objekata.\n",
    "\n",
    "Uloga: čitanje više nizova odjednom; mapira sličan indeks iterabilnih objekata. LOOK! √\n",
    "\n",
    "Sintaksa: `zip(*iterators)`\n",
    "\"\"\""
   ]
  },
  {
   "cell_type": "code",
   "execution_count": 62,
   "id": "b74c90b2",
   "metadata": {},
   "outputs": [
    {
     "name": "stdout",
     "output_type": "stream",
     "text": [
      "(('Milica', 'Jelena'), ('Ana', 'Marija'), ('David', 'Sanja'))\n"
     ]
    }
   ],
   "source": [
    "a = (\"Milica\", \"Ana\", \"David\")\n",
    "b = (\"Jelena\", \"Marija\", \"Sanja\")\n",
    "\n",
    "x = zip(a, b)\n",
    "\n",
    "# koristiti tuple() funkciju za prikaz rezultata\n",
    "print(tuple(x))  # (('Milica', 'Jelena'), ('Ana', 'Marija'), ('David', 'Sanja'))"
   ]
  },
  {
   "cell_type": "code",
   "execution_count": 63,
   "id": "0582d968",
   "metadata": {},
   "outputs": [
    {
     "name": "stdout",
     "output_type": "stream",
     "text": [
      "slovo: a\n",
      "broj: 0\n",
      "slovo: b\n",
      "broj: 1\n",
      "slovo: c\n",
      "broj: 2\n"
     ]
    }
   ],
   "source": [
    "slova = ['a', 'b', 'c']\n",
    "brojevi = [0, 1, 2]\n",
    "\n",
    "for s, b in zip(slova, brojevi):\n",
    "    print(f'slovo: {s}')\n",
    "    print(f'broj: {b}')\n"
   ]
  },
  {
   "cell_type": "code",
   "execution_count": null,
   "id": "5a2a293e",
   "metadata": {},
   "outputs": [],
   "source": [
    "# Zadaci za vježbu\n",
    "\n",
    "# 1. Koristeći `map` funkciju ispisati kvadrat svakog broja iz date liste zaokruzen na tri decimale\n",
    "\n",
    "lista = [4.35, 6.09, 3.25, 9.77, 2.16, 8.88, 4.59]\n",
    "\n",
    "# 2. Koristeći `filter` funkciju ispisati imena, iz date liste, koja sadrže manje od 7 slova\n",
    "\n",
    "imena = [\"Milica\", \"Anastasija\", \"Danijela\", \"Nikolina\", \"Ana\"]\n",
    "\n",
    "# 3. Koristeći `reduce` funkciju ispisati proizvode brojeva iz liste\n",
    "brojevi = [4, 6, 9, 23, 5]"
   ]
  },
  {
   "cell_type": "code",
   "execution_count": 69,
   "id": "1b811519",
   "metadata": {},
   "outputs": [
    {
     "name": "stdout",
     "output_type": "stream",
     "text": [
      "[18.922, 37.088, 10.562, 95.453, 4.666, 78.854, 21.068]\n",
      "['Milica', 'Ana']\n",
      "24840\n",
      "<class 'list'> <class 'list'> <class 'int'>\n"
     ]
    }
   ],
   "source": [
    "# Rješenja\n",
    "\n",
    "lista = [4.35, 6.09, 3.25, 9.77, 2.16, 8.88, 4.59]\n",
    "imena = [\"Milica\", \"Anastasija\", \"Danijela\", \"Nikolina\", \"Ana\"]\n",
    "brojevi = [4, 6, 9, 23, 5]\n",
    "\n",
    "map_result = list(map(lambda x: round(x ** 2, 3), lista))         # <class 'list'> √\n",
    "filter_result = list(filter(lambda name: len(name) <= 7, imena))  # <class 'list'> √\n",
    "reduce_result = reduce(lambda num1, num2: num1 * num2, brojevi)   # <class 'int'>  √\n",
    "\n",
    "\n",
    "print(map_result)     # [18.922, 37.088, 10.562, 95.453, 4.666, 78.854, 21.068]\n",
    "print(filter_result)  # ['Milica', 'Ana']\n",
    "print(reduce_result)  # 24840\n",
    "\n",
    "print(type(map_result), type(filter_result), type(reduce_result))\n",
    "# <class 'list'> <class 'list'> <class 'int'> | LOOK! :eyes: √ √ √"
   ]
  }
 ],
 "metadata": {
  "kernelspec": {
   "display_name": "Python 3 (ipykernel)",
   "language": "python",
   "name": "python3"
  },
  "language_info": {
   "codemirror_mode": {
    "name": "ipython",
    "version": 3
   },
   "file_extension": ".py",
   "mimetype": "text/x-python",
   "name": "python",
   "nbconvert_exporter": "python",
   "pygments_lexer": "ipython3",
   "version": "3.9.7"
  }
 },
 "nbformat": 4,
 "nbformat_minor": 5
}
