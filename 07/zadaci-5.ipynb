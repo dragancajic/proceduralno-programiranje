{
 "cells": [
  {
   "cell_type": "code",
   "execution_count": 8,
   "id": "36bf1c30",
   "metadata": {},
   "outputs": [
    {
     "name": "stdout",
     "output_type": "stream",
     "text": [
      "Originalna lista: [2, 4, -6, -9, 11, -12, 14, -5, 17]\n",
      "Suma negativnih brojeva je: -32\n",
      "Suma pozitivnih brojeva je: 48\n"
     ]
    }
   ],
   "source": [
    "# Zadatak 1\n",
    "\n",
    "# Napisati program koji računa sumu pozitivnih i sumu negativnih brojeva u datoj listi.\n",
    "\n",
    "brojevi = [2, 4, -6, -9, 11, -12, 14, -5, 17]\n",
    "print(\"Originalna lista:\", brojevi)\n",
    "\n",
    "suma_negativnih = list(filter(lambda br: br < 0, brojevi))\n",
    "suma_pozitivnih = list(filter(lambda br: br > 0, brojevi))\n",
    "\n",
    "print(\"Suma negativnih brojeva je:\", sum(suma_negativnih))  # -32\n",
    "print(\"Suma pozitivnih brojeva je:\", sum(suma_pozitivnih))  #  48"
   ]
  },
  {
   "cell_type": "code",
   "execution_count": 10,
   "id": "6146cd73",
   "metadata": {},
   "outputs": [
    {
     "name": "stdout",
     "output_type": "stream",
     "text": [
      "Originalna lista:\n",
      "[12, 0, None, 23, None, -55, 234, 89, None, 0, 6, -12]\n",
      "\n",
      "Lista nakon sto se uklone vrijednosti None:\n",
      "[12, 0, 23, -55, 234, 89, 0, 6, -12]\n"
     ]
    }
   ],
   "source": [
    "# Zadatak 2\n",
    "\n",
    "# Koristeći funkciju `filter` izbaciti vrijednosti `None` iz date liste.\n",
    "\n",
    "def bez_none(lista):\n",
    "    rezultat = filter(lambda v: v is not None, lista)\n",
    "    return list(rezultat)\n",
    "\n",
    "lista = [12, 0, None, 23, None, -55, 234, 89, None, 0, 6, -12]\n",
    "print(\"Originalna lista:\")\n",
    "print(lista)  # [12, 0, None, 23, None, -55, 234, 89, None, 0, 6, -12]\n",
    "print(\"\\nLista nakon sto se uklone vrijednosti None:\")\n",
    "print(bez_none(lista))  # [12, 0, 23, -55, 234, 89, 0, 6, -12]"
   ]
  },
  {
   "cell_type": "code",
   "execution_count": 14,
   "id": "833294da",
   "metadata": {},
   "outputs": [
    {
     "name": "stdout",
     "output_type": "stream",
     "text": [
      "Originalna lista:\n",
      "[3, 4, 5, 8, 0, 3, 8, 5, 0, 3, 1, 5, 2, 3, 4, 2]\n",
      "\n",
      "Broj pojavljivanja svakog elementa:\n",
      "{3: 4, 4: 2, 5: 3, 8: 2, 0: 2, 1: 1, 2: 2}\n"
     ]
    }
   ],
   "source": [
    "# Zadatak 3\n",
    "\n",
    "# Napisati program koji ispisuje element liste i broj pojavljivanja tog elementa u listi.\n",
    "\n",
    "def broj_pojavljivanja(lista):\n",
    "    rezultat = dict(map(lambda el: (el, list(lista).count(el)), lista))\n",
    "    return rezultat\n",
    "\n",
    "lista = [3, 4, 5, 8, 0, 3, 8, 5, 0, 3, 1, 5, 2, 3, 4, 2]\n",
    "print(\"Originalna lista:\")\n",
    "print(lista)  # [3, 4, 5, 8, 0, 3, 8, 5, 0, 3, 1, 5, 2, 3, 4, 2]\n",
    "print(\"\\nBroj pojavljivanja svakog elementa:\")\n",
    "print(broj_pojavljivanja(lista))  # {3: 4, 4: 2, 5: 3, 8: 2, 0: 2, 1: 1, 2: 2}"
   ]
  },
  {
   "cell_type": "code",
   "execution_count": 45,
   "id": "e995d8db",
   "metadata": {},
   "outputs": [
    {
     "name": "stdout",
     "output_type": "stream",
     "text": [
      "Original lista niski:\n",
      "['Crvena', 'Zelena', 'Plava', 'Bijela', 'Crna']\n",
      "\n",
      "Obrnute rijeci liste:\n",
      "['anevrC', 'aneleZ', 'avalP', 'alejiB', 'anrC']\n"
     ]
    }
   ],
   "source": [
    "# Zadatak 4\n",
    "\n",
    "# Napisati program koji obrće redoslijed slova u listi stringova.\n",
    "\n",
    "'''Program koji obrće redoslijed slova u listi stringova.'''\n",
    "\n",
    "def obrni_slova_niski_liste(lista_niski):\n",
    "    lista_obrnutih_slova = list(map(lambda niska: \"\".join(reversed(niska)), lista_niski))\n",
    "    return lista_obrnutih_slova\n",
    "\n",
    "boje = [\"Crvena\", \"Zelena\", \"Plava\", \"Bijela\", \"Crna\"]\n",
    "print(\"Original lista niski:\")\n",
    "print(boje)\n",
    "print(\"\\nObrnute rijeci liste:\")\n",
    "print(obrni_slova_niski_liste(boje))\n",
    "\n",
    "# output:\n",
    "\n",
    "# Original lista niski:\n",
    "# ['Crvena', 'Zelena', 'Plava', 'Bijela', 'Crna']\n",
    "\n",
    "# Obrnute rijeci liste:\n",
    "# ['anevrC', 'aneleZ', 'avalP', 'alejiB', 'anrC']\n"
   ]
  },
  {
   "cell_type": "code",
   "execution_count": 18,
   "id": "971c2fe0",
   "metadata": {},
   "outputs": [
    {
     "name": "stdout",
     "output_type": "stream",
     "text": [
      "Original liste:\n",
      "Lista 1: [1, 2, 3, 4, 5, 6, 7, 8, 9, 10]\n",
      "Lista 2: [2, 4, 6, 8]\n",
      "\n",
      "Nakon brisanja svih elementa iz 'lista1' koji su (bili) prisutni u 'lista2':\n",
      "[1, 3, 5, 7, 9, 10]\n"
     ]
    }
   ],
   "source": [
    "# Zadatak 5\n",
    "\n",
    "# Napisati program koji briše elemente iz date liste koji se nalaze u drugoj datoj listi.\n",
    "\n",
    "def funkcija(lista1, lista2):\n",
    "    rezultat = list(filter(lambda x: x not in lista2, lista1))\n",
    "    return rezultat\n",
    "\n",
    "lista1 = [1, 2, 3, 4, 5, 6, 7, 8, 9, 10]\n",
    "lista2 = [2, 4, 6, 8]\n",
    "\n",
    "print(\"Original liste:\")\n",
    "print(\"Lista 1:\", lista1)  # [1, 2, 3, 4, 5, 6, 7, 8, 9, 10]\n",
    "print(\"Lista 2:\", lista2)  # [2, 4, 6, 8]\n",
    "\n",
    "print(\"\\nNakon brisanja svih elementa iz 'lista1' koji su (bili) prisutni u 'lista2':\")\n",
    "print(funkcija(lista1, lista2))  # [1, 3, 5, 7, 9, 10]"
   ]
  },
  {
   "cell_type": "code",
   "execution_count": 21,
   "id": "7ab9456e",
   "metadata": {},
   "outputs": [
    {
     "name": "stdout",
     "output_type": "stream",
     "text": [
      "Original lista:\n",
      "[[0], [1, 3], [5, 7], [9, 11], [13, 15, 17]]\n",
      "\n",
      "Lista sa maksimalnom duzinom:\n",
      "(3, [13, 15, 17])\n",
      "\n",
      "Lista sa minimalnom duzinom:\n",
      "(1, [0])\n"
     ]
    }
   ],
   "source": [
    "# Zadatak 6\n",
    "\n",
    "# Data je lista listi. Napisati program koji ispisuje listu sa najmanjom i listu sa najvećom dužinom.\n",
    "\n",
    "def max_duzina(lista):\n",
    "    max_duzina_liste = max(len(x) for x in lista)\n",
    "    max_lista = max(lista, key = lambda i: len(i))  # LOOK!\n",
    "    return(max_duzina_liste, max_lista)  # <class 'tuple'>\n",
    "\n",
    "def min_duzina(lista):\n",
    "    min_duzina_liste = min(len(x) for x in lista)\n",
    "    min_lista = min(lista, key = lambda i: len(i))  # LOOK!\n",
    "    return(min_duzina_liste, min_lista)  # <class 'tuple'>\n",
    "\n",
    "lista1 = [[0], [1, 3], [5, 7], [9, 11], [13, 15, 17]]\n",
    "print(\"Original lista:\")\n",
    "print(lista1)  # [[0], [1, 3], [5, 7], [9, 11], [13, 15, 17]]\n",
    "\n",
    "print(\"\\nLista sa maksimalnom duzinom:\")\n",
    "print(max_duzina(lista1))  # (3, [13, 15, 17])\n",
    "print(\"\\nLista sa minimalnom duzinom:\")\n",
    "print(min_duzina(lista1))  # (1, [0])"
   ]
  },
  {
   "cell_type": "code",
   "execution_count": 46,
   "id": "fae2ca58",
   "metadata": {},
   "outputs": [
    {
     "name": "stdout",
     "output_type": "stream",
     "text": [
      "Ponedjeljak je prvi dan u sedmici.\n"
     ]
    }
   ],
   "source": [
    "# Zadatak 7\n",
    "\n",
    "# Primjenom funkcije `filter` [i `reduce`], izdvojiti iz početne liste\n",
    "# rečenica one rečenice čija je dužina najduže riječi veća od 7.\n",
    "\n",
    "from functools import reduce  # TODO: пробај \"упослити\" `reduce`! ;-)\n",
    "\n",
    "def najduza_rijec(recenica):\n",
    "    #print(\"zadata recenica:\", recenica)\n",
    "    lista_rijeci = recenica.split()  # подијели реченицу по \"бјелинама\" | sep\n",
    "    #print(\"lista rijeci:\", lista_rijeci)\n",
    "    najveca_duzina = max(len(rijec) for rijec in lista_rijeci)\n",
    "    #print(\"duzina najduze rijeci:\", najveca_duzina)\n",
    "    return najveca_duzina\n",
    "\n",
    "recenice = ['Ponedjeljak je prvi dan u sedmici.', 'Ja sam Milica.', 'Danas je utorak']\n",
    "recenice = filter(lambda recenica:\n",
    "                  recenica\n",
    "                      if najduza_rijec(recenica) > 7\n",
    "                      else '',\n",
    "                  recenice)\n",
    "# за сваку реченицу из листе реченица, врати само оне реченице чија је најдужа\n",
    "# ријеч ДУЖА од 7 карактера! √\n",
    "#print(recenice)        # <filter object at 0x7fa9a4791810>\n",
    "#print(type(recenice))  # <class 'filter'>\n",
    "\n",
    "for recenica in recenice:\n",
    "    print(recenica)\n"
   ]
  },
  {
   "cell_type": "code",
   "execution_count": 33,
   "id": "95cd5f11",
   "metadata": {},
   "outputs": [
    {
     "name": "stdout",
     "output_type": "stream",
     "text": [
      "3\n",
      "Broj neparnih: 3\n"
     ]
    }
   ],
   "source": [
    "# Zadatak 8\n",
    "\n",
    "# Izračunati broj neparnih brojeva u listi koristeći `reduce`.\n",
    "\n",
    "from functools import reduce\n",
    "    \n",
    "brojevi = [22, 12, 13, 32, 11, 44, 94, 78, 99]\n",
    "rezultat = reduce(lambda broj_neparnih, broj:\n",
    "                  broj_neparnih + 1\n",
    "                      if broj % 2  # ако је непаран има остатак дијељења! -> True\n",
    "                      else broj_neparnih,\n",
    "                  brojevi,\n",
    "                  0)  # иницијална вриједност\n",
    "\n",
    "print (rezultat)  # 3\n",
    "\n",
    "\n",
    "# РЈЕШЕЊЕ без употребе функције `reduce`\n",
    "brojac = 0\n",
    "for broj in brojevi:\n",
    "    if broj % 2:  # broj % 2 != 0 <-- дакле, НЕПАРАН! `True`\n",
    "        brojac = brojac + 1\n",
    "    #print(\"tBrojac:\", brojac)\n",
    "\n",
    "print(\"Broj neparnih:\", brojac)"
   ]
  },
  {
   "cell_type": "code",
   "execution_count": 50,
   "id": "56ae79d5",
   "metadata": {},
   "outputs": [
    {
     "name": "stdout",
     "output_type": "stream",
     "text": [
      "[[1, 0], [1, 5], [1, 3], [2, 0], [1, 1], [1, 3]]\n",
      "19\n"
     ]
    }
   ],
   "source": [
    "# Zadatak 9\n",
    "\n",
    "# Za listu brojeva izračunati zbir cifara svih brojeva.\n",
    "\n",
    "#from functools import reduce  # TODO: пробај \"упослити\" `reduce`! ;-)\n",
    "\n",
    "brojevi = [10, 15, 13, 20, 11, 13]\n",
    "\n",
    "def cifre(n):\n",
    "    cifre_broja = []\n",
    "    if n == 0:\n",
    "        return [0]\n",
    "    while n > 0:\n",
    "        c = n % 10\n",
    "        n //= 10\n",
    "        cifre_broja.insert(0, c)\n",
    "    return cifre_broja\n",
    "\n",
    "lista_cifara = list([cifre(broj) for broj in brojevi])\n",
    "print(lista_cifara)  # [[1, 0], [1, 5], [1, 3], [2, 0], [1, 1], [1, 3]]\n",
    "suma = sum([sum(cifre) for cifre in lista_cifara])  # (1 + 6 + 4 + 2 + 2 + 4)\n",
    "print(suma)  # 19"
   ]
  }
 ],
 "metadata": {
  "kernelspec": {
   "display_name": "Python 3 (ipykernel)",
   "language": "python",
   "name": "python3"
  },
  "language_info": {
   "codemirror_mode": {
    "name": "ipython",
    "version": 3
   },
   "file_extension": ".py",
   "mimetype": "text/x-python",
   "name": "python",
   "nbconvert_exporter": "python",
   "pygments_lexer": "ipython3",
   "version": "3.10.10"
  }
 },
 "nbformat": 4,
 "nbformat_minor": 5
}
