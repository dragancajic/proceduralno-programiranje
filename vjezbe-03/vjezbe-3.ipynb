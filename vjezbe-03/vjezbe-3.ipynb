{
 "cells": [
  {
   "cell_type": "code",
   "execution_count": null,
   "id": "c3ee0c2c",
   "metadata": {},
   "outputs": [],
   "source": [
    "# ~ Liste ~"
   ]
  },
  {
   "cell_type": "code",
   "execution_count": 1,
   "id": "b2eb96ab",
   "metadata": {},
   "outputs": [
    {
     "name": "stdout",
     "output_type": "stream",
     "text": [
      "lista1:  []\n",
      "lista2:  []\n",
      "lista3:  [2, 4, 'danas je lijep dan', ['lista', 'listi', 34, '34ds'], 'a', ('Ovo', 'je', 'jedan', 'tuple'), {'elementi', 'razliciti'}]\n",
      "\n",
      "2\n",
      "4\n",
      "danas je lijep dan\n",
      "['lista', 'listi', 34, '34ds']\n",
      "a\n",
      "('Ovo', 'je', 'jedan', 'tuple')\n",
      "{'elementi', 'razliciti'}\n"
     ]
    }
   ],
   "source": [
    "# kreiranje liste\n",
    "lista1 = []\n",
    "lista2 = list()  # list() konstruktor\n",
    "lista3 = [2, 4, \"danas je lijep dan\", [\"lista\", \"listi\", 34, '34ds'],\n",
    "          'a', (\"Ovo\", \"je\", \"jedan\", \"tuple\"), {\"razliciti\", \"elementi\"}]\n",
    "\n",
    "print(\"lista1: \", lista1)\n",
    "print(\"lista2: \", lista2)\n",
    "print(\"lista3: \", lista3)\n",
    "print()\n",
    "\n",
    "for element in lista3:\n",
    "    print(element)\n"
   ]
  },
  {
   "cell_type": "code",
   "execution_count": null,
   "id": "22f9064f",
   "metadata": {},
   "outputs": [],
   "source": [
    "# Na osnovu prethodnog primjera možemo zaključiti da jedna lista u Pajtonu može da sadrži elemente\n",
    "# različitih tipova. Takođe, mozemo primijetiti da jedna lista može da sadrži drugu listu, tuple ...\n",
    "\n",
    "# Liste - dozvoljavaju duplikate i mogu se modifikovati! <-- LOOK! :eyes: √\n",
    "\n",
    "# Šta je tuple?\n",
    "# Tuple (torke) imaju osobine kao i lista, a razlika je u tome što se torke ne mogu modifikovati,\n",
    "# tj. ne može se dodavati, mijenjati, brisati ... element torke !!! <-- LOOK! :eyes: √\n",
    "\n",
    "# Kolekcija `set` (skup) - Kao što je već napisano, ova kolekcija ne sadrži više istih elemenata!\n",
    "# Takođe, ova kolekcija ne čuva raspored elemenata unutar nje! <-- LOOK! :eyes: √\n",
    "\n",
    "# Više informacija na sljedećim vježbama.\n",
    "\n",
    "\"\"\"\n",
    "Python Kolekcije (Nizovi) - Sažetak\n",
    "~-~-~-~-~-~-~-~-~-~-~-~-~-~-~-~-~-~\n",
    "\n",
    "Postoje četiri kolekcije tipova podataka u Pajton programskom jeziku:\n",
    "\n",
    "Liste      - kolekcija koja je uređena i promjenljiva.                     | Dozvoljeni duplikati. √\n",
    "Tuple      - kolekcija koja je uređena i nepromjenljiva.                   | Dozvoljeni duplikati. √\n",
    "Set        - kolekcija koja je neuređena, nepromjenljiva* i neindeksirana. | Nisu dozvoljni duplikati.\n",
    "Dictionary - kolekcija koja je uređena** i promjenljiva.                   | Nisu dozvoljeni duplikati.\n",
    "\n",
    "* Mogu se vršiti neke minimalne modifikacije.\n",
    "** U verziji Pajtona 3.6 i ranije rječnici nisu uređeni. <-- LOOK! :eyes: √\n",
    "\"\"\"\n",
    "# Heš mape - sljedeće vježbe"
   ]
  },
  {
   "cell_type": "code",
   "execution_count": 2,
   "id": "d0ba4086",
   "metadata": {},
   "outputs": [
    {
     "name": "stdout",
     "output_type": "stream",
     "text": [
      "Duzina liste se racuna uz pomoc len() funkcije\n",
      "3\n"
     ]
    }
   ],
   "source": [
    "# Dužina liste\n",
    "print(\"Duzina liste se racuna uz pomoc len() funkcije\")\n",
    "listad = [\"jedan\", \"dva\", \"tri\"]\n",
    "print(len(listad))  # 3"
   ]
  },
  {
   "cell_type": "code",
   "execution_count": 9,
   "id": "4ce2d23f",
   "metadata": {},
   "outputs": [
    {
     "name": "stdout",
     "output_type": "stream",
     "text": [
      "- - - - - - - - - - - - - - - - - \n",
      "append() metoda\n",
      "- - - - - - - - - - - - - - - - - \n",
      "lista1: [23, ['novi', 'element']]\n",
      "lista2: ['sad']\n",
      "lista3: [2, 4, 'danas je lijep dan', ['lista', 'listi', 34, '34ds'], 'a', ('Ovo', 'je', 'jedan', 'tuple'), {'elementi', 'razliciti'}]\n"
     ]
    }
   ],
   "source": [
    "lista1 = []\n",
    "lista2 = list()  # list() konstruktor\n",
    "lista3 = [2, 4, \"danas je lijep dan\",\n",
    "          [\"lista\", \"listi\", 34, '34ds'], 'a',\n",
    "          (\"Ovo\", \"je\", \"jedan\", \"tuple\"),\n",
    "          {\"razliciti\", \"elementi\"}]\n",
    "\n",
    "# dodavanje elementa na kraj liste\n",
    "print(\"- \" * 17)\n",
    "print(\"append() metoda\")\n",
    "print(\"- \" * 17)\n",
    "lista1.append(23)\n",
    "lista2.append('sad')\n",
    "\n",
    "s = [\"novi\", \"element\"]\n",
    "lista1.append(s)\n",
    "\n",
    "print(\"lista1:\", lista1)\n",
    "print(\"lista2:\", lista2)\n",
    "print(\"lista3:\", lista3)"
   ]
  },
  {
   "cell_type": "code",
   "execution_count": 10,
   "id": "cef2a78e",
   "metadata": {},
   "outputs": [
    {
     "name": "stdout",
     "output_type": "stream",
     "text": [
      "insert() metoda\n",
      "lista1: [('ovo', 'je', 'tuple', 12, 43)]\n",
      "lista1: [('ovo', 'je', 'tuple', 12, 43), 'aca']\n"
     ]
    }
   ],
   "source": [
    "# dodavanje elemenata na željenu poziciju\n",
    "lista1 = []\n",
    "print(\"insert() metoda\")\n",
    "lista1.insert(0, ('ovo', 'je', 'tuple', 12, 43))\n",
    "print('lista1:', lista1)\n",
    "lista1.insert(18, \"aca\")\n",
    "print('lista1:', lista1)\n",
    "\n",
    "# možemo primijetiti da neće doći do pucanja programa kada se pozove\n",
    "# metoda `lista.insert(n, element)`, a kada je n > len(lista) !!! <-- LOOK! √"
   ]
  },
  {
   "cell_type": "code",
   "execution_count": 14,
   "id": "37f8451e",
   "metadata": {},
   "outputs": [
    {
     "name": "stdout",
     "output_type": "stream",
     "text": [
      "pristupanje elementima preko indeksa\n",
      "list3[0] = 2\n",
      "lista3[3][2] = 34\n",
      "lista[-2][-1] = tuple\n",
      "list3[-1] = {'elementi', 'razliciti'}\n"
     ]
    }
   ],
   "source": [
    "# pristupanje elementima liste\n",
    "\n",
    "lista3 = [2, 4, \"danas je lijep dan\",\n",
    "          [\"lista\", \"listi\", 34, '34ds'],\n",
    "          'a',\n",
    "          (\"Ovo\", \"je\", \"jedan\", \"tuple\"),\n",
    "          {\"razliciti\", \"elementi\"}]\n",
    "\n",
    "print(\"pristupanje elementima preko indeksa\")\n",
    "\n",
    "e0 = lista3[0]       # 2\n",
    "e1 = lista3[3][2]    # 34\n",
    "e2 = lista3[-2][-1]  # tuple\n",
    "e3 = lista3[-1]      # {\"razliciti\", \"elementi\"}\n",
    "print(\"list3[0] =\", e0)\n",
    "print(\"lista3[3][2] =\", e1)\n",
    "print('lista[-2][-1] =', e2)\n",
    "print('list3[-1] =', e3)"
   ]
  },
  {
   "cell_type": "code",
   "execution_count": 15,
   "id": "5713561e",
   "metadata": {},
   "outputs": [
    {
     "name": "stdout",
     "output_type": "stream",
     "text": [
      "['34', '55', '159']\n"
     ]
    }
   ],
   "source": [
    "# Takođe, može se pristupati i na sljedeći način:\n",
    "listap = [\"25\", \"95\", \"34\", \"55\", \"159\", \"5\", \"1\"]\n",
    "print(listap[2:5])  # indeks 2 je uključen, indeks 5 nije uključen!"
   ]
  },
  {
   "cell_type": "code",
   "execution_count": 56,
   "id": "629bcd42",
   "metadata": {},
   "outputs": [
    {
     "name": "stdout",
     "output_type": "stream",
     "text": [
      "pop() metoda\n",
      "lista1: [5, 4, 9, 7, 6]\n",
      "\n",
      "lista1.pop(): 6\n",
      "lista1: [5, 4, 9, 7]\n",
      "\n",
      "lista1.pop(2): 9\n",
      "lista1: [5, 4, 7]\n",
      "\n",
      "lista1.pop(-2): 4\n",
      "lista1: [5, 7]\n"
     ]
    }
   ],
   "source": [
    "# elementima liste možemo pristupiti i pomoću metode pop():\n",
    "\n",
    "print(\"pop() metoda\")\n",
    "lista1 = [5, 4, 9, 7, 6]\n",
    "print(\"lista1:\", lista1)\n",
    "print()\n",
    "\n",
    "e4 = lista1.pop()   # Remove and return item at index (default last).\n",
    "print(\"lista1.pop():\", e4)  # lista1[4] = 6\n",
    "print(\"lista1:\", lista1)    # [5, 4, 9, 7]\n",
    "print()\n",
    "\n",
    "e2 = lista1.pop(2)  # Raises `IndexError` if list is empty or index is out of range.\n",
    "print(\"lista1.pop(2):\", e2)  # lista1[2] = 9\n",
    "print(\"lista1:\", lista1)     # [5, 4, 7]\n",
    "print()\n",
    "\n",
    "drugi = lista1.pop(-2)\n",
    "print(\"lista1.pop(-2):\", drugi)  # lista1[-2] = 4\n",
    "print(\"lista1:\", lista1)         # [5, 7]"
   ]
  },
  {
   "cell_type": "code",
   "execution_count": null,
   "id": "312d53a7",
   "metadata": {},
   "outputs": [],
   "source": [
    "## P I T A NJ A ##\n",
    "\n",
    "# a) Šta možemo da zaključimo analizirajući rezultat `pop()` metode? Šta radi `pop()` metoda?\n",
    "#    Jasno je da `pop()` metoda vraća posljednji element iz liste.\n",
    "# b) Da li je još nešto karakteristično za ovu metodu? Da li ova metoda mijenja sadržaj liste?\n",
    "# c) Kakva je razlika između poziva lista.pop() i lista.pop(2)?\n",
    "# Analizirati ispisane rezultate i odgovoriti na postavljena pitanja.\n",
    "\n",
    "# ODGOVORI:\n",
    "# ---------\n",
    "# (a) Metoda `pop()` \"skida\" posljednji element liste, dakle, s kraja liste uklanja element i vraća\n",
    "#     ga kao rezultat. √\n",
    "# (b) DA, metoda `pop()` MIJENJA SADRŽAJ liste. To jeste karakteristično za metodu `pop()`. LOOK! √\n",
    "# (c) Razlika između poziva lista.pop() i lista.pop(2) jeste da, ako ne zadamo argument, pop() uklanja\n",
    "#     posljednji element liste, a ako postoji argument, npr. pop(2), onda je to INDEKS ELEMENTA liste\n",
    "#     koji želimo da uklonimo !!! √"
   ]
  },
  {
   "cell_type": "code",
   "execution_count": 64,
   "id": "ba2aadd1",
   "metadata": {},
   "outputs": [
    {
     "name": "stdout",
     "output_type": "stream",
     "text": [
      "reverse() metoda\n",
      "lista1: [5, 4, 9, 7, 6, 2, 54, 76, 98, 12, 3]\n",
      "lista1: [3, 12, 98, 76, 54, 2, 6, 7, 9, 4, 5]\n"
     ]
    }
   ],
   "source": [
    "# ~ ПРОШИРЕЊЕ ЛИСТЕ методом `extend()` и ОБРТАЊЕ ЛИСТЕ методом `reverse()` ~\n",
    "\n",
    "# нека је дата листа `lista1`\n",
    "lista1 = [5, 4, 9, 7, 6]\n",
    "\n",
    "# pomoću metode `extend()` vršimo proširenje liste\n",
    "\n",
    "# (method) def extend(\n",
    "#     __iterable: Iterable[int],\n",
    "#     /\n",
    "# ) -> None\n",
    "# Extend list by appending elements from the iterable.\n",
    "lista1.extend([2, 54, 76, 98, 12, 3])  # proširenje liste metodom extend() -> `list1.extend(list2)`\n",
    "# `list1.extend(list2)`\n",
    "\n",
    "# pomoću metode `reverse()` vršimo obrtanje liste\n",
    "print(\"reverse() metoda\")\n",
    "\n",
    "print(\"lista1:\", lista1)\n",
    "lista1.reverse()  # модификује листу, то јесте распоред елемената унутар листе (енгл. in-place)!\n",
    "print(\"lista1:\", lista1)"
   ]
  },
  {
   "cell_type": "code",
   "execution_count": 24,
   "id": "dc8230ef",
   "metadata": {},
   "outputs": [
    {
     "name": "stdout",
     "output_type": "stream",
     "text": [
      "clear() metoda\n",
      "lista1: [5, 4, 9, 7, 6]\n",
      "lista1: []\n"
     ]
    }
   ],
   "source": [
    "# pomoćna metoda clear()\n",
    "\n",
    "lista1 = [5, 4, 9, 7, 6]\n",
    "print(\"clear() metoda\")\n",
    "\n",
    "print(\"lista1:\", lista1)\n",
    "lista1.clear()  # испразни/\"очисти\" листу ;-)\n",
    "print(\"lista1:\", lista1)"
   ]
  },
  {
   "cell_type": "code",
   "execution_count": 66,
   "id": "06dad496",
   "metadata": {},
   "outputs": [
    {
     "name": "stdout",
     "output_type": "stream",
     "text": [
      "Element je u listi!\n",
      "a\n",
      "b\n",
      "c\n"
     ]
    }
   ],
   "source": [
    "# provjera da li je neki element u listi\n",
    "\n",
    "lista = [\"jabuke\", \"banane\", \"višnje\"]\n",
    "\n",
    "if \"jabuke\" in lista:  # membership operator(s): `in` and `not in` √\n",
    "    print(\"Element je u listi!\")\n",
    "else:\n",
    "    print(\"Element nije u listi!\")\n",
    "\n",
    "# Petlja kroz indekse u listi √\n",
    "lista = [\"a\", \"b\", \"c\"]\n",
    "\n",
    "for i in range(len(lista)):\n",
    "    print(lista[i])"
   ]
  },
  {
   "cell_type": "code",
   "execution_count": 27,
   "id": "69a53d71",
   "metadata": {},
   "outputs": [
    {
     "name": "stdout",
     "output_type": "stream",
     "text": [
      "a\n",
      "b\n",
      "c\n",
      "['jabuka', 'banana', 'visnja', 'mango']\n",
      "['jabuka', 'banana', 'visnja', 'mango']\n"
     ]
    }
   ],
   "source": [
    "# U narednom periodu detaljnije ćemo objasniti `List Comprehension`.\n",
    "# Примјер петље користећи `List Comprehension` (срп. укључивање/[обухватање листОМ]):\n",
    "\n",
    "lista = [\"a\", \"b\", \"c\"]\n",
    "[print(x) for x in lista]  # <class 'list'> <-- LOOK! √\n",
    "\n",
    "# `List Comprehension` - Kraća sintaksa sa for petljom\n",
    "\n",
    "voce = [\"jabuka\", \"banana\", \"visnja\", \"kivi\", \"mango\"]\n",
    "novalista = []\n",
    "\n",
    "for x in voce:\n",
    "    if \"a\" in x:\n",
    "        novalista.append(x)\n",
    "\n",
    "print(novalista)\n",
    "\n",
    "# `List Comprehension` (LC) / [обухватање листом] / [обухватање у листу] √\n",
    "voce = [\"jabuka\", \"banana\", \"visnja\", \"kivi\", \"mango\"]\n",
    "\n",
    "novalista = [x for x in voce if \"a\" in x]  # <--------- LOOK! ---------~ √\n",
    "\n",
    "print(novalista)"
   ]
  },
  {
   "cell_type": "code",
   "execution_count": 35,
   "id": "20b0be7d",
   "metadata": {},
   "outputs": [
    {
     "name": "stdout",
     "output_type": "stream",
     "text": [
      "lista1: [12, 45, 25]\n",
      "lista2: [12, 35]\n",
      "lista3: ['element 1', 12, 64]\n",
      "--------------------------------------\n",
      "[12, 45, 25]\n",
      "--------------------------------------\n",
      "sabiranje listi:\n",
      "lista1 + lista2 = [12, 45, 25, 12, 35]\n"
     ]
    }
   ],
   "source": [
    "# Sljedeće pitanje je kako spojiti dvije liste u jednu?\n",
    "# Postoji više odgovora na postavljeno pitanje.\n",
    "\n",
    "lista1 = [12, 45, 25]\n",
    "lista2 = [12, 35]\n",
    "lista3 = [\"element 1\", 12, 64]\n",
    "\n",
    "print(\"lista1:\", lista1)\n",
    "print(\"lista2:\", lista2)\n",
    "print(\"lista3:\", lista3)\n",
    "print(\"-\" * 38)\n",
    "lista1 + lista2\n",
    "print(lista1)\n",
    "print(\"-\" * 38)\n",
    "print(\"sabiranje listi:\")\n",
    "lista4 = lista1 + lista2  # I начин √\n",
    "print('lista1 + lista2 =', lista4)"
   ]
  },
  {
   "cell_type": "code",
   "execution_count": 40,
   "id": "209313d8",
   "metadata": {},
   "outputs": [
    {
     "name": "stdout",
     "output_type": "stream",
     "text": [
      "Metoda extend()\n",
      "-------------------------------\n",
      "lista1.extend(lista3); lista1 = [12, 45, 25, 12, 35, 'element 1', 12, 64]\n",
      "\n"
     ]
    }
   ],
   "source": [
    "# Drugi način je da koristimo metodu `extend()`:\n",
    "\n",
    "lista1 = [12, 45, 25, 12, 35]\n",
    "lista3 = [\"element 1\", 12, 64]\n",
    "print(\"Metoda extend()\")\n",
    "print(\"-\" * 31)\n",
    "lista1.extend(lista3)  # II начин √\n",
    "print(\"lista1.extend(lista3); lista1 =\", lista1)\n",
    "print()"
   ]
  },
  {
   "cell_type": "code",
   "execution_count": 42,
   "id": "80e89a24",
   "metadata": {},
   "outputs": [
    {
     "name": "stdout",
     "output_type": "stream",
     "text": [
      "lista5 = [2, 'sed', 34]\n",
      "[lista5, 65, 12] = [[2, 'sed', 34], 65, 12]\n",
      "[*lista5, 65, 12] = [2, 'sed', 34, 65, 12]\n"
     ]
    }
   ],
   "source": [
    "# Šta je lista6, a šta lista7?\n",
    "\n",
    "lista5 = [2, \"sed\", 34]\n",
    "lista6 = [lista5, 65, 12]   # <-- LOOK! √\n",
    "lista7 = [*lista5, 65, 12]  # <-- LOOK! √\n",
    "\n",
    "print(\"lista5 =\", lista5)\n",
    "print(\"[lista5, 65, 12] =\", lista6)\n",
    "print('[*lista5, 65, 12] =', lista7)\n",
    "\n",
    "# ODGOVOR:\n",
    "# --------\n",
    "# - lista6 sadrži lista5, dok lista7 ima za elemente elemente lista5. :thinking: √\n",
    "# - lista6 je kao neka lista podlisti, dok lista7 uključuje pokazivač na lista5 !?!"
   ]
  },
  {
   "cell_type": "code",
   "execution_count": 43,
   "id": "d4dfa553",
   "metadata": {},
   "outputs": [
    {
     "name": "stdout",
     "output_type": "stream",
     "text": [
      "[3, 4]\n"
     ]
    },
    {
     "ename": "NameError",
     "evalue": "name 'lista' is not defined",
     "output_type": "error",
     "traceback": [
      "\u001b[0;31m---------------------------------------------------------------------------\u001b[0m",
      "\u001b[0;31mNameError\u001b[0m                                 Traceback (most recent call last)",
      "Cell \u001b[0;32mIn[43], line 5\u001b[0m\n\u001b[1;32m      3\u001b[0m \u001b[39mprint\u001b[39m(lista)\n\u001b[1;32m      4\u001b[0m \u001b[39mdel\u001b[39;00m lista     \u001b[39m# brisanje kompletne liste <-- LOOK! √\u001b[39;00m\n\u001b[0;32m----> 5\u001b[0m \u001b[39mprint\u001b[39m(lista)  \u001b[39m# NameError: name 'lista' is not defined\u001b[39;00m\n",
      "\u001b[0;31mNameError\u001b[0m: name 'lista' is not defined"
     ]
    }
   ],
   "source": [
    "# brisanje listi\n",
    "lista = [3, 4]\n",
    "print(lista)\n",
    "del lista     # brisanje kompletne liste <-- LOOK! √\n",
    "print(lista)  # NameError: name 'lista' is not defined"
   ]
  },
  {
   "cell_type": "code",
   "execution_count": 44,
   "id": "530a8961",
   "metadata": {},
   "outputs": [
    {
     "name": "stdout",
     "output_type": "stream",
     "text": [
      "lista = [12, 43, 54, 9, 3, (4, 6, 5), 13, 9, 'se', [23, 'youtube', 'facebook'], -12, -6]\n",
      "lista[2:8] = [54, 9, 3, (4, 6, 5), 13, 9]\n"
     ]
    }
   ],
   "source": [
    "# Sljedeće pitanje jeste kako da kreiramo podlistu posmatrane liste?\n",
    "\n",
    "lista = [12, 43, 54, 9, 3, (4, 6, 5), 13, 9, 'se', [23, 'youtube', \"facebook\"], -12, -6]\n",
    "print(\"lista =\", lista)\n",
    "\n",
    "# posmatrajmo sljedeću liniju koda\n",
    "l1 = lista[2:8]  # [2,7] или [2,8) √\n",
    "print(\"lista[2:8] =\", l1)\n",
    "\n",
    "# Šta možemo da zaključimo? Čemu je jednaka lista l1?\n",
    "# - Nije teško primijetiti da lista `l1` sadrži sve elemente koji se nalaze na poziciji 2, 3, ... 7\n",
    "# u posmatranoj listi. -> znači, polusegment/poluinterval [2, 8) je notacija `lista[2:8]`! <- LOOK! √\n",
    "# Dakle, UKLJUČUJE element sa pozicije 2, dok NE UKLJUČUJE/ne posmatra element na poziciji 8. LOOK! √"
   ]
  },
  {
   "cell_type": "code",
   "execution_count": 45,
   "id": "46afdb19",
   "metadata": {},
   "outputs": [
    {
     "name": "stdout",
     "output_type": "stream",
     "text": [
      "lista = [12, 43, 54, 9, 3, (4, 6, 5), 13, 9, 'se', [23, 'youtube', 'facebook'], -12, -6]\n",
      "lista[2:8:2] = [54, 3, 13]\n",
      "lista[4:] = [3, (4, 6, 5), 13, 9, 'se', [23, 'youtube', 'facebook'], -12, -6]\n",
      "lista[4::-1] = [3, 9, 54, 43, 12]\n"
     ]
    }
   ],
   "source": [
    "lista = [12, 43, 54, 9, 3, (4, 6, 5), 13, 9, 'se', [23, 'youtube', \"facebook\"], -12, -6]\n",
    "print(\"lista =\", lista)\n",
    "\n",
    "# Sada posmatrajmo sljedeću liniju koda\n",
    "l2 = lista[2:8:2]\n",
    "print(\"lista[2:8:2] =\", l2)\n",
    "\n",
    "# Takođe, ni sada nije teško zaključiti da je ova lista sastavljena od svakog DRUGOG elementa\n",
    "# liste koju smo maloprije posmatrali. -> [2, 8 : 2) √\n",
    "\n",
    "l3 = lista[4:]  # od indeksa 4, pa do kraja liste!!! √\n",
    "print(\"lista[4:] =\", l3)\n",
    "\n",
    "l4 = lista[4::-1]  # od indeksa 4, pa do \"inverznog kraja\", dakle DO POČETKA liste! ← LOOK! √\n",
    "print(\"lista[4::-1] =\", l4)\n",
    "\n",
    "# Uporediti dvije prethodne liste!\n",
    "\n",
    "# POREĐENJE\n",
    "# ---------\n",
    "# U listi `l3`, pravi se podlista uzimajući elemente zadate liste, od indeksa 4 pa DO KRAJA liste,\n",
    "# tim redosljedom. √\n",
    "# Podlista `l4` se pravi uzimajući elemente zadate liste, od indeksa 4 pa DO POČETKA liste, dakle\n",
    "# inverzno! -> -1! √"
   ]
  },
  {
   "cell_type": "code",
   "execution_count": 46,
   "id": "e141cf8d",
   "metadata": {},
   "outputs": [
    {
     "name": "stdout",
     "output_type": "stream",
     "text": [
      "[12, 43, 54, 9, 3, (4, 6, 5), 13, 9, 'se', [23, 'youtube', 'facebook'], -12, -6]\n",
      "lista[4:-2] = [3, (4, 6, 5), 13, 9, 'se', [23, 'youtube', 'facebook']]\n",
      "lista[-9:-2] = [9, 3, (4, 6, 5), 13, 9, 'se', [23, 'youtube', 'facebook']]\n",
      "lista[:-2] = [12, 43, 54, 9, 3, (4, 6, 5), 13, 9, 'se', [23, 'youtube', 'facebook']]\n",
      "lista[:2] = [12, 43]\n",
      "lista[::2] = [12, 54, 3, 13, 'se', -12]\n",
      "lista[1::2] = [43, 9, (4, 6, 5), 9, [23, 'youtube', 'facebook'], -6]\n"
     ]
    }
   ],
   "source": [
    "# Još par primjera:\n",
    "\n",
    "lista = [12, 43, 54, 9, 3, (4, 6, 5), 13, 9, 'se', [23, 'youtube', \"facebook\"], -12, -6]\n",
    "print (lista)\n",
    "\n",
    "l1 = lista[4:-2]  # od indeksa 4, pa DO drugog od kraja -> polusegment/poluinterval [4, -2) ili [4, 10)\n",
    "print(\"lista[4:-2] =\", l1)\n",
    "\n",
    "l2 = lista[-9:-2] # od devetog elementa s kraja, pa DO drugog elementa s kraja --> [-9, -2) ili [3, 10)\n",
    "print(\"lista[-9:-2] =\", l2)\n",
    "\n",
    "l3 = lista[:-2]  # od početka liste, pa DO drugog s kraja, polusegment/poluinterval [0, -2) ili [0, 10)\n",
    "print(\"lista[:-2] =\", l3)\n",
    "\n",
    "l4 = lista[:2]  # od početka liste, pa DO elementa sa indeksom dva ---> [0, 2), dakle podlista [12, 43]\n",
    "print(\"lista[:2] =\", l4)\n",
    "\n",
    "# svaki DRUGI element u listi, počevši od prvog elementa (s indeksom 0), korak 2 --> [parni indeksi] √\n",
    "l5 = lista[::2]  # <-- LOOK! :eyes:\n",
    "print(\"lista[::2] =\", l5)\n",
    "\n",
    "l6 = lista[1::2]  # svaki DRUGI element u listi, ali počevsi od elementa s indeksom 1 (neparni indeksi)\n",
    "print(\"lista[1::2] =\", l6)"
   ]
  },
  {
   "cell_type": "code",
   "execution_count": 54,
   "id": "c887564f",
   "metadata": {},
   "outputs": [
    {
     "name": "stdout",
     "output_type": "stream",
     "text": [
      "[12, 43, 54, 9, 3, (4, 6, 5), 13, 9, 'se', [23, 'youtube', 'facebook'], -12, -6]\n",
      "l2 = None\n",
      "[-6, -12, [23, 'youtube', 'facebook'], 'se', 9, 13, (4, 6, 5), 3, 9, 54, 43, 12]\n",
      "lista =  [12, 43, 54, 9, 3, (4, 6, 5), 13, 9, 'se', [23, 'youtube', 'facebook'], -12, -6]\n",
      "lista[::-1] = [-6, -12, [23, 'youtube', 'facebook'], 'se', 9, 13, (4, 6, 5), 3, 9, 54, 43, 12]\n",
      "l1 = [12, 43, 54, 9, 3, (4, 6, 5), 13, 9, 'se', [23, 'youtube', 'facebook'], -12, -6]\n",
      "lista[::-3] = [-6, 'se', (4, 6, 5), 54]\n"
     ]
    }
   ],
   "source": [
    "# obrtanje elemenata liste, PRVI (I) način -- upotrebom metode `reverse()` LOOK! √\n",
    "lista = [12, 43, 54, 9, 3, (4, 6, 5), 13, 9, 'se', [23, 'youtube', 'facebook'], -12, -6]\n",
    "print(lista)  # pogledajmo kako izleda početna lista ;-)\n",
    "\n",
    "#print(lista.reverse(-1))  # TypeError: list.reverse() takes no arguments (1 given)\n",
    "l2 = lista.reverse()  # inline/in-place changing of `lista` <-- LOOK! √\n",
    "# ОБРТАЊЕ елемената се дешава УНУТАР ЛИСТЕ, дакле `lista` се мијења/модификује!\n",
    "print(\"l2 =\", l2)     # l2 = None <-- LOOK! нема повратне вриједности √\n",
    "print(lista)  # [-6, -12, [23, 'youtube', 'facebook'], 'se', 9, 13, (4, 6, 5), 3, 9, 54, 43, 12]\n",
    "\n",
    "lista.reverse()  # dvaput (2x) reverse() in-place! <-- идентично оригиналу (почетној листи)! √\n",
    "print(\"lista = \", lista)\n",
    "# lista =  [12, 43, 54, 9, 3, (4, 6, 5), 13, 9, 'se', [23, 'youtube', 'facebook'], -12, -6]\n",
    "\n",
    "# obrtanje elemenata liste, DRUGI (II) način [pored upotrebe metode `reverse()`] √\n",
    "l1 = lista[::-1]  # \"obrnuta\" lista, tj. obrnut redosljed/poredak elemenata\n",
    "print(\"lista[::-1] =\", l1)\n",
    "\n",
    "l1.reverse()  # САДА inline/in-place мијењамо/модификујемо, обрнуту листу `l1`\n",
    "print(\"l1 =\", l1)\n",
    "\n",
    "l1 = lista[::-3]  # svaki treći, počevši od kraja liste, dakle od POSLJEDNJEG ELEMENTA!\n",
    "print(\"lista[::-3] =\", l1)"
   ]
  }
 ],
 "metadata": {
  "kernelspec": {
   "display_name": "Python 3 (ipykernel)",
   "language": "python",
   "name": "python3"
  },
  "language_info": {
   "codemirror_mode": {
    "name": "ipython",
    "version": 3
   },
   "file_extension": ".py",
   "mimetype": "text/x-python",
   "name": "python",
   "nbconvert_exporter": "python",
   "pygments_lexer": "ipython3",
   "version": "3.10.10"
  }
 },
 "nbformat": 4,
 "nbformat_minor": 5
}
