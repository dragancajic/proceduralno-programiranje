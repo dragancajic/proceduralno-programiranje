{
 "cells": [
  {
   "cell_type": "raw",
   "id": "66d7c659",
   "metadata": {},
   "source": [
    "Zadatak 1 - Maksimalna suma nesusjednih u nizu \n",
    "\n",
    "Dat je niz a prirodnih brojeva duzine n.\n",
    "Odrediti podniz datog niza ciji je zbir elemenata maksimalan, a u kome nema susjednih elemenata.\n",
    "Koristiti DP\n"
   ]
  },
  {
   "cell_type": "raw",
   "id": "90b95d7a",
   "metadata": {},
   "source": [
    "Zadatak 2 - Problem maksimalnog zbira u matrici\n",
    "\n",
    "Data je matrica A dimenzije nxm popunjena cijelim brojevima. Sa svakog polja u matrici dozvoljeno je preci samo na polje ispod ili na polje desno od tog polja (ukoliko postoje). Potrebno je izabrati put od gornjeg lijevog polja (polja sa koordinatama (1,1)), do donjeg desnog polja (polja sa koordinatama (n, m)), tako da zbir brojeva u poljima preko kojih se ide, bude maksimalan."
   ]
  },
  {
   "cell_type": "raw",
   "id": "eba8fd01",
   "metadata": {},
   "source": [
    "Zadatak 3 \n",
    "\n",
    "U ulazu se unosi jedan string. Naci duzinu najduzeg podniza datog stringa\n",
    "tako da se on pojavljuje (barem) dva puta u ulaznom stringu na (svim) razlicitim indeksima.\n",
    "\n",
    "Primjer:\n",
    "Ako je dat string s1 = aeafbdfdg, rjesenje bi bilo s = afd, jer je prvo\n",
    "pojavljivanje stringa s u s1 dato sa indeksima (karaktera) 1; 4; 6, dok je drugo pojavljivanje\n",
    "defnisano indeksima 3; 7; 8. \n",
    "Uočimo da niti jedan indeks nije zajednicki za oba pojavljivanja s u s1.\n",
    "To je ujedno i najduzi takav podniz.\n",
    "\n",
    "Uputstvo:\n",
    "Povezati ovaj problem za poblemom najduzeg zajednickog podniza dva\n",
    "stringa. U ovom slucaju ova dva stringa odgovaraju dvjema kopijama ulaznog stringa\n",
    "ovog problema. Potrebno je jos dodati uslov o indeksima koji moraju biti razliciti, da bi\n",
    "se problem (uz pomoc dinami£kog programiranja) mogao rijesiti."
   ]
  },
  {
   "cell_type": "raw",
   "id": "c3c7c511",
   "metadata": {},
   "source": [
    "Zadatak 4\n",
    "\n",
    "Neka je dato n prijatelja. Svaki od njih moze ostati sam ili se moze upariti\n",
    "sa nekim drugim prijateljem. Svaki prijatelj moze da se upari samo sa jednim prijateljem.\n",
    "Napisite program koji izracunava ukupan broj nacina na koje prijatelji mogu ostati sami\n",
    "ili se mogu upariti sa nekim.\n",
    "Primjer:\n",
    "\n",
    "Za n = 3 bismo imali izlaz: 4.\n",
    "U tom sljucaju imamo sljedece mogucnosti:\n",
    " * {1}, {2}, {3}: svi su sami;\n",
    " * {1}, {2, 3}: 2 i 3 su upareni dok je 1 sam;\n",
    " * {1, 2}, {3};\n",
    " * {1, 3}, {2}.\n"
   ]
  }
 ],
 "metadata": {
  "kernelspec": {
   "display_name": "Python 3 (ipykernel)",
   "language": "python",
   "name": "python3"
  },
  "language_info": {
   "codemirror_mode": {
    "name": "ipython",
    "version": 3
   },
   "file_extension": ".py",
   "mimetype": "text/x-python",
   "name": "python",
   "nbconvert_exporter": "python",
   "pygments_lexer": "ipython3",
   "version": "3.9.7"
  }
 },
 "nbformat": 4,
 "nbformat_minor": 5
}
