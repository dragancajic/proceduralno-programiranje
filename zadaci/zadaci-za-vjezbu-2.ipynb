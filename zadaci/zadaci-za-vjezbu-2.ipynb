{
 "cells": [
  {
   "cell_type": "raw",
   "id": "c5b68e12",
   "metadata": {},
   "source": [
    "Zadatak 1\n",
    "\n",
    "Napisati program koji konvertuje rimske u arapske brojeve."
   ]
  },
  {
   "cell_type": "raw",
   "id": "8f0c426a",
   "metadata": {},
   "source": [
    "Zadatak 2\n",
    "\n",
    "Sa tastature se unosi rezultat teniskog meca u obliku stringa (u formi x:x x:x x:x). Ispravna forma je \"7:6 6:3\" ==> sto znaci da je igrac 1 pobijedio;\n",
    "\"3:6 6:4 2:6\" ==> igrac 2 je pobijedio 2:1 u setovima.\n",
    "\n",
    "Nakon ispisanog rezultata, ispisati poruku koji od igraca je pobijedio i kojim rezultatom (u setovima).\n",
    "Provjeriti prije obrade unosa njegovu validnost i ispisati poruku ako unos nije validan.\n"
   ]
  },
  {
   "cell_type": "raw",
   "id": "e3ad8e62",
   "metadata": {},
   "source": [
    "Zadatak 3\n",
    "\n",
    "Sa tastature se unosi trenutna pozicija konja na sahovskoj ploci \n",
    "(npr. F4, A3 itd.).\n",
    "Ispisati sve moguce poteze konja koji mogu da se odigraju sa trenutne pozicije.\n",
    "\n",
    "Pomoćni materijali:\n",
    "Sahovska ploca: https://bs.wikipedia.org/wiki/%C5%A0ahovska_tabla\n",
    "Potez konja: https://bs.wikipedia.org/wiki/Skaka%C4%8D_(%C5%A1ah)\n",
    "\n"
   ]
  },
  {
   "cell_type": "raw",
   "id": "81d516fa",
   "metadata": {},
   "source": [
    "Zadatak 4\n",
    "\n",
    "Sa standardnog ulaza učitava se dimenzija kvadratne matrice n,\n",
    "a zatim i elementi matrice.\n",
    "\n",
    "Izlaz: Na standardni izlaz ispisati niz elemenata matrice koji se \n",
    "dobijaju spiralnim obilaskom.\n",
    "\"\"\"\n",
    "#Primer\n",
    "\n",
    "Ulaz\n",
    "5\n",
    "1 2 3 4 5\n",
    "6 7 8 9 10\n",
    "11 12 13 14 15\n",
    "16 17 18 19 20\n",
    "21 22 23 24 25\n",
    "\n",
    "Излаз\n",
    "1 2 3 4 5 10 15 20 25 24 23 22 21 16 11 6 7 8 9 14 19 18 17 12 13\n",
    "\"\"\"\n"
   ]
  },
  {
   "cell_type": "raw",
   "id": "788445b2",
   "metadata": {},
   "source": [
    "Zadatak 5\n",
    "\n",
    "Napraviti funkciju koja za agrument uzima matricu sastavljenu\n",
    "od 0 i 1.\n",
    "Kao rezultat funkcija treba da vrati marticu u kojoj su\n",
    "nule zamijenjene \n",
    "brojem koji govori koliko se oko nule nalazi jedinica, a jedinice\n",
    "zamijenjene nulama."
   ]
  },
  {
   "cell_type": "raw",
   "id": "9369c4b4",
   "metadata": {},
   "source": [
    "Zadatak 6\n",
    "\n",
    "Napraviti program koji za argument uzima n i na slučajan \n",
    "način popunjava\n",
    "matricu dimenzije n*n sa nulama i jedinicama. Program treba \n",
    "da ispita da li je tako dobijena matrica balansirana.\n",
    "Matrica je balansirana ako i samo ako joj je suma u svakoj\n",
    "vrsti i svakoj \n",
    "koloni jednaka."
   ]
  },
  {
   "cell_type": "raw",
   "id": "14b741a8",
   "metadata": {},
   "source": [
    "Zadatak 7\n",
    "\n",
    "Napisati program koji od korisnika zahtijeva da sa tastature unese ime\n",
    "datoteke. Takođe, sadržaj datoteke se unosi sa tastature - primjer sa vježbi.\n",
    "Napisati program koji čita sadržaj fajla red po red i ispisuje ga na ekranu.\n",
    "Svako peto slovo u redu ne treba da bude ispisano."
   ]
  },
  {
   "cell_type": "raw",
   "id": "025d064a",
   "metadata": {},
   "source": [
    "Zadatak 8\n",
    "\n",
    "U datoteku se unose rezultati fudbalskih utakmica gdje se u svakoj\n",
    "liniji u sljedecem formatu:\n",
    "\n",
    "Tim1:Tim2 rez1:rez2\n",
    "upisuje po jedan rezultat.\n",
    "__________________________________________________________________\n",
    "\n",
    "\n",
    "Primer datoteke rezultati.txt\n",
    "\n",
    "Liverpool:Chelsea 2:1\n",
    "Chelsea:Everton 1:1\n",
    "Liverpool:Everton 1:1\n",
    "_________________________________________________________________\n",
    "\n",
    "Ucitati datoteku u program.\n",
    "Ispisati u izlaznu datoteku timove sortirane u tabeli po bodovima\n",
    "na osnovu rezultata. Takodje ispisati\n",
    "i broj odigranih utakmica, broj pobjeda, nerijesenih i\n",
    "poraza za svaki tim."
   ]
  },
  {
   "cell_type": "raw",
   "id": "23391e14",
   "metadata": {},
   "source": [
    "Zadatak 9\n",
    "\n",
    "Sa tastature se unosi broj n, a potom n brojeva. Sortirati brojeve rastuce,\n",
    "gdje je kriterij dat zbirom cifara.\n"
   ]
  },
  {
   "cell_type": "raw",
   "id": "255ef458",
   "metadata": {},
   "source": [
    "Zadatak 10\n",
    "\n",
    "Generise se lista random brojeva. Koristeći list comprehension, generisati novu listu brojeva tako da se razmatraju oni brojevi iz inicijalne liste koju imaju tacno dva prosta faktora i za te brojeve vratiti najmanji broj koji je potreban da se pomnozi sa posmatranim brojem da bi se dobio potpun kvadrat. Recimo, za listu [ 4, 6, 8, 10, 12, 16, 64 ] vraća [6, 10, 3]."
   ]
  }
 ],
 "metadata": {
  "kernelspec": {
   "display_name": "Python 3 (ipykernel)",
   "language": "python",
   "name": "python3"
  },
  "language_info": {
   "codemirror_mode": {
    "name": "ipython",
    "version": 3
   },
   "file_extension": ".py",
   "mimetype": "text/x-python",
   "name": "python",
   "nbconvert_exporter": "python",
   "pygments_lexer": "ipython3",
   "version": "3.9.7"
  }
 },
 "nbformat": 4,
 "nbformat_minor": 5
}
