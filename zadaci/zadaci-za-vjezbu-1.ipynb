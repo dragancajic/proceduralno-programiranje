{
 "cells": [
  {
   "cell_type": "raw",
   "id": "04f5d002",
   "metadata": {},
   "source": [
    "Zadatak 1\n",
    "Ucitati cetiri cijela broja, s1; s2; s3 i s4, kao i cio broj z.\n",
    "Ispisati sve kombinacije sabiraka (s1, s2, s3 i s4) za koje je suma manja\n",
    "od z, uz uslov da se sabirci u sumi ne ponavljaju.\n",
    "\n",
    "\n",
    "Zadatak 2\n",
    "Napisati funkciju koja brise duplikate iz liste\n",
    "\n",
    "\n",
    "Zadatak 3\n",
    "Napisati program koji zahtijeva unos prirodnog broja sa tastature, kao rezultat ispisuje\n",
    "listu nula i jedinica koji predstavljaju zapis unesenog broja u binarnom brojnom sistemu.\n",
    "\n",
    "\n",
    "Zadatak 4\n",
    "Napisati program koji zahtijeva unos stringa koji se sastoji od malih i velikih slova,\n",
    "kao rezultat vraca uneseni tekst formatiran tako da mu rijeci pocinju velikim slovom,\n",
    "dok su sva ostala slova mala. Npr. \"DaNaS jE uToraK\" -> \"Danas Je Utorak\".\n",
    "\n",
    "Zadatak 5\n",
    "Napisati funkciju ParseInt koja kao ulazni parametar uzima jednu nisku. Nisku konvertuje u\n",
    "cijeli broj ukoliko je to moguce, u suprotnom vraca None.\n",
    "\n",
    "Zadatak 6\n",
    "Napisati program koji zahtjeva unos brojeva sa tastature dok se ne unese 0. \n",
    "Ispisati brojeve redom i medju njima izdvojiti onaj sa najvise prostih faktora. \n",
    "Ukoliko ima vise takvih brojeva treba izdvojiti onaj sa vecom vrijednoscu.\n",
    "\n",
    "Zadatak 7\n",
    "Napisati funckiju koja kao argument uzima string koji se sastoji od jednocifrenih brojeva i znakova + i *. \n",
    "Izmedju svagog znaka se nalazi jednocifren broj. Funkcija treba da izracuna vrijednost unesenog stringa.\n",
    "Npr. \"4+2*2+7*1+3*2*2+8+1\" -> 36\n",
    "\n",
    "Zadatak 8\n",
    "Napisati program koji od korisnika zahtijeva unos dva prirodna broja, a kao rezultat ispisuje\n",
    " proizvod svih prostih zajednickih djelilaca unesenih brojeva.\n",
    "\n",
    "Zadatak 9\n",
    "Napisati funkciju parseInt koja kao ulazni parametar uzima jednu nisku. \n",
    "Nisku konvertuje u cijeli broj ukoliko je to moguce, u suprotnom funkcija vraca None.\n",
    "\n",
    "Zadatak 10\n",
    "Sa tastature se unosi neparan prirodan broj iz intervala (3, 13). \n",
    "Naci najmanji prirodan broj koji je potrebno dodati generisanom broju da bi se dobio potpuni kub.\n",
    "Npr. Ako je generisani broj 5, trazeni broj je 3 jer je 5 + 3 = 8 = 2**3\n",
    "\n",
    "\n",
    "\n",
    "\n"
   ]
  }
 ],
 "metadata": {
  "kernelspec": {
   "display_name": "Python 3 (ipykernel)",
   "language": "python",
   "name": "python3"
  },
  "language_info": {
   "codemirror_mode": {
    "name": "ipython",
    "version": 3
   },
   "file_extension": ".py",
   "mimetype": "text/x-python",
   "name": "python",
   "nbconvert_exporter": "python",
   "pygments_lexer": "ipython3",
   "version": "3.9.7"
  }
 },
 "nbformat": 4,
 "nbformat_minor": 5
}
