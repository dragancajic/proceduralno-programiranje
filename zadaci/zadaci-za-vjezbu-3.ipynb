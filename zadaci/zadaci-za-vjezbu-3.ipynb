{
 "cells": [
  {
   "cell_type": "raw",
   "id": "c8709ddd",
   "metadata": {},
   "source": [
    "Zadatak 1\n",
    "\n",
    "Napraviti regularni izraz koji prepoznaje niske: \n",
    "ac \n",
    "abc \n",
    "abbbc \n",
    "abbbbc \n",
    "\n",
    "Rjesenje: ab*c \n"
   ]
  },
  {
   "cell_type": "raw",
   "id": "d49daca7",
   "metadata": {},
   "source": [
    "Zadatak 2\n",
    "\n",
    "Napraviti regularni izraz koji prepoznaje niske: \n",
    "ac \n",
    "bc \n",
    "aabbbc \n",
    "abbbbc \n",
    "\n",
    "Rjesenje: a*b*c \n"
   ]
  },
  {
   "cell_type": "raw",
   "id": "386b3816",
   "metadata": {},
   "source": [
    "Zadatak 3\n",
    "\n",
    "Napraviti regularni izraz koji prepoznaje niske: \n",
    "\n",
    "abccc \n",
    "bccc \n",
    "accc \n",
    "ccc \n",
    "\n",
    "Rjesenje: a?b?c{3} \n",
    "\n"
   ]
  },
  {
   "cell_type": "raw",
   "id": "bb286a0e",
   "metadata": {},
   "source": [
    "Zadatak 4\n",
    "\n",
    "Napraviti regularni izraz koji prepoznaje JMBG: \n",
    "\n",
    "1204999632145 \n",
    "1312986123599 \n",
    "1503981188789 \n",
    "\n",
    "Rjesenje: \\d{13} \n",
    "\n"
   ]
  },
  {
   "cell_type": "raw",
   "id": "c01c248f",
   "metadata": {},
   "source": [
    "Zadatak 5\n",
    "\n",
    "Napraviti regularni izraz koji prepoznaje validne brojeve telefona: \n",
    "+381641234567 \n",
    "+38369997893 \n",
    "+3829949897238 \n",
    "\n",
    "Rjesenje: \\+38\\d\\d{2}\\d{6,8} \n"
   ]
  },
  {
   "cell_type": "raw",
   "id": "f2ea6868",
   "metadata": {},
   "source": [
    "Zadatak 6\n",
    "\n",
    "Napraviti regularni izraz koji medju sljedecim rijecima prepoznaje samo one koje sadrze samo suglasnike: \n",
    "\n",
    "17 praktikum prst tacna krst Banana vrh TASTATURA srp \n",
    "\n",
    "Rjesenje: \\b[^AEIOUaeiou ]+\\b \n",
    "\n"
   ]
  },
  {
   "cell_type": "raw",
   "id": "3945d21d",
   "metadata": {},
   "source": [
    "Zadatak 7\n",
    "\n",
    "Napraviti regularni izraz koji medju sljedecim rijecima prepoznaje samo one koje sadrze bar jedan samoglasnik:\n",
    "\n",
    "praktikum prst tacna krst Banana vrh TASTATURA srp \n",
    "\n",
    "Rjesenje: \\b[a-zA-Z]*[AEIOUaeiou][a-zA-Z]*\\b \n",
    "\n"
   ]
  },
  {
   "cell_type": "raw",
   "id": "c0805683",
   "metadata": {},
   "source": [
    "Zadatak 8\n",
    "\n",
    "Napraviti regularni izraz koji prepoznaje aritmeticke izraze: \n",
    "1+3=4 \n",
    "1-6=-5 \n",
    "13*2=26 \n",
    "16/2=8 \n",
    "\n",
    "Rjesenje: -?\\d+[-\\+\\*\\/]\\d+=-?\\d+ \n"
   ]
  },
  {
   "cell_type": "raw",
   "id": "0587cafe",
   "metadata": {},
   "source": [
    "Zadatak 9\n",
    "\n",
    "Napraviti regularni izraz koji prepoznaje niske: \n",
    "a \n",
    "ac \n",
    "acab \n",
    "acabab \n",
    "acababab \n",
    "acabababab \n",
    "\n",
    "Rjesenje: ac?(ab)* \n"
   ]
  },
  {
   "cell_type": "raw",
   "id": "1e424e34",
   "metadata": {},
   "source": [
    "Zadatak 10\n",
    "\n",
    "Napraviti regularni izraz koji prepoznaje validne e-mail adrese: \n",
    "\n",
    "mile.aleksic@gmail.com \n",
    "petar.petrovic@yahoo.com \n",
    "milica95@web.server.rs \n",
    "\n",
    "Rjesenje: [a-z_\\.-]+@[a-z]+\\.[a-z.]+ \n"
   ]
  },
  {
   "cell_type": "raw",
   "id": "78d2d2a0",
   "metadata": {},
   "source": [
    "Zadatak 11\n",
    "\n",
    "Napraviti regularni izraz koji prepoznaje niske: \n",
    "a \n",
    "aaaa \n",
    "ab \n",
    "aba \n",
    "abaabaaaab \n",
    "\n",
    "ali ne prepoznaje niske \n",
    "\n",
    "b \n",
    "abb \n",
    "bba \n",
    "\n",
    "Rjesenje: (a+b?)+ \n"
   ]
  },
  {
   "cell_type": "raw",
   "id": "e1883cb4",
   "metadata": {},
   "source": [
    "Zadatak 12\n",
    "\n",
    "Napraviti regularni izraz koji prepoznaje automobilske tablice: \n",
    "VF-003 PA \n",
    "ZZ-123 BG \n",
    "HI-078 NS \n",
    "\n",
    "Rjesenje: [A-Z]{2}-\\d{3} [A-Z]{2} \n"
   ]
  },
  {
   "cell_type": "raw",
   "id": "186077bc",
   "metadata": {},
   "source": [
    "Zadatak 13\n",
    "\n",
    "Napraviti regularni izraz koji prepoznaje datume: \n",
    "12.03.1991. \n",
    "14.05.2016. \n",
    "04.04.2017. \n",
    "31.12.1990. \n",
    "\n",
    "ali ne prepoznaje: \n",
    "\n",
    "12.13.1991. \n",
    "34.05.2016. \n",
    "04.04.17 \n",
    "32.31.2296. \n",
    "\n",
    "Rjesenje: (0[1-9]|1[0-9]|3[0-1])\\.(0[0-9]|1[0-2])\\.\\d{4}\\. \n",
    "Kakav datum ispisuje sljedeći regularni izraz?\n",
    "[0-3]\\d[- /.][0-1]\\d[- /.]\\d\\d"
   ]
  }
 ],
 "metadata": {
  "kernelspec": {
   "display_name": "Python 3 (ipykernel)",
   "language": "python",
   "name": "python3"
  },
  "language_info": {
   "codemirror_mode": {
    "name": "ipython",
    "version": 3
   },
   "file_extension": ".py",
   "mimetype": "text/x-python",
   "name": "python",
   "nbconvert_exporter": "python",
   "pygments_lexer": "ipython3",
   "version": "3.9.7"
  }
 },
 "nbformat": 4,
 "nbformat_minor": 5
}
