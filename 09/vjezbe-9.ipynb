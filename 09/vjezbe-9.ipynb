{
 "cells": [
  {
   "cell_type": "code",
   "execution_count": null,
   "id": "2f590d75",
   "metadata": {},
   "outputs": [],
   "source": [
    "# ~ РЕКУРЗИЈА ~\n",
    "\n",
    "# Rekurzija je metod rješavanja problema koji podrazumijeva razbijanje problema na manje\n",
    "# potprobleme, dok se ne dođe do baznog slučaja (problema koji se može trivijalno riješiti).\n",
    "\n",
    "# Često rekurzija uključuje funkciju koja poziva samu sebe.\n",
    "# Rekurzija omogućava pisanje elegantnih rješenja za veoma komplikovane probleme.\n",
    "# U nastavku će biti prikazano par algoritama koji rekurzivno rješavaju dati problem.\n",
    "\n",
    "# Svaki rekurzivni algoritam mora da ispuni tri uslova:\n",
    "# 1. Rekurzivni algoritam mora da ima bazni slučaj.\n",
    "# 2. Rekurzivni algoritam mora da poziva sam sebe.\n",
    "# 3. Rekurzivni algoritam mora da mijenja svoje stanje i da se \"pomjera\" ka baznom slučaju."
   ]
  },
  {
   "cell_type": "code",
   "execution_count": 4,
   "id": "05229bc8",
   "metadata": {},
   "outputs": [
    {
     "name": "stdout",
     "output_type": "stream",
     "text": [
      "120\n"
     ]
    }
   ],
   "source": [
    "# Faktorijel broja\n",
    "\n",
    "def factorial(n):\n",
    "    if n == 0:\n",
    "        return 1\n",
    "    else:\n",
    "        return n * factorial(n-1)\n",
    "\n",
    "print(factorial(5))  # 120 √\n",
    "# 5 * f(4) = 5 * 4 * f(3) = 5 * 4 * 3 * f(2) = 5 * 4 * 3 * 2 * f(1) = 5 * 4 * 3 * 2 * 1 * f(0) = 120"
   ]
  },
  {
   "cell_type": "code",
   "execution_count": 5,
   "id": "71565334",
   "metadata": {},
   "outputs": [
    {
     "name": "stdout",
     "output_type": "stream",
     "text": [
      "13\n"
     ]
    }
   ],
   "source": [
    "# Fibonačijevi brojevi\n",
    "\n",
    "def fib(n):\n",
    "    if n == 0:\n",
    "        return 0\n",
    "    elif n == 1:\n",
    "        return 1\n",
    "    else:\n",
    "        return fib(n-1) + fib(n-2)\n",
    "\n",
    "print(fib(7))  # 13\n",
    "# f(6) + f(5) = f(5) + f(4) + f(4) + f(3) =\n",
    "# f(4) + f(3) + 2 * (f(3) + f(2)) + f(2) + f(1) =\n",
    "# f(3) + f(2) + 3 * (f(2) + f(1)) + 3 * (f(1) + f(0)) + 1 =\n",
    "# f(2) + f(1) + 4 * (f(1) + f(0)) + 6 + 1 =\n",
    "# f(1) + f(0) + 5 + 7 = 1 + 5 + 7 = 13 √"
   ]
  },
  {
   "cell_type": "code",
   "execution_count": 6,
   "id": "56ea5398",
   "metadata": {},
   "outputs": [
    {
     "name": "stdout",
     "output_type": "stream",
     "text": [
      "6\n",
      "21\n",
      "45\n"
     ]
    }
   ],
   "source": [
    "# Suma prvih n prirodnih brojeva -> [S = (n * (n+1)) / 2] √\n",
    "\n",
    "def sumnums(n):\n",
    "    if n == 1:\n",
    "        return 1\n",
    "    return n + sumnums(n - 1)\n",
    "\n",
    "print(sumnums(3))  # 3 + f(2) = 3 + 2 + f(1) = 5 + 1 = 6\n",
    "print(sumnums(6))  # 6 + f(5) = 6 + 5 + f(4) = 11 + 4 + f(3) + 15 + 3 + f(2) = 18 + 2 + f(1) = 20 + 1 = 21\n",
    "print(sumnums(9))  # 45\n",
    "# 9 + f(8) =\n",
    "# 9 + 8 + f(7) =\n",
    "# 17 + 7 + f(6) =\n",
    "# 24 + 6 + f(5) =\n",
    "# 30 + 5 + f(4) =\n",
    "# 35 + 4 + f(3) =\n",
    "# 39 + 3 + f(2) =\n",
    "# 42 + 2 + f(1) =\n",
    "# 44 + 1 = 45 √"
   ]
  },
  {
   "cell_type": "code",
   "execution_count": 9,
   "id": "e20081dc",
   "metadata": {},
   "outputs": [
    {
     "name": "stdout",
     "output_type": "stream",
     "text": [
      "4 na 7 je 16384\n",
      "2 na 8 je 256\n"
     ]
    }
   ],
   "source": [
    "# Stepen broja - n**m\n",
    "\n",
    "def power(num, topwr):\n",
    "    if topwr == 0:\n",
    "        return 1\n",
    "    else:\n",
    "        return num * power(num, topwr-1)\n",
    "\n",
    "print('{} na {} je {}'.format(4, 7, power(4, 7)))  # 4 na 7 je 16384\n",
    "print('{} na {} je {}'.format(2, 8, power(2, 8)))  # 2 na 8 je 256"
   ]
  },
  {
   "cell_type": "code",
   "execution_count": 10,
   "id": "e26a8916",
   "metadata": {},
   "outputs": [
    {
     "name": "stdout",
     "output_type": "stream",
     "text": [
      "10.0\n"
     ]
    }
   ],
   "source": [
    "# NZS dva broja\n",
    "\n",
    "def NZS(a, b):\n",
    "    t = a % b\n",
    "    if t == 0:\n",
    "        return a\n",
    "    return a * NZS(b, t) / t\n",
    "\n",
    "print(NZS(2, 5))  # 10.0\n",
    "# 2 * f(5, 2) / 2 = 2 * (5 * f(2, 1) / 1) / 2 = 2 * (5 * 2) / 2 = 10.0"
   ]
  },
  {
   "cell_type": "code",
   "execution_count": 12,
   "id": "2bbad08c",
   "metadata": {},
   "outputs": [
    {
     "name": "stdout",
     "output_type": "stream",
     "text": [
      "12\n"
     ]
    }
   ],
   "source": [
    "# NZD dva broja\n",
    "\n",
    "def NZD(a, b):\n",
    "    low = min(a, b)\n",
    "    high = max(a, b)\n",
    "    \n",
    "    if low == 0:\n",
    "        return high\n",
    "    elif low == 1:\n",
    "        return 1\n",
    "    else:\n",
    "        return NZD(low, high % low)\n",
    "\n",
    "print(NZD(24, 60))  # 12\n",
    "# print (NZD(4, 6))"
   ]
  },
  {
   "cell_type": "code",
   "execution_count": 15,
   "id": "0e33a9d0",
   "metadata": {},
   "outputs": [
    {
     "name": "stdout",
     "output_type": "stream",
     "text": [
      "Ulazna lista:\n",
      "[8, 3, 5, 1, 2, 7, 6, 9]\n",
      "\n",
      "Sortirana lista:\n",
      "[1, 2, 3, 5, 6, 7, 8, 9]\n"
     ]
    }
   ],
   "source": [
    "# Merge sort - rekurzivno\n",
    "\n",
    "def merge_sort(inp_arr):\n",
    "    size = len(inp_arr)\n",
    "    if size > 1:\n",
    "        middle = size // 2\n",
    "        left_arr = inp_arr[:middle]\n",
    "        right_arr = inp_arr[middle:]\n",
    "\n",
    "        merge_sort(left_arr)\n",
    "        merge_sort(right_arr)\n",
    "\n",
    "        p = 0\n",
    "        q = 0\n",
    "        r = 0\n",
    "\n",
    "        left_size = len(left_arr)\n",
    "        right_size = len(right_arr)\n",
    "        while p < left_size and q < right_size:\n",
    "            if left_arr[p] < right_arr[q]:\n",
    "                inp_arr[r] = left_arr[p]\n",
    "                p += 1\n",
    "            else:\n",
    "                inp_arr[r] = right_arr[q]\n",
    "                q += 1\n",
    "\n",
    "            r += 1\n",
    "\n",
    "        while p < left_size:\n",
    "            inp_arr[r] = left_arr[p]\n",
    "            p += 1\n",
    "            r += 1\n",
    "\n",
    "        while q < right_size:\n",
    "            inp_arr[r] = right_arr[q]\n",
    "            q += 1\n",
    "            r += 1\n",
    "\n",
    "inp_arr = [8, 3, 5, 1, 2, 7, 6, 9]\n",
    "print(\"Ulazna lista:\")\n",
    "print(inp_arr)\n",
    "merge_sort(inp_arr)\n",
    "print()\n",
    "print(\"Sortirana lista:\")\n",
    "print(inp_arr)"
   ]
  },
  {
   "cell_type": "code",
   "execution_count": 17,
   "id": "21c8ce35",
   "metadata": {},
   "outputs": [
    {
     "name": "stdout",
     "output_type": "stream",
     "text": [
      "gnirts ikeN\n"
     ]
    }
   ],
   "source": [
    "# Obrnuti string\n",
    "\n",
    "def reverse(string):\n",
    "    if len(string) == 0:\n",
    "        return string\n",
    "    else:\n",
    "        return reverse(string[1:]) + string[0]\n",
    "\n",
    "reverseme = 'Neki string'\n",
    "print(reverse(reverseme))  # gnirts ikeN\n",
    "# 'eki string' + 'N' =>\n",
    "# 'ki string' + 'e' + 'N' =>\n",
    "# 'i string' + 'k' + 'e' + 'N' =>\n",
    "# ' string' + 'i' + 'k' + 'e' + 'N' = >\n",
    "# 'string' + ' ' + 'i' + 'k' + 'e' + 'N' =>\n",
    "# 'tring' + 's' + ' ' + 'i' + 'k' + 'e' + 'N' =>\n",
    "# 'ring' + 't' + 's' + ' ' + 'i' + 'k' + 'e' + 'N' =>\n",
    "# 'ing' + 'r' + 't' + 's' + ' ' + 'i' + 'k' + 'e' + 'N' =>\n",
    "# 'ng' + 'i' + 'r' + 't' + 's' + ' ' + 'i' + 'k' + 'e' + 'N' =>\n",
    "# 'g' + 'n' + 'i' + 'r'  't' + 's' + ' ' + 'i' + 'k' + 'e' + 'N' -> 'gnirts ikeN'"
   ]
  },
  {
   "cell_type": "code",
   "execution_count": 19,
   "id": "0ff28750",
   "metadata": {},
   "outputs": [
    {
     "name": "stdout",
     "output_type": "stream",
     "text": [
      "[1, 4, 6, 4, 1]\n"
     ]
    }
   ],
   "source": [
    "# Paskalov trougao\n",
    "\n",
    "def pascal(n):\n",
    "    if n == 1:\n",
    "        return [1]\n",
    "    else:\n",
    "        line = [1]\n",
    "        previous_line = pascal(n-1)\n",
    "        for i in range(len(previous_line)-1):\n",
    "            line.append(previous_line[i] + previous_line[i+1])\n",
    "        line += [1]\n",
    "    return line\n",
    "\n",
    "print(pascal(5))  # [1, 4, 6, 4, 1] √"
   ]
  },
  {
   "cell_type": "code",
   "execution_count": 20,
   "id": "36de477a",
   "metadata": {},
   "outputs": [
    {
     "name": "stdout",
     "output_type": "stream",
     "text": [
      "False\n",
      "True\n"
     ]
    }
   ],
   "source": [
    "# Binarno pretraživanje - rekurzivna verzija\n",
    "\n",
    "def binarySearch(alist, item):\n",
    "    if len(alist) == 0:\n",
    "        return False\n",
    "    else:\n",
    "        midpoint = len(alist) // 2\n",
    "        if alist[midpoint] == item:\n",
    "            return True\n",
    "        else:\n",
    "            if item < alist[midpoint]:\n",
    "                return binarySearch(alist[:midpoint], item)\n",
    "            else:\n",
    "                return binarySearch(alist[midpoint+1:], item)\n",
    "\n",
    "testlist = [0, 1, 2, 8, 13, 17, 19, 32, 42]\n",
    "print(binarySearch(testlist, 3))   # False\n",
    "print(binarySearch(testlist, 13))  # True"
   ]
  },
  {
   "cell_type": "code",
   "execution_count": 26,
   "id": "735ad107",
   "metadata": {},
   "outputs": [
    {
     "name": "stdout",
     "output_type": "stream",
     "text": [
      "[-7, -3, 0, 2, 5, 6, 10, 11]\n",
      "None\n",
      "None\n"
     ]
    }
   ],
   "source": [
    "# Rekurzivni program za `Insertion Sort`\n",
    " \n",
    "# Rekurzivna funkcija za sortiranje niza \n",
    "def insertionSortRecursive(arr, n):\n",
    "    # bazni slučaj\n",
    "    if n <= 1:\n",
    "        return  # None\n",
    "    \n",
    "    # Sortiranje prvih n-1 elemenata\n",
    "    insertionSortRecursive(arr, n-1)\n",
    "\n",
    "    # Umetnuti posljednji element na njegovu ispravnu poziciju u sortiranom nizu\n",
    "    last = arr[n-1]\n",
    "    j = n - 2\n",
    "\n",
    "    # Pomjeriti elemente arr[0...i-1] naprijed\n",
    "    \n",
    "    while (j >= 0 and arr[j] > last):\n",
    "        arr[j+1] = arr[j]\n",
    "        j = j - 1\n",
    "    arr[j+1] = last\n",
    "\n",
    "\n",
    "# Testiranje\n",
    "if __name__ == '__main__':\n",
    "    A = [-7, 11, 6, 0, -3, 5, 10, 2]\n",
    "    n = len(A)\n",
    "    insertionSortRecursive(A, n)\n",
    "    print(A)  # [-7, -3, 0, 2, 5, 6, 10, 11]\n",
    "\n",
    "    print(insertionSortRecursive([6], len([6])))  # None\n",
    "    print(insertionSortRecursive([], len([])))    # None\n"
   ]
  }
 ],
 "metadata": {
  "kernelspec": {
   "display_name": "Python 3 (ipykernel)",
   "language": "python",
   "name": "python3"
  },
  "language_info": {
   "codemirror_mode": {
    "name": "ipython",
    "version": 3
   },
   "file_extension": ".py",
   "mimetype": "text/x-python",
   "name": "python",
   "nbconvert_exporter": "python",
   "pygments_lexer": "ipython3",
   "version": "3.10.10"
  }
 },
 "nbformat": 4,
 "nbformat_minor": 5
}
