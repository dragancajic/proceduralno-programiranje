{
 "cells": [
  {
   "cell_type": "code",
   "execution_count": 1,
   "id": "3d5e4b03",
   "metadata": {},
   "outputs": [
    {
     "name": "stdout",
     "output_type": "stream",
     "text": [
      "21\n"
     ]
    }
   ],
   "source": [
    "# Zadatak 1\n",
    "# Napisati program koji rekurzivno računa sumu elemenata u listi.\n",
    "\n",
    "def recursive_list_sum(data_list):\n",
    "    total = 0\n",
    "    for element in data_list:\n",
    "        if type(element) == type([]):\n",
    "            total = total + recursive_list_sum(element)\n",
    "        else:\n",
    "            total = total + element\n",
    "\n",
    "    return total\n",
    "print( recursive_list_sum([1, 2, [3,4],[5,6]]))"
   ]
  },
  {
   "cell_type": "code",
   "execution_count": 5,
   "id": "28f97f40",
   "metadata": {},
   "outputs": [
    {
     "name": "stdout",
     "output_type": "stream",
     "text": [
      "1.9921875\n",
      "1.9375\n"
     ]
    }
   ],
   "source": [
    "# Zadatak 2\n",
    "# Napisati program koji računa geometrijsku sumu  1+1/2+1/4+... (Rekurzivno)\n",
    "\n",
    "def geometric_sum(n):\n",
    "    if n < 0:\n",
    "        return 0\n",
    "    else:\n",
    "        return 1 / (pow(2, n)) + geometric_sum(n - 1)\n",
    "print(geometric_sum(7))\n",
    "print(geometric_sum(4))"
   ]
  },
  {
   "cell_type": "code",
   "execution_count": 1,
   "id": "f489af99",
   "metadata": {},
   "outputs": [
    {
     "name": "stdout",
     "output_type": "stream",
     "text": [
      "3\n",
      "3\n"
     ]
    }
   ],
   "source": [
    "# Zadatak 3 \n",
    "# Napisati program koji računa broj suglasnika u stringu. (Rekurzivno)\n",
    "\n",
    "# Funkcija koja provjerava da li je karakter suglasnik\n",
    "def isConsonant(ch):\n",
    "     \n",
    "    \n",
    "    ch = ch.upper()\n",
    " \n",
    "    return not (ch == 'A' or ch == 'E' or\n",
    "                ch == 'I' or ch == 'O' or\n",
    "                ch == 'U') and ord(ch) >= 65 and ord(ch) <= 90\n",
    " \n",
    "\n",
    "def totalConsonants(string, n):\n",
    "     \n",
    "    if n == 1:\n",
    "        return isConsonant(string[0])\n",
    " \n",
    "    return totalConsonants(string, n - 1) + isConsonant(string[n-1])\n",
    " \n",
    "string = \"abc de\"\n",
    "print(totalConsonants(string, len(string)))\n",
    "print (True + True + True)\n",
    " "
   ]
  },
  {
   "cell_type": "code",
   "execution_count": 3,
   "id": "81502506",
   "metadata": {},
   "outputs": [
    {
     "name": "stdout",
     "output_type": "stream",
     "text": [
      "14\n"
     ]
    }
   ],
   "source": [
    "# Zadatak 4\n",
    "# Napisati program koji računa dužinu stringa. (Rekurzivno)\n",
    "\n",
    "str = \"Duzina stringa\"\n",
    " \n",
    "# Funkcija koja računa dužinu stringa rekurzivno\n",
    "def string_length(str) :\n",
    "     \n",
    "    # kada dođemo do kraja stringa\n",
    "    if str == '':\n",
    "        return 0\n",
    "    else :\n",
    "        return 1 + string_length(str[1:])\n",
    "     \n",
    "# Testiranje\n",
    "print (string_length(str))\n",
    " "
   ]
  },
  {
   "cell_type": "code",
   "execution_count": 1,
   "id": "fe845c58",
   "metadata": {},
   "outputs": [
    {
     "name": "stdout",
     "output_type": "stream",
     "text": [
      "10\n"
     ]
    }
   ],
   "source": [
    "# Zadatak 5\n",
    "# Napisati program koji računa proizvod dva broja. (Rekurzivno)\n",
    "\n",
    "def product( x , y ):\n",
    "    # ako je x manje od y zamijeni brojeve\n",
    "    if x < y:\n",
    "        return product(y, x)\n",
    "     \n",
    "    elif y != 0:\n",
    "        return (x + product(x, y - 1))\n",
    "     \n",
    "    #  ako je bilo koji od dva broja jednak nula vrati nula\n",
    "    else:\n",
    "        return 0\n",
    "x = 5\n",
    "y = 2\n",
    "print( product(x, y))\n",
    " "
   ]
  },
  {
   "cell_type": "code",
   "execution_count": 13,
   "id": "4dda01cb",
   "metadata": {},
   "outputs": [
    {
     "name": "stdout",
     "output_type": "stream",
     "text": [
      "1010\n"
     ]
    }
   ],
   "source": [
    "# Zadatak 6\n",
    "# Napisati program koji pretvara broj iz dekadnog zapisa u binarni. (Rekurzivno)\n",
    "\n",
    "def find( decimal_number ):\n",
    "    if decimal_number == 0:\n",
    "        return 0\n",
    "    else:\n",
    "        return (decimal_number % 2 + 10 *\n",
    "                find(int(decimal_number // 2)))\n",
    "\n",
    "decimal_number = 10\n",
    "print(find(decimal_number))"
   ]
  },
  {
   "cell_type": "code",
   "execution_count": 15,
   "id": "0dceccb8",
   "metadata": {},
   "outputs": [
    {
     "name": "stdout",
     "output_type": "stream",
     "text": [
      "Suma cifara broja 12345 je 15\n"
     ]
    }
   ],
   "source": [
    "# Zadatak 7\n",
    "# Napisati program koji računa sumu cifara nekog broja. (Rekurzivno)\n",
    "\n",
    "def sum_of_digit( n ):\n",
    "    if n == 0:\n",
    "        return 0\n",
    "    return (n % 10 + sum_of_digit(int(n / 10)))\n",
    " \n",
    "\n",
    "num = 12345\n",
    "result = sum_of_digit(num)\n",
    "print(\"Suma cifara broja\",num,\"je\", result)"
   ]
  },
  {
   "cell_type": "code",
   "execution_count": 2,
   "id": "3bd6a054",
   "metadata": {},
   "outputs": [
    {
     "name": "stdout",
     "output_type": "stream",
     "text": [
      "Minimalni element je:  1\n",
      "Maksimalni element je:  1234\n"
     ]
    }
   ],
   "source": [
    "# Zadatak 8\n",
    "# Napisati program koji pronalazi minimalni (maksimalni) element u listi. (Rekurzivno)\n",
    "\n",
    "def getMin(arr, n):\n",
    "    if(n==1):\n",
    "        return arr[0]\n",
    "    # Ako imamo samo jedan element, vratiti njega.\n",
    "    # Inače vraća manji od prvog elementa i ostatka liste\n",
    "    \n",
    "    else:\n",
    "        return min(getMin(arr[1:], n-1), arr[0])\n",
    "def getMax(arr, n):\n",
    "    if(n==1):\n",
    "        return arr[0]\n",
    "   \n",
    "    else:\n",
    "        return max(getMax(arr[1:], n-1), arr[0])\n",
    "\n",
    "arr = [12, 1234, 45, 67, 1]\n",
    "n = len(arr)\n",
    "print(\"Minimalni element je: \",\n",
    "                   getMin(arr, n));\n",
    "print(\"Maksimalni element je: \",\n",
    "                   getMax(arr, n));\n",
    " "
   ]
  },
  {
   "cell_type": "code",
   "execution_count": 4,
   "id": "2fc9987d",
   "metadata": {},
   "outputs": [
    {
     "name": "stdout",
     "output_type": "stream",
     "text": [
      "Pomjeriti disk 1 sa  A na B\n",
      "Pomjeriti disk 2 sa A na C\n",
      "Pomjeriti disk 1 sa  B na C\n",
      "Pomjeriti disk 3 sa A na B\n",
      "Pomjeriti disk 1 sa  C na A\n",
      "Pomjeriti disk 2 sa C na B\n",
      "Pomjeriti disk 1 sa  A na B\n"
     ]
    }
   ],
   "source": [
    "#Zadatak 10\n",
    "# Hanojske kule\n",
    "\n",
    "def TowerOfHanoi(n, source, destination, auxiliary):\n",
    "    if n == 1:\n",
    "        print(\"Pomjeriti disk 1 sa \", source, \"na\", destination)\n",
    "        return\n",
    "    TowerOfHanoi(n - 1, source, auxiliary, destination)\n",
    "    print(\"Pomjeriti disk\", n, \"sa\", source, \"na\", destination)\n",
    "    TowerOfHanoi(n - 1, auxiliary, destination, source)\n",
    "\n",
    "n = 3\n",
    "TowerOfHanoi(n, 'A', 'B', 'C')\n",
    "\n"
   ]
  },
  {
   "cell_type": "code",
   "execution_count": 1,
   "id": "977adde3",
   "metadata": {},
   "outputs": [
    {
     "name": "stdout",
     "output_type": "stream",
     "text": [
      "disk 1 sa A na B\n",
      "disk 2 sa A na C\n",
      "disk 1 sa B na C\n",
      "disk 3 sa A na B\n",
      "disk 1 sa C na A\n",
      "disk 2 sa C na B\n",
      "disk 1 sa A na B\n",
      "disk 4 sa A na C\n",
      "disk 1 sa B na C\n",
      "disk 2 sa B na A\n",
      "disk 1 sa C na A\n",
      "disk 3 sa B na C\n",
      "disk 1 sa A na B\n",
      "disk 2 sa A na C\n",
      "disk 1 sa B na C\n"
     ]
    }
   ],
   "source": [
    "\"\"\"\n",
    "n - broj diskova,\n",
    "A - oznaka stapa SA koga treba prebaciti diskove\n",
    "B - oznaka pomocnog stapa\n",
    "C - oznaka stapa NA koji treba prebaciti diskove\n",
    "\"\"\"\n",
    "def hanoj(n, A, B, C):\n",
    "    if n > 0:\n",
    "        hanoj(n-1, A, C, B)\n",
    "        print('disk', n, 'sa', A, 'na', C) \n",
    "        hanoj(n-1, B, A, C)\n",
    "\n",
    "hanoj(4, 'A', 'B', 'C')\n",
    "\n",
    "\"\"\"\n",
    "▶ Uzeti prvih n − 1 diskova sa štapa A, i prebaciti ih na štap B.\n",
    "▶ Uzeti preostali disk sa štapa A i prebaciti na štap C.\n",
    "▶ Rekurzivno prebaciti diskove sa štapa B na štap C (koristeći\n",
    "štap A)\n",
    "\"\"\""
   ]
  },
  {
   "cell_type": "code",
   "execution_count": 5,
   "id": "4feb7ce2",
   "metadata": {},
   "outputs": [
    {
     "name": "stdout",
     "output_type": "stream",
     "text": [
      "8\n",
      "0.000715700\n",
      "55\n",
      "0.000320800\n"
     ]
    }
   ],
   "source": [
    "# Zadatak 11\n",
    "'''\n",
    "Pomocu memoizacije napraviti funkciju koja racuna n-ti element\n",
    "Fibonacijevog niza\n",
    "i testirati vrijeme izvrsavanja\n",
    "'''\n",
    "def fib(n, memo={}):\n",
    "    if n <= 1:\n",
    "        return 1\n",
    "    if n not in memo:\n",
    "        memo[n] = fib(n - 1) + fib(n - 2)\n",
    "    return memo[n]\n",
    "\n",
    "\n",
    "from timeit import default_timer as time\n",
    "\n",
    "start = time()\n",
    "print (fib(5))\n",
    "end = time()\n",
    "print (\"%.9f\" % (end - start))\n",
    "\n",
    "start = time()\n",
    "print (fib(9))\n",
    "end = time()\n",
    "print (\"%.9f\" % (end - start))"
   ]
  },
  {
   "cell_type": "code",
   "execution_count": 2,
   "id": "7019006c",
   "metadata": {},
   "outputs": [
    {
     "name": "stdout",
     "output_type": "stream",
     "text": [
      "Yes\n",
      "No\n",
      "Yes\n",
      "No\n"
     ]
    }
   ],
   "source": [
    "# Zadatak - Domaći\n",
    "# Napisati program koji provjerava da li je broj palindrom. (Rekurzivno)\n",
    "\n",
    "def oneDigit(num):\n",
    "     \n",
    "    # Operatori poređenja su brži\n",
    "    # nego operator dijeljenja. Koristićemo\n",
    "    # sljedeći kod da ispitamo da li je u pitanju jedna cifra\n",
    "    # umjesto koda \"return num / 10 == 0;\"\n",
    "    return ((num >= 0) and\n",
    "            (num < 10))\n",
    " \n",
    "# U nastavku je rekurzivna funkcija\n",
    "# koja ispituje da li je broj palindrom ili ne\n",
    "# Inicijalno, dupNum sadrži kopiju varijable num\n",
    "\n",
    "def isPalUtil(num, dupNum):\n",
    "     \n",
    "    # Bazni slučaj (potreban je da bi se rekurzija\n",
    "    # zaustavila)\n",
    "    \n",
    "    if oneDigit(num):\n",
    "        return (num == (dupNum[0]) % 10)\n",
    " \n",
    "    \n",
    "    if not isPalUtil(num //10, dupNum):\n",
    "        return False\n",
    " \n",
    "    dupNum[0] = dupNum[0] //10\n",
    " \n",
    "    return (num % 10 == (dupNum[0]) % 10)\n",
    " \n",
    "# Glavna funkcija koja koristi prethodnu rekurzivnu funkciju\n",
    "\n",
    "def isPal(num):\n",
    "    # Ako je broj negativan,\n",
    "    # pretvorićemo ga u pozitivan\n",
    "    if (num < 0):\n",
    "        num = (-num)\n",
    " \n",
    "    # Kreira se kopija od num\n",
    "    # kako bi mogli vršiti modifikacije\n",
    "    dupNum = [num] # *dupNum = num\n",
    " \n",
    "    return isPalUtil(num, dupNum)\n",
    " \n",
    "\n",
    "n = 12321\n",
    "if isPal(n):\n",
    "    print(\"Yes\")\n",
    "else:\n",
    "    print(\"No\")\n",
    "\n",
    "n = 12\n",
    "if isPal(n) :\n",
    "    print(\"Yes\")\n",
    "else:\n",
    "    print(\"No\")\n",
    "\n",
    "n = 88\n",
    "if isPal(n) :\n",
    "    print(\"Yes\")\n",
    "else:\n",
    "    print(\"No\")\n",
    "\n",
    "n = 8999\n",
    "if isPal(n) :\n",
    "    print(\"Yes\")\n",
    "else:\n",
    "    print(\"No\")"
   ]
  }
 ],
 "metadata": {
  "kernelspec": {
   "display_name": "Python 3 (ipykernel)",
   "language": "python",
   "name": "python3"
  },
  "language_info": {
   "codemirror_mode": {
    "name": "ipython",
    "version": 3
   },
   "file_extension": ".py",
   "mimetype": "text/x-python",
   "name": "python",
   "nbconvert_exporter": "python",
   "pygments_lexer": "ipython3",
   "version": "3.9.7"
  }
 },
 "nbformat": 4,
 "nbformat_minor": 5
}
