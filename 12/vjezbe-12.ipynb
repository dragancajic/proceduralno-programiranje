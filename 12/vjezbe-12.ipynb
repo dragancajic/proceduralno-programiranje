{
 "cells": [
  {
   "cell_type": "raw",
   "id": "28e279ba",
   "metadata": {},
   "source": [
    "Dinamičko programiranje\n",
    "- Problemi se rješavaju tako što se kombinuju rješenja subproblema \n",
    "\n",
    "Razvoj algoritama za dinamičko programiranje može se podijeliti u četiri koraka:\n",
    "1. Okarakterisati strukturu optimalnog rješenja\n",
    "2. Rekurzivno definisati vrijednost optimalnog rješenja\n",
    "3. Računati vrijednost optimalnog rješenja odzdo prema gore\n",
    "4. Konstruisati optimalno rješenje iz već izračunatih informacija"
   ]
  },
  {
   "cell_type": "code",
   "execution_count": 2,
   "id": "a689ba8e",
   "metadata": {},
   "outputs": [],
   "source": [
    "# Zadatak 1\n",
    "# Jednostavan primjer za Fibonačijeve brojeve - ilustracija na slici\n",
    "\n",
    "def fib(n):\n",
    "    if n <= 1:\n",
    "        return n\n",
    "\n",
    "    return fib(n - 1) + fib(n - 2)"
   ]
  },
  {
   "cell_type": "raw",
   "id": "5d251963",
   "metadata": {},
   "source": [
    "Overlapping Subproblems - primjer fib(3)\n",
    "\n",
    "Dinamičko programiranje ne bi imalo smisla ukoliko ne bi bilo \"preklapajućih\"\n",
    "subproblema jer nema smisla čuvati neka rješenja koja nam kasnije neće trebati.\n",
    "\n",
    "Postoje dva načina za čuvanje podataka:\n",
    "a) Memoizacija (Top Down) \n",
    "b) Tabulacija (Bottom Up)\n",
    "\n",
    "\n"
   ]
  },
  {
   "cell_type": "raw",
   "id": "c34529ed",
   "metadata": {},
   "source": [
    "a) Memoizacija\n",
    "\n",
    "Kada program koristi memoizaciju može se reći da je pisan na rekurzivan način sa malim modifikacijama gdje se koriste tabele prije računanja rješenja.\n",
    "Prije svega, kreira se lista za pretraživanje sa svim inicijalnim vrijednostima postavljenim na NIL.\n",
    "Nakon toga, kada god želimo da vidimo rješenje subproblema moramo prvo pogledati u tabelu.\n",
    "Ako se tu nalazi izračunata vrijednost vratimo tu vrijednost, inače, računamo vrijednost i postavljamo rezultat u tabelu tako da može biti iskorišten kasnije.\n",
    "\n",
    "Primjer korištenja memoizacije za funkciju za pronalazak n-tog Fibonačijevog broja je u nastavku."
   ]
  },
  {
   "cell_type": "code",
   "execution_count": 5,
   "id": "a2874644",
   "metadata": {},
   "outputs": [
    {
     "name": "stdout",
     "output_type": "stream",
     "text": [
      "Fibonačijev broj je: 5702887\n"
     ]
    }
   ],
   "source": [
    "# Memoizacija\n",
    "\n",
    "def fib(n, lookup):\n",
    " \n",
    "    # bazni slučaj\n",
    "    if n <= 1:\n",
    "        lookup[n] = n\n",
    " \n",
    "    # Ako vrijednost nije izračunata ranije -> izračunati je\n",
    "    if lookup[n] is None:\n",
    "        lookup[n] = fib(n-1, lookup) + fib(n-2, lookup)\n",
    " \n",
    "    # vratiti vrijednost odgovarajuće vrijednosti za n\n",
    "    return lookup[n]\n",
    "# kraj funkcije\n",
    " \n",
    "if __name__ == \"__main__\":\n",
    "    n = 34\n",
    "    # Kreiranje lookup tabele\n",
    "    # za n = 100\n",
    "    lookup = [None] * 101\n",
    "    print (\"Fibonačijev broj je:\", fib(n, lookup))\n",
    " "
   ]
  },
  {
   "cell_type": "raw",
   "id": "ce62a6e5",
   "metadata": {},
   "source": [
    "b) Tabulacija\n",
    "\n",
    "Kreira se tabela za dati problem na način odzdo prema gore i vraća se posljednji unos iz tabele.\n",
    "Npr. za Fibonačijeve brojeve prvo se računa fib(0) pa fib(1) pa fib(2) i tako dalje.\n",
    "Posljednji unos u tabelu biće fib(n).\n",
    "Dakle, konstruiše se rješenje problema tako što se rješavaju subproblemi odozdo prema gore.\n"
   ]
  },
  {
   "cell_type": "code",
   "execution_count": 7,
   "id": "f0d6616c",
   "metadata": {},
   "outputs": [
    {
     "name": "stdout",
     "output_type": "stream",
     "text": [
      "Fibonačijev broj je:  34\n"
     ]
    }
   ],
   "source": [
    "# Tabulacija\n",
    "\n",
    "def fib(n):\n",
    " \n",
    "    # kreiranje niza\n",
    "    f = [0] * (n + 1)\n",
    " \n",
    "    # bazni slučaj\n",
    "    f[1] = 1\n",
    " \n",
    "    # računanje vrijednosti i čuvanje iste\n",
    "    for i in range(2, n + 1):\n",
    "        f[i] = f[i - 1] + f[i - 2]\n",
    "    return f[n]\n",
    "\n",
    " \n",
    "if __name__ == \"__main__\":\n",
    "    n = 9\n",
    "    print (\"Fibonačijev broj je: \", fib(n))"
   ]
  },
  {
   "cell_type": "code",
   "execution_count": 8,
   "id": "30fa7b45",
   "metadata": {},
   "outputs": [
    {
     "name": "stdout",
     "output_type": "stream",
     "text": [
      "Maksimalna cijena štapa je: 22\n"
     ]
    }
   ],
   "source": [
    "# Zadatak 2 - Rezanje štapa\n",
    "\n",
    "\"\"\"\n",
    "Dat je štap dužine n inča i lista cijena svakog komada štapa. \n",
    "Odrediti maksimalnu cijenu koja se može dobiti rezanjem štapa i prodajom dijelova.\n",
    "Npr. ako je dužina štapa 8 i vrijednosti različitih dijelova su date na sljedeći način:\n",
    "\n",
    "dužina    | 1   2   3   4   5   6   7   8  \n",
    "--------------------------------------------\n",
    "cijena    | 1   5   8   9  10  17  17  20\n",
    "\n",
    "Onda je maksimalna vrijednost koja se može dobiti 22 (presjecanjem na dva komada dužine 2 i 6).\n",
    "\n",
    "Koja bi bila maksimalna cijena za sljdeće podatke?\n",
    "\n",
    "dužina   | 1   2   3   4   5   6   7   8  \n",
    "--------------------------------------------\n",
    "cijena   | 3   5   8   9  10  17  17  20\n",
    "\n",
    "\"\"\"\n",
    "INT_MIN = -99999\n",
    " \n",
    "# Vraća najbolju dobijenu cijenu za štap dužine n\n",
    "# u price[] smještamo cijene različitih dijelova štapa \n",
    "def cutRod(price, n):\n",
    "    val = [0 for x in range(n+1)] # DP - kreiranje val \n",
    "    #val[0] = 0\n",
    " \n",
    "    # Popunjavanje tabele val[] odozdo na gore i vraćanje posljednjeg unosa iz \"tabele\"\n",
    "    \n",
    "    for i in range(1, n+1):\n",
    "        max_val = INT_MIN\n",
    "        for j in range(i):\n",
    "             max_val = max(max_val, price[j] + val[i-j-1])\n",
    "        val[i] = max_val\n",
    " \n",
    "    return val[n]\n",
    " \n",
    "\n",
    "price = [1, 5, 8, 9, 10, 17, 17, 20]\n",
    "size = len(arr)\n",
    "print(\"Maksimalna cijena štapa je: \" + str(cutRod(price, size)))\n",
    " \n"
   ]
  },
  {
   "cell_type": "code",
   "execution_count": 16,
   "id": "93c3e6a5",
   "metadata": {},
   "outputs": [
    {
     "name": "stdout",
     "output_type": "stream",
     "text": [
      "Dužina najdužeg podniza za date stringove je:  5\n"
     ]
    }
   ],
   "source": [
    "# Zadatak 3\n",
    "\"\"\"\n",
    " Problem najdužeg zajedničkog podniza\n",
    " Data su dva stringa s1 i s2 dužina l1 i l2, potrebno je naći najduži\n",
    " zajednički podniz za ta dva stringa\n",
    "\"\"\"\n",
    "def LCS(s1,s2,l1,l2):\n",
    "    dp = [[None]*(l2+1) for i in range(l1+1)]\n",
    "\n",
    "    # Inicijalizacija dp matrice\n",
    "    # Ako je dužina bilo kog stringa jednaka 0 tada je dužina\n",
    "    #najdužeg podstringa isto 0\n",
    "    # Dakle, dp[0][i] i dp[j][0] će biti nule\n",
    "\n",
    "    for i in range(l1+1):\n",
    "        dp[i][0] = 0\n",
    "    for j in range(l2+1):\n",
    "        dp[0][j] = 0\n",
    "\n",
    "    # ako je s1[i] == s2[j] \n",
    "    for i in range(1,l1+1):\n",
    "        for j in range(1,l2+1):\n",
    "            if s1[i-1] == s2[j-1]:\n",
    "                dp[i][j] = 1 + dp[i-1][j-1]\n",
    "            else:\n",
    "                dp[i][j] = max(dp[i][j-1],dp[i-1][j])\n",
    "\n",
    "    # dp[l1][l2] sadrži dužinu najdužeg podniza za stringove s1 i s2\n",
    "    return dp[l1][l2]\n",
    "\n",
    "\n",
    "\n",
    "if __name__ == '__main__':\n",
    "    s1 = 'abbacdcba'\n",
    "    s2 = 'bcdbbcaa'\n",
    "    maxlen = LCS(s1,s2,len(s1),len(s2))\n",
    "    print(\"Dužina najdužeg podniza za date stringove je: \",maxlen)"
   ]
  },
  {
   "cell_type": "code",
   "execution_count": 3,
   "id": "5996542e",
   "metadata": {},
   "outputs": [
    {
     "name": "stdout",
     "output_type": "stream",
     "text": [
      "Dužina najdužeg zajedničkog podstringa je: 3\n"
     ]
    }
   ],
   "source": [
    "# Zadatak \n",
    "\n",
    "\"\"\"\n",
    "Najduži zajdenički podstring\n",
    "\"\"\"\n",
    "\n",
    "def SubString(s1,s2,l1,l2):\n",
    "\n",
    "    dp = [[None]*(l2+1) for i in range(l1+1)] \n",
    "\n",
    "    for i in range(l1+1):\n",
    "\n",
    "        dp[i][0] = 0\n",
    "\n",
    "    for j in range(l2+1):\n",
    "\n",
    "        dp[0][j] = 0\n",
    "\n",
    "\n",
    "    for i in range(1,l1+1):\n",
    "\n",
    "        for j in range(1,l2+1):\n",
    "\n",
    "            if s1[i-1] == s2[j-1]:\n",
    "\n",
    "                dp[i][j] = 1 + dp[i-1][j-1]\n",
    "\n",
    "            else:\n",
    "\n",
    "                dp[i][j] = 0\n",
    "\n",
    "\n",
    "    maximum = -9999\n",
    "    #print (dp)\n",
    "    for i in dp:\n",
    "        maximum = max(maximum,max(i))\n",
    "\n",
    "    return maximum\n",
    "\n",
    " \n",
    "\n",
    "if __name__ == '__main__':\n",
    "\n",
    "    s1 = 'aabcdaf'\n",
    "\n",
    "    s2 = 'gbcdf'\n",
    "\n",
    "    maxlen = SubString(s1,s2,len(s1),len(s2))\n",
    "\n",
    "    print(\"Dužina najdužeg zajedničkog podstringa je:\",maxlen)\n"
   ]
  },
  {
   "cell_type": "code",
   "execution_count": 18,
   "id": "edbdf03b",
   "metadata": {},
   "outputs": [
    {
     "name": "stdout",
     "output_type": "stream",
     "text": [
      "Dužina najdužeg palindromičnog podniza je: 5\n"
     ]
    }
   ],
   "source": [
    "# Zadatak 6\n",
    "# Najduži palindromični podniz\n",
    "\n",
    "def LCS(s1,s2):\n",
    "    l1 = len(s1)\n",
    "    l2 = len(s2)\n",
    "    dp = [[None]*(l2+1) for _ in range(l1+1)]\n",
    "\n",
    "    for i in range(l1+1):\n",
    "        dp[i][0] = 0\n",
    "    for j in range(l2+1):\n",
    "        dp[0][j] = 0\n",
    "\n",
    "    # ako je s1[i] == s2[j] tada povećamo rezultat za 1 inače traži \n",
    "    #u i-1,j i i, j-1\n",
    "    for i in range(1,l1+1):\n",
    "        for j in range(1,l2+1):\n",
    "            if s1[i-1] == s2[j-1]:\n",
    "                dp[i][j] = 1 + dp[i-1][j-1]\n",
    "            else:\n",
    "                dp[i][j] = max(dp[i][j-1],dp[i-1][j])\n",
    "\n",
    "\n",
    "    return dp[l1][l2]\n",
    "\n",
    "def LPS(s):\n",
    "    srev = s[::-1]\n",
    "    return LCS(s,srev)\n",
    "\n",
    "if __name__ == '__main__':\n",
    "    s = 'agbdba'\n",
    "    length = LPS(s)\n",
    "    print(f'Dužina najdužeg palindromičnog podniza je: {length}')"
   ]
  },
  {
   "cell_type": "code",
   "execution_count": 10,
   "id": "e4b4a8a8",
   "metadata": {},
   "outputs": [
    {
     "name": "stdout",
     "output_type": "stream",
     "text": [
      "Vrijednost od C(5,2) je: 10\n"
     ]
    }
   ],
   "source": [
    "# Zadatak 7 - binomni koeficijenti\n",
    "\n",
    "\"\"\"\n",
    "Napisati funkciju koja za argumente uzima parametre\n",
    "n i k i vraća vrijednost\n",
    "binomnog koeficijenta C(n,k). \n",
    "Npr. funkcija vraća 6 za parametre n = 4 i k = 2 ili \n",
    "vraća 10 za n = 5 i  k = 2.\n",
    "\n",
    "Rekurzija:\n",
    "C(n, k) = C(n-1, k-1) + C(n-1, k)\n",
    "C(n, 0) = C(n, n) = 1\n",
    "\"\"\"\n",
    "def binomialCoef(n, k):\n",
    "    C = [[0 for x in range(k+1)] for x in range(n+1)] #DP\n",
    " \n",
    "    # Računanje binomnog koeficijenta\n",
    "    # bottom up \n",
    "    for i in range(n+1):\n",
    "        for j in range(min(i, k)+1):\n",
    "            # bazni slučaj\n",
    "            if j == 0 or j == i:\n",
    "                C[i][j] = 1\n",
    " \n",
    "            # Računanje vrijednosti koristeći\n",
    "            # ranije izračunatu vrijednost\n",
    "            else:\n",
    "                C[i][j] = C[i-1][j-1] + C[i-1][j]\n",
    " \n",
    "    return C[n][k]\n",
    "\n",
    "n = 5\n",
    "k = 2\n",
    "print(\"Vrijednost od C(\" + str(n) + \",\" + str(k) + \") je: \"\n",
    "      + str(binomialCoef(n, k)))\n",
    "\n"
   ]
  },
  {
   "cell_type": "code",
   "execution_count": 6,
   "id": "00bb76c8",
   "metadata": {},
   "outputs": [
    {
     "name": "stdout",
     "output_type": "stream",
     "text": [
      "Maksimalni profit je :  40\n"
     ]
    }
   ],
   "source": [
    "# Zadatak 8\n",
    "\"\"\"\n",
    "1) Problem ranca  - Memoizacija - kreiranje tabele dp[][]\n",
    "\n",
    "\"\"\"\n",
    "'''\n",
    "Kapacitet ranca = W\n",
    "Lista težina : wt = []\n",
    "Lista cijena (vrijednosti) : pr = []\n",
    "Broj stavki = N\n",
    "'''\n",
    "\n",
    "def kProfit(W,N,wt,pr,dp):\n",
    "    # Bazni slučaj\n",
    "    if N==0 or W==0:\n",
    "        return 0\n",
    "    # Ako je subproblem ranije riješen vratiti rješenje\n",
    "    if dp[N][W] is not None:\n",
    "        return dp[N][W]\n",
    "    if wt[N-1] <= W:\n",
    "        dp[N][W] = max(pr[N-1]+kProfit(W-wt[N-1],N-1,wt,pr,dp),\n",
    "                       kProfit(W,N-1,wt,pr,dp))\n",
    "        return dp[N][W]\n",
    "    else:\n",
    "        dp[N][W] = kProfit(W,N-1,wt,pr,dp)\n",
    "        return dp[N][W]\n",
    "if __name__ == '__main__':\n",
    "    W = 11\n",
    "    wt = [1, 2, 5, 6, 7]\n",
    "    pr = [1, 6, 18, 22, 28]\n",
    "    N = len(pr)\n",
    "    # definisanje dp matrice (tabele) koja ima 12 kolona i 6 redova popunjenih sa None\n",
    "    dp = [[None] * (W + 1) for i in range(N + 1)]\n",
    "    # poziv funkije za računanje maksimalnog profita\n",
    "    maxProfit = kProfit(W,N,wt,pr,dp)\n",
    "    print('Maksimalni profit je : ',maxProfit)\n"
   ]
  },
  {
   "cell_type": "code",
   "execution_count": 4,
   "id": "a4072dd2",
   "metadata": {},
   "outputs": [
    {
     "name": "stdout",
     "output_type": "stream",
     "text": [
      "Minimalna razlika je: 5\n"
     ]
    }
   ],
   "source": [
    "# Zadatak 9\n",
    "\"\"\"\n",
    "Potrebno naći podskupove skupa S (S1 i S2) takve da je \n",
    "razlika između\n",
    "sume elemenata iz S1 i sume elemenata iz S2 minimalna.\n",
    "\n",
    "\"\"\"\n",
    "\n",
    "def findMinAbsDiff(S, n, S1=0, S2=0):\n",
    " \n",
    "    # Bazni slučaj: ako lista postane prazna,\n",
    "    #vratiti apsolutnu vrijednost\n",
    "    # razlike između dva skupa\n",
    "    if n < 0:\n",
    "        return abs(S1 - S2)\n",
    " \n",
    "    # Slučaj 1 - Uključi trenutnu stavku u podskup `S1` i  onda ponavljaj postupak\n",
    "    # za preostalih `n-1`  \n",
    "    inc = findMinAbsDiff(S, n - 1, S1 + S[n], S2)\n",
    " \n",
    "    # Slučaj 2 - Isključi trenutnu vrijednost iz `S1` i ponavljaj za ostale vrijednosti\n",
    "    \n",
    "    exc = findMinAbsDiff(S, n - 1, S1, S2 + S[n])\n",
    " \n",
    "    return min(inc, exc)\n",
    " \n",
    "if __name__ == '__main__':\n",
    " \n",
    "    # Input: skup vrijednosti\n",
    "    S = [10, 20, 15, 5, 25]\n",
    "     \n",
    "    print('Minimalna razlika je:', findMinAbsDiff(S, len(S) - 1))\n",
    "# Za domaći - riješiti zadatak uz pomoć dinamičkog programiranja"
   ]
  },
  {
   "cell_type": "code",
   "execution_count": 5,
   "id": "6ed4cb10",
   "metadata": {},
   "outputs": [
    {
     "name": "stdout",
     "output_type": "stream",
     "text": [
      "Minimalna razlika je: 5\n"
     ]
    }
   ],
   "source": [
    "# Rješenje prethodnog zadatka - DP\n",
    "\n",
    "def findMinAbsDiff(S, n, S1, S2, lookup):\n",
    " \n",
    "    \n",
    "    if n < 0:\n",
    "        return abs(S1 - S2)\n",
    " \n",
    "    # Konstruiše se jedinstveni ključ za dinamičke elemente sa ulaza\n",
    "    # Napomena: možemo jedinstveno odrediti subproblem samo sa `n` i `S1`,\n",
    "    # jer `S2` nije ništa drugo nego `S-S1`, gdje je `S` suma svih elemenata.\n",
    "    key = (n, S1)\n",
    " \n",
    "    # Ako problem nije ranije rješavan riješiti ga i smjestiti \n",
    "    # u rezultat\n",
    "    if key not in lookup:\n",
    " \n",
    "        # Slučaj 1 - analogno prethodnom primjeru\n",
    "        inc = findMinAbsDiff(S, n - 1, S1 + S[n], S2, lookup)\n",
    " \n",
    "        # Slučaj 2- analogno prethodnom primjeru\n",
    "        exc = findMinAbsDiff(S, n - 1, S1, S2 + S[n], lookup)\n",
    " \n",
    "        lookup[key] = min(inc, exc)\n",
    " \n",
    "    return lookup[key]\n",
    " \n",
    "if __name__ == '__main__':\n",
    " \n",
    "    # Input\n",
    "    S = [10, 20, 15, 5, 25]\n",
    " \n",
    "    # kreiranje rječnika za smještanje rješenja\n",
    "    lookup = {}\n",
    " \n",
    "    print('Minimalna razlika je:', findMinAbsDiff(S, len(S) - 1, 0, 0, lookup))"
   ]
  },
  {
   "cell_type": "code",
   "execution_count": 15,
   "id": "c1ed6a63",
   "metadata": {},
   "outputs": [
    {
     "name": "stdout",
     "output_type": "stream",
     "text": [
      "Moguće je pronaći podskupove sa jednakom sumom!\n"
     ]
    }
   ],
   "source": [
    "# Zadatak 10 - za vježbu\n",
    "\"\"\"\n",
    "Partition problem \n",
    "\n",
    "https://afteracademy.com/blog/partition-equal-subset-sum - 2 rješenja (brute force, dp)\n",
    "https://www.geeksforgeeks.org/partition-problem-dp-18/  -2 rješenja (memoizacija, tabulacija)\n",
    "\"\"\"\n",
    "def subSum(arr,target):\n",
    "    n = len(arr)\n",
    "    dp = [[None]*(target+1) for _ in range(n+1)]\n",
    "    \n",
    "    # inicijalizujemo matricu dp koja ima target+1 kolona i n+1 redova\n",
    "    for i in range(target+1):\n",
    "        dp[0][i] = False\n",
    "    for j in range(n+1):\n",
    "        dp[j][0] = True\n",
    "\n",
    "    for i in range(1,n+1):\n",
    "        for j in range(target+1):\n",
    "            if arr[i-1] <= j:\n",
    "                dp[i][j] = dp[i-1][j-arr[i-1]] or dp[i-1][j]\n",
    "            else:\n",
    "                dp[i][j] = dp[i-1][j]\n",
    "    # Vraćamo posljenju ćeliju i ona sadrži odgovor\n",
    "    return dp[n][target]\n",
    "\n",
    "def isPossible(arr):\n",
    "    \n",
    "    P = sum(arr)\n",
    "    S = P // 2\n",
    "    # Vraća True ako podskup postoji inače vraća netačno\n",
    "    return(subSum(arr,S))\n",
    "\n",
    "if __name__ == '__main__':\n",
    "    arr = [3, 1, 1, 2, 2, 1]\n",
    "    if sum(arr) % 2:\n",
    "        print('Ne mogu se pronaći podskupovi sa jednakom sumom.')\n",
    "    else:\n",
    "        boolean = isPossible(arr)\n",
    "        if boolean:\n",
    "            print('Moguće je pronaći podskupove sa jednakom sumom!')\n",
    "        else:\n",
    "            print('Nije moguće pronaći podskupove sa jednakom sumom!')"
   ]
  }
 ],
 "metadata": {
  "kernelspec": {
   "display_name": "Python 3 (ipykernel)",
   "language": "python",
   "name": "python3"
  },
  "language_info": {
   "codemirror_mode": {
    "name": "ipython",
    "version": 3
   },
   "file_extension": ".py",
   "mimetype": "text/x-python",
   "name": "python",
   "nbconvert_exporter": "python",
   "pygments_lexer": "ipython3",
   "version": "3.9.7"
  }
 },
 "nbformat": 4,
 "nbformat_minor": 5
}
