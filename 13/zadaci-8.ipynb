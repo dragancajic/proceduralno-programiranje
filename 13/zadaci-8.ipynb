{
 "cells": [
  {
   "cell_type": "code",
   "execution_count": 1,
   "id": "550e50de",
   "metadata": {},
   "outputs": [
    {
     "name": "stdout",
     "output_type": "stream",
     "text": [
      "False\n",
      "True\n"
     ]
    }
   ],
   "source": [
    "# Linearno pretraživanje\n",
    "\n",
    "def sequentialSearch(alist, item):\n",
    "    pos = 0\n",
    "    found = False\n",
    "\n",
    "    while pos < len(alist) and not found:\n",
    "        if alist[pos] == item:\n",
    "            found = True\n",
    "        else:\n",
    "            pos = pos+1\n",
    "    \n",
    "    return found\n",
    "\n",
    "testlist = [1, 2, 32, 8, 17, 19, 42, 13, 0]\n",
    "print(sequentialSearch(testlist, 3))\n",
    "print(sequentialSearch(testlist, 13))"
   ]
  },
  {
   "cell_type": "code",
   "execution_count": null,
   "id": "cc2bea80",
   "metadata": {},
   "outputs": [],
   "source": [
    "# * Analiza prethodnog algoritma\n",
    "'''\n",
    "Tabela 1\n",
    "========\n",
    "Mogući slučajevi:\t   Najbolji slučaj   \tNajgori slučaj   \tProsječan slučaj\n",
    "\n",
    "vrijednost je u listi         1                    n                   n/2\n",
    "vrijednost nije u listi       n                    n                    n\n",
    "'''"
   ]
  },
  {
   "cell_type": "code",
   "execution_count": 2,
   "id": "8c6f6acc",
   "metadata": {},
   "outputs": [
    {
     "name": "stdout",
     "output_type": "stream",
     "text": [
      "False\n",
      "True\n"
     ]
    }
   ],
   "source": [
    "# Linearno pretraživanje u uređenoj listi\n",
    "\n",
    "def orderedSequentialSearch(alist, item):\n",
    "    pos = 0\n",
    "    found = False\n",
    "    stop = False\n",
    "    while pos < len(alist) and not found and not stop:\n",
    "        if alist[pos] == item:\n",
    "            found = True\n",
    "        else:\n",
    "            if alist[pos] > item:\n",
    "                stop = True\n",
    "            else:\n",
    "                pos = pos+1\n",
    "\n",
    "    return found\n",
    "\n",
    "testlist = [0, 1, 2, 8, 13, 17, 19, 32, 42,]\n",
    "print(orderedSequentialSearch(testlist, 3))\n",
    "print(orderedSequentialSearch(testlist, 13))"
   ]
  },
  {
   "cell_type": "code",
   "execution_count": null,
   "id": "feb3a04c",
   "metadata": {},
   "outputs": [],
   "source": [
    "# * Analiza prethodnog algoritma\n",
    "'''\n",
    "Tabela 2\n",
    "========\n",
    "Mogući slučajevi:\t   Najbolji slučaj   \tNajgori slučaj   \tProsječan slučaj\n",
    "\n",
    "vrijednost je u listi         1                    n                   n/2\n",
    "vrijednost nije u listi       1                    n                   n/2\n",
    "'''"
   ]
  },
  {
   "cell_type": "code",
   "execution_count": null,
   "id": "3edd503c",
   "metadata": {},
   "outputs": [],
   "source": [
    "# Zadaci za vježbu\n",
    "\n",
    "# 1. Koliko poređenja je potrebno napraviti kako bismo našli vrijednost v=18 u listi\n",
    "#    L=[15, 18, 2, 19, 18, 0, 8, 14, 19, 14]? U pitanju je linearno pretraživanje liste.\n",
    "\n",
    "# (2)\n",
    "\n",
    "# 2. Koliko poređenja je potrebno napraviti kako bi našli vrijednost v=13 u listi\n",
    "#    L=[3, 5, 6, 8, 11, 12, 14, 15, 17, 18]? U pitanju je linearno pretraživanje uređene liste.\n",
    "\n",
    "# (7)"
   ]
  },
  {
   "cell_type": "code",
   "execution_count": 3,
   "id": "fd239696",
   "metadata": {},
   "outputs": [
    {
     "name": "stdout",
     "output_type": "stream",
     "text": [
      "False\n",
      "True\n"
     ]
    }
   ],
   "source": [
    "# Binarno pretraživanje\n",
    "\n",
    "def binarySearch(alist, item):\n",
    "    first = 0\n",
    "    last = len(alist)-1\n",
    "    found = False\n",
    "\n",
    "    while first <= last and not found:\n",
    "        midpoint = (first + last) // 2\n",
    "        if alist[midpoint] == item:\n",
    "            found = True\n",
    "        else:\n",
    "            if item < alist[midpoint]:\n",
    "                last = midpoint-1\n",
    "            else:\n",
    "                first = midpoint+1\n",
    "\n",
    "    return found\n",
    "\n",
    "testlist = [0, 1, 2, 8, 13, 17, 19, 32, 42,]\n",
    "print(binarySearch(testlist, 3))\n",
    "print(binarySearch(testlist, 13))"
   ]
  },
  {
   "cell_type": "code",
   "execution_count": null,
   "id": "b7672a56",
   "metadata": {},
   "outputs": [],
   "source": [
    "# * Analiza prethodnog algoritma\n",
    "'''\n",
    "Tabela 3\n",
    "========\n",
    "Broj poređenja    Aproksimacija broja vrijednosti koje su ostale sa lijeve strane\n",
    "    1                            n/2\n",
    "    2\t                         n/4\n",
    "    3                            n/8\n",
    "   ...\n",
    "    i                            n/2**i\n",
    "'''"
   ]
  },
  {
   "cell_type": "code",
   "execution_count": null,
   "id": "34032638",
   "metadata": {},
   "outputs": [],
   "source": [
    "# Zadaci za vježbu\n",
    "\n",
    "# 1. Koristeći funkciju za binarno pretraživanje pronaći vrijednost v=8 u sortiranoj listi\n",
    "#    L=[3, 5, 6, 8, 11, 12, 14, 15, 17, 18]. Koja grupa brojeva će se sve porediti sa brojem 8?\n",
    "\n",
    "# 2. Koristeći funkciju za binarno pretraživanje pronaći vrijednost v=16 u sortiranoj listi\n",
    "#    L=[3, 5, 6, 8, 11, 12, 14, 15, 17, 18]. Koja grupa brojeva će se sve porediti sa brojem 16?"
   ]
  },
  {
   "cell_type": "code",
   "execution_count": 7,
   "id": "bf97185f",
   "metadata": {},
   "outputs": [
    {
     "name": "stdout",
     "output_type": "stream",
     "text": [
      "[17, 20, 26, 31, 44, 54, 55, 77, 93]\n"
     ]
    }
   ],
   "source": [
    "# SORTIRANJE\n",
    "# The Bubble Sort - prikaz prvog prolaska kroz listu na slici\n",
    "\n",
    "def bubbleSort(alist):\n",
    "    for passnum in range(len(alist)-1, 0, -1):\n",
    "        for i in range(passnum):\n",
    "            if alist[i] > alist[i+1]:\n",
    "                temp = alist[i]\n",
    "                alist[i] = alist[i+1]\n",
    "                alist[i+1] = temp\n",
    "\n",
    "alist = [54, 26, 93, 17, 77, 31, 44, 55, 20]\n",
    "bubbleSort(alist)\n",
    "print(alist)"
   ]
  },
  {
   "cell_type": "code",
   "execution_count": null,
   "id": "657e2e81",
   "metadata": {},
   "outputs": [],
   "source": [
    "# * Analiza prethodnog algoritma\n",
    "'''\n",
    "Prolazak kroz listu       Broj poređenja\n",
    "    1                         n-1\n",
    "    2                         n-2\n",
    "    3                         n-3\n",
    "   ...\n",
    "   n-1\t                       1\n",
    "'''"
   ]
  },
  {
   "cell_type": "code",
   "execution_count": 8,
   "id": "3e03b6a1",
   "metadata": {},
   "outputs": [
    {
     "name": "stdout",
     "output_type": "stream",
     "text": [
      "[20, 30, 40, 50, 60, 70, 80, 90, 100, 110]\n"
     ]
    }
   ],
   "source": [
    "# Modifikovana verzija\n",
    "\n",
    "# Ukoliko je lista sortirana, prilikom prolaska kroz listu se ništa neće mijenjati i\n",
    "# iz tog razloga se postavlja dodatni uslov koji nam govori da li je izvršena razmjena\n",
    "# u određenom koraku. Algoritam se ranije završava u slučaju da nema razmjene.\n",
    "\n",
    "def shortBubbleSort(alist):\n",
    "    exchanges = True\n",
    "    passnum = len(alist)-1\n",
    "    while passnum > 0 and exchanges:\n",
    "        exchanges = False\n",
    "        for i in range(passnum):\n",
    "            if alist[i] > alist[i+1]:\n",
    "                exchanges = True\n",
    "                temp = alist[i]\n",
    "                alist[i] = alist[i+1]\n",
    "                alist[i+1] = temp\n",
    "        passnum = passnum-1\n",
    "\n",
    "alist = [20, 30, 40, 90, 50, 60, 70, 80, 100, 110]\n",
    "shortBubbleSort(alist)\n",
    "print(alist)"
   ]
  },
  {
   "cell_type": "code",
   "execution_count": null,
   "id": "c7c1bce3",
   "metadata": {},
   "outputs": [],
   "source": [
    "# Zadatak za vježbu\n",
    "\n",
    "# 1. Napisati listu brojeva koja predstavlja djelimično sortiranu listu\n",
    "# L = [19, 1, 9, 7, 3, 10, 13, 15, 8, 12] nakon završenog trećeg koraka Bubble Sort-a?\n",
    "\n",
    "# [1, 3, 7, 9, 10, 8, 12, 13, 15, 19]"
   ]
  },
  {
   "cell_type": "code",
   "execution_count": 12,
   "id": "c2a4e25e",
   "metadata": {},
   "outputs": [
    {
     "name": "stdout",
     "output_type": "stream",
     "text": [
      "[17, 20, 26, 31, 44, 54, 55, 77, 93]\n"
     ]
    }
   ],
   "source": [
    "# The Selection Sort - kada se nalazi najveći element i stavlja se na kraj\n",
    "\n",
    "# Ilustracija na slici\n",
    "\n",
    "def selectionSort(alist):\n",
    "    for fillslot in range(len(alist)-1, 0, -1):\n",
    "        positionOfMax = 0\n",
    "        for location in range(1,fillslot+1):\n",
    "            if alist[location] > alist[positionOfMax]:\n",
    "                positionOfMax = location\n",
    "            temp = alist[fillslot]\n",
    "            alist[fillslot] = alist[positionOfMax]\n",
    "            alist[positionOfMax] = temp\n",
    "\n",
    "alist = [54, 26, 93, 17, 77, 31, 44, 55, 20]\n",
    "selectionSort(alist)\n",
    "print(alist)"
   ]
  },
  {
   "cell_type": "code",
   "execution_count": null,
   "id": "1b87257e",
   "metadata": {},
   "outputs": [],
   "source": [
    "# Zadatak za vježbu\n",
    "\n",
    "# 1. Napisati djelimično sortiranu listu brojeva koja se dobije nakon završenog trećeg koraka\n",
    "# Selection Sort-a primjenjenog na listu L = [11, 7, 12, 14, 19, 1, 6, 18, 8, 20].\n",
    "\n",
    "# [11, 7, 12, 14, 8, 1, 6, 18, 19, 20]"
   ]
  },
  {
   "cell_type": "code",
   "execution_count": 13,
   "id": "7e8769ec",
   "metadata": {},
   "outputs": [
    {
     "name": "stdout",
     "output_type": "stream",
     "text": [
      "[17, 20, 26, 31, 44, 54, 55, 77, 93]\n"
     ]
    }
   ],
   "source": [
    "# The Insertion Sort\n",
    "\n",
    "# Ilustracija na slici \n",
    "\n",
    "def insertionSort(alist):\n",
    "    for index in range(1,len(alist)):\n",
    "\n",
    "        currentvalue = alist[index]\n",
    "        position = index\n",
    "\n",
    "    while position>0 and alist[position-1]>currentvalue:\n",
    "        alist[position]=alist[position-1]\n",
    "        position = position-1\n",
    "        \n",
    "        alist[position]=currentvalue\n",
    "\n",
    "alist = [54,26,93,17,77,31,44,55,20]\n",
    "insertionSort(alist)\n",
    "print(alist)"
   ]
  },
  {
   "cell_type": "code",
   "execution_count": null,
   "id": "b14ad440",
   "metadata": {},
   "outputs": [],
   "source": [
    "# Zadatak za vježbu\n",
    "\n",
    "# 1. Napisati djelimično sortiranu listu brojeva koja se dobije nakon završenog trećeg koraka\n",
    "# Insertion Sort-a primjenjenog na listu L = [15, 5, 4, 18, 12, 19, 14, 10, 8, 20].\n",
    "\n",
    "# [4, 5, 15, 18, 12, 19, 14, 10, 8, 20]"
   ]
  },
  {
   "cell_type": "code",
   "execution_count": 14,
   "id": "f34e2fac",
   "metadata": {
    "collapsed": true
   },
   "outputs": [
    {
     "name": "stdout",
     "output_type": "stream",
     "text": [
      "Splitting  [54, 26, 93, 17, 77, 31, 44, 55, 20]\n",
      "Splitting  [54, 26, 93, 17]\n",
      "Splitting  [54, 26]\n",
      "Splitting  [54]\n",
      "Merging  [54]\n",
      "Splitting  [26]\n",
      "Merging  [26]\n",
      "Merging  [26, 54]\n",
      "Splitting  [93, 17]\n",
      "Splitting  [93]\n",
      "Merging  [93]\n",
      "Splitting  [17]\n",
      "Merging  [17]\n",
      "Merging  [17, 93]\n",
      "Merging  [17, 26, 54, 93]\n",
      "Splitting  [77, 31, 44, 55, 20]\n",
      "Splitting  [77, 31]\n",
      "Splitting  [77]\n",
      "Merging  [77]\n",
      "Splitting  [31]\n",
      "Merging  [31]\n",
      "Merging  [31, 77]\n",
      "Splitting  [44, 55, 20]\n",
      "Splitting  [44]\n",
      "Merging  [44]\n",
      "Splitting  [55, 20]\n",
      "Splitting  [55]\n",
      "Merging  [55]\n",
      "Splitting  [20]\n",
      "Merging  [20]\n",
      "Merging  [20, 55]\n",
      "Merging  [20, 44, 55]\n",
      "Merging  [20, 31, 44, 55, 77]\n",
      "Merging  [17, 20, 26, 31, 44, 54, 55, 77, 93]\n",
      "[17, 20, 26, 31, 44, 54, 55, 77, 93]\n"
     ]
    }
   ],
   "source": [
    "# Merge sort - ilustracija na slici - rekurzivni sort\n",
    "\n",
    "def mergeSort(alist):\n",
    "    print(\"Splitting \", alist)\n",
    "    if len(alist) > 1:\n",
    "        mid = len(alist) // 2\n",
    "        lefthalf = alist[:mid]\n",
    "        righthalf = alist[mid:]\n",
    "\n",
    "        mergeSort(lefthalf)\n",
    "        mergeSort(righthalf)\n",
    "\n",
    "        i = 0\n",
    "        j = 0\n",
    "        k = 0\n",
    "        while i < len(lefthalf) and j < len(righthalf):\n",
    "            if lefthalf[i] <= righthalf[j]:\n",
    "                alist[k] = lefthalf[i]\n",
    "                i= i + 1\n",
    "            else:\n",
    "                alist[k] = righthalf[j]\n",
    "                j = j+1\n",
    "            k=k+1\n",
    "\n",
    "        while i < len(lefthalf):\n",
    "            alist[k] = lefthalf[i]\n",
    "            i = i + 1\n",
    "            k = k + 1\n",
    "\n",
    "        while j < len(righthalf):\n",
    "            alist[k] = righthalf[j]\n",
    "            j = j + 1\n",
    "            k = k + 1\n",
    "    print(\"Merging \", alist)\n",
    "\n",
    "alist = [54, 26, 93, 17, 77, 31, 44, 55, 20]\n",
    "mergeSort(alist)\n",
    "print(alist)"
   ]
  },
  {
   "cell_type": "code",
   "execution_count": null,
   "id": "9dd520d0",
   "metadata": {},
   "outputs": [],
   "source": [
    "# Zadaci za vježbu\n",
    "\n",
    "# 1. Napisati liste brojeva koje se prve spajaju primjenom rekurzivnog mergesort-a primjenjenog\n",
    "# na listu L = [21, 1, 26, 45, 29, 28, 2, 9, 16, 49, 39, 27, 43, 34, 46, 40].\n",
    "\n",
    "# [21] i [1]"
   ]
  },
  {
   "cell_type": "code",
   "execution_count": 15,
   "id": "d7223309",
   "metadata": {},
   "outputs": [
    {
     "name": "stdout",
     "output_type": "stream",
     "text": [
      "[17, 20, 26, 31, 44, 54, 55, 77, 93]\n"
     ]
    }
   ],
   "source": [
    "# The Quick Sort - Ilustracija na slici - Domaći\n",
    "\n",
    "def quickSort(alist):\n",
    "    quickSortHelper(alist,0,len(alist)-1)\n",
    "\n",
    "def quickSortHelper(alist,first,last):\n",
    "    if first<last:\n",
    "\n",
    "        splitpoint = partition(alist,first,last)\n",
    "\n",
    "        quickSortHelper(alist,first,splitpoint-1)\n",
    "        quickSortHelper(alist,splitpoint+1,last)\n",
    "\n",
    "def partition(alist,first,last):\n",
    "    pivotvalue = alist[first]\n",
    "\n",
    "    leftmark = first+1\n",
    "    rightmark = last\n",
    "\n",
    "    done = False\n",
    "    while not done:\n",
    "\n",
    "        while leftmark <= rightmark and alist[leftmark] <= pivotvalue:\n",
    "            leftmark = leftmark + 1\n",
    "\n",
    "        while alist[rightmark] >= pivotvalue and rightmark >= leftmark:\n",
    "            rightmark = rightmark -1\n",
    "\n",
    "        if rightmark < leftmark:\n",
    "            done = True\n",
    "        else:\n",
    "            temp = alist[leftmark]\n",
    "            alist[leftmark] = alist[rightmark]\n",
    "            alist[rightmark] = temp\n",
    "    \n",
    "    temp = alist[first]\n",
    "    alist[first] = alist[rightmark]\n",
    "    alist[rightmark] = temp\n",
    "\n",
    "    return rightmark\n",
    "\n",
    "alist = [54, 26, 93, 17, 77, 31, 44, 55, 20]\n",
    "quickSort(alist)\n",
    "print(alist)"
   ]
  },
  {
   "cell_type": "code",
   "execution_count": null,
   "id": "716658ab",
   "metadata": {},
   "outputs": [],
   "source": [
    "# Zaključak\n",
    "\n",
    "# Linearno pretraživanje - O(n) i za uređene i za neuređene liste.\n",
    "\n",
    "# Binarno pretraživanje - O(log n) u najgorem slučaju za uređene liste.\n",
    "\n",
    "# Bubble Sort, Selection Sort i Insertion Sort - O(n**2)\n",
    "\n",
    "# Merge Sort - O(nlog n), ali takođe zahtjeva dodatan prostor proces spajanja!\n",
    "\n",
    "# Quick Sort - O(nlog n), ali se može degradirati na O(n**2). Ne zahtjeva dodatni prostor!"
   ]
  },
  {
   "cell_type": "code",
   "execution_count": null,
   "id": "d995c8e1",
   "metadata": {},
   "outputs": [],
   "source": [
    "# Zadaci za domaći\n",
    "'''\n",
    "1. Potrebno je generisati listu cijelih brojeva iz intervala [20, 150] dužine 14.\n",
    "   Prikazati na koji način se sortira lista koristeći sljedeće algoritme:\n",
    "\n",
    "Bubble Sort\n",
    "\n",
    "Selection Sort\n",
    "\n",
    "Insertion Sort\n",
    "\n",
    "Merge Sort\n",
    "\n",
    "Quick Sort (sami izaberite `pivot` vrijednost).\n",
    "\n",
    "2. Listu karaktera: ['P','Y','T','H','O','N'] potrebno je sortirati uz pomoć sljedećih algoritama:\n",
    "\n",
    "Bubble Sort\n",
    "\n",
    "Selection Sort\n",
    "\n",
    "Insertion Sort\n",
    "\n",
    "Merge Sort\n",
    "\n",
    "Quick Sort (sami izaberite `pivot` vrijednost).\n",
    "\n",
    "3. Odrediti kompleksnost izvršavanja algoritama u oba primjera - slika u prilogu.\n",
    "\n",
    "4. Inicijalizovati listu, set i heš-mapu.\n",
    "\n",
    "(1) Unijeti u sve tri strukture milion integer elemenata (koji su različiti).\n",
    "    Bilježiti vremena potrebna za ovaj unos.\n",
    "(2) Potom, iz sve tri strukture obrisati pola miliona elemenata na slučajan način.\n",
    "    Bilježiti vremena za ove operacije i porediti. Napisati izvještaj i diskutovati dobijene rezultate.\n",
    "(3) Od preostalih elemenata ažurirati 100 000 elemenata po nekom `random` kriteruju za listu i heš-mapu.\n",
    "\n",
    "Mjerite vremena koja su potrebna za ove operacije.\n",
    "Vremena mjerite pomoću modula `time` na sljedeći način:\n",
    "\n",
    "Mjerenje vremena ==> import klase `time` (metod `time`).\n",
    "'''\n",
    "import time\n",
    "\n",
    "start = time.time()\n",
    "# ovdje ide vaš kod...\n",
    "end = time.time()\n",
    "print(end - start)"
   ]
  },
  {
   "cell_type": "code",
   "execution_count": 1,
   "id": "30233adb",
   "metadata": {},
   "outputs": [
    {
     "name": "stdout",
     "output_type": "stream",
     "text": [
      "[1, -2, -3, -4, 5, 8, -9]\n"
     ]
    }
   ],
   "source": [
    "# Zadatak 1\n",
    "\"\"\"\n",
    "Napisati program koji zahtjeva unos broja n sa tastature i potom popunjava listu l slučajnim brojevima\n",
    "iz intervala (-n; n) sve dok u listi ne bude n brojeva. Tako kreiranu listu sortirati (Merge Sort) po\n",
    "apsolutnoj vrijednosi. Na primjer, [-2, 1,-3, 2] -> [1,-2, 2, 3].\n",
    "\"\"\"\n",
    "\n",
    "def merge(lista):\n",
    "    if len(lista) > 1:\n",
    "        pola = len(lista) // 2\n",
    "        lijeva_l = lista[:pola]\n",
    "        desna_l = lista[pola:]\n",
    "        merge(lijeva_l)\n",
    "        merge(desna_l)\n",
    "        i, j, k = 0, 0, 0\n",
    "        while i < len(lijeva_l) and j < len(desna_l):\n",
    "            if abs(lijeva_l[i]) < abs(desna_l[j]):\n",
    "                lista[k] = lijeva_l[i]\n",
    "                i += 1\n",
    "            else:\n",
    "                lista[k] = desna_l[j]\n",
    "                j += 1\n",
    "            k += 1\n",
    "        while i < len(lijeva_l):\n",
    "            lista[k] = lijeva_l[i]\n",
    "            i += 1\n",
    "            k += 1\n",
    "        while j < len(desna_l):\n",
    "            lista[k] = desna_l[j]\n",
    "            j += 1\n",
    "            k += 1\n",
    "        return lista\n",
    "    else:\n",
    "        return lista\n",
    "\n",
    "l = [1, -2, 8, -3, -9, 5, -4]\n",
    "print(merge(l))"
   ]
  },
  {
   "cell_type": "code",
   "execution_count": 2,
   "id": "baf3d579",
   "metadata": {},
   "outputs": [
    {
     "name": "stdout",
     "output_type": "stream",
     "text": [
      "[['Pero Peric', 10], ['Ana Lazic', 11], ['Lazo Lazic', 11], ['Stefo Stefic', 15]]\n"
     ]
    }
   ],
   "source": [
    "# Zadatak 2\n",
    "\"\"\"\n",
    "Napraviti funkciju koja za argument uzima listu dvočlanih listi u kojima je prvi element ime\n",
    "i prezime neke osobe, a drugi broj godina te osobe. Funkcija treba da sortira ulaznu listu\n",
    "po sljedećem kriterijumu:\n",
    "Podlista `i` je manja od podliste `j` ako i samo ako je drugi element podliste `i` manji\n",
    "od drugog elementa podliste `j` (Broj godina osobe `i` je manji od osobe `j`).\n",
    "Ako osobe imaju isti broj godina, onda je manja osoba ona čije je ime i prezime kraće.\n",
    "\"\"\"\n",
    "\n",
    "def sortiranje(l):\n",
    "    for i in range (0, len(l)):\n",
    "        for j in range(len(l) - 1, i, -1):\n",
    "            if l[j][1] < l[j-1][1]:\n",
    "                l[j], l[j-1] = l[j-1], l[j]\n",
    "            elif l[j][1] == l[j-1][1]:\n",
    "                if len(l[j][0]) < len(l[j-1][0]):\n",
    "                     l[j], l[j-1] = l[j-1], l[j]\n",
    "\n",
    "l = [[\"Stefo Stefic\", 15], [\"Pero Peric\", 10], [\"Lazo Lazic\", 11], [\"Ana Lazic\", 11]]\n",
    "sortiranje(l)\n",
    "print (l)"
   ]
  },
  {
   "cell_type": "code",
   "execution_count": 4,
   "id": "069451bd",
   "metadata": {},
   "outputs": [
    {
     "name": "stdout",
     "output_type": "stream",
     "text": [
      "Unesite neki karakter!a\n",
      "['sdsd', 'sc', 'adsvc', 'ascs', 'asdacad']\n"
     ]
    }
   ],
   "source": [
    "# Zadatak 3\n",
    "\n",
    "\"\"\"\n",
    "Napraviti program koji zahtijeva unos nekog karaktera sa tastature i u programu napraviti funkciju\n",
    "koja za argument uzima listu i karakter koji je unijet sa tastature, a vraća sortiranu listu koja\n",
    "je nastala sortiranjem (Quick Sort) ulazne liste. Kriterijum za sortiranje je sljedeći:\n",
    "  Element `i` je manji od elementa `j` ako i samo ako se u stringu `i` nalazi manje karaktera koji\n",
    "  su jednaki ulaznom karakteru nego u stringu j.\n",
    "\"\"\"\n",
    "\n",
    "k = input(\"Unesite neki karakter: \")\n",
    "while len(k) != 1:\n",
    "    k = input(\"Niste unijeli karakter, pokusajte ponovno!\")\n",
    "\n",
    "def qsort(lista, k):\n",
    "    manje = []\n",
    "    jednako = []\n",
    "    vece = []\n",
    "\n",
    "    if len(lista) > 1:\n",
    "        pivot = lista[0].count(k)\n",
    "        for i in lista:\n",
    "            if i.count(k) < pivot:\n",
    "                manje.append(i)\n",
    "            elif i.count(k) == pivot:\n",
    "                jednako.append(i)\n",
    "            else:\n",
    "                vece.append(i)\n",
    "        return qsort(manje, k) + jednako + qsort(vece,k)\n",
    "    else:\n",
    "        return lista\n",
    "\n",
    "L = [\"asdacad\",\"adsvc\",\"ascs\",\"sdsd\",\"sc\"]\n",
    "print (qsort(L, k))"
   ]
  }
 ],
 "metadata": {
  "kernelspec": {
   "display_name": "Python 3 (ipykernel)",
   "language": "python",
   "name": "python3"
  },
  "language_info": {
   "codemirror_mode": {
    "name": "ipython",
    "version": 3
   },
   "file_extension": ".py",
   "mimetype": "text/x-python",
   "name": "python",
   "nbconvert_exporter": "python",
   "pygments_lexer": "ipython3",
   "version": "3.10.13"
  }
 },
 "nbformat": 4,
 "nbformat_minor": 5
}
